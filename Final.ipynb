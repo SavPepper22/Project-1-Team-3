{
 "cells": [
  {
   "cell_type": "code",
   "execution_count": 1,
   "id": "ef3250cf-14fc-4d3f-b56b-486ce36c72cd",
   "metadata": {},
   "outputs": [],
   "source": [
    "# Project 1 Team 3\n",
    "import numpy as np\n",
    "import matplotlib.pyplot as plt\n",
    "import pandas as pd\n",
    "import os\n",
    "import plotly.graph_objects as go\n",
    "\n",
    "archive_path = \"archive/MoviesOnStreamingPlatforms.csv\"\n",
    "ticket_sales_path = \"TicketSales/AnnualTicketSales.csv\"\n",
    "gross_path = \"TicketSales/HighestGrossers.csv\"\n",
    "creative_types_path = \"TicketSales/PopularCreativeTypes.csv\"\n",
    "top_distributors_path = \"TicketSales/TopDistributors.csv\"\n",
    "top_genres_path = \"TicketSales/TopGenres.csv\"\n",
    "top_gross_ratings_path = \"TicketSales/TopGrossingRatings.csv\"\n",
    "top_gross_source_path = \"TicketSales/TopGrossingSources.csv\"\n",
    "top_production_path = \"TicketSales/TopProductionMethods.csv\"\n",
    "subscriber_count_path = \"subscription/svod-subscriber-count.csv\"\n",
    "ticket_sold_path = \"subscription/tickets-sold-at-box-offices.csv\"\n",
    "subscription_price_path = \"subscription/svod-services-monthly-subscription-price.csv\"\n",
    "user_share_path = \"subscription/svod-service-user-shares.csv\"\n",
    "hulu_subscribers = \"subscription/hulus-paying-subscribers-copy.csv\"\n",
    "disney_subscribers = \"subscription/disney-subscribers-count-copy.csv\"\n",
    "home_vs_theater_path = \"subscription/adults-who-preferred-to-watch-films-in-a-theater-or-at-home.csv\"\n",
    "netflix_subscribers = \"subscription/statistic_id250937_quarterly-netflix-paid-streaming-subscribers-in-the-us-and-canada-2013-2023-copy.csv\"\n",
    "alberto_hulus = \"subscription/alberto-hulus.csv\"\n",
    "alberto_disney = \"subscription/alberto-disney.csv\"\n",
    "alberto_netflix = \"subscription/alberto-netflix.csv\"\n",
    "alberto_box_office = \"subscription/alberto-box-office.csv\"\n",
    "\n",
    "df_archive = pd.read_csv(archive_path)\n",
    "df_ticket_sales = pd.read_csv(ticket_sales_path)\n",
    "df_gross = pd.read_csv(gross_path)\n",
    "df_creative_types = pd.read_csv(creative_types_path)\n",
    "df_top_distributors = pd.read_csv(top_distributors_path)\n",
    "df_genres = pd.read_csv(top_genres_path)\n",
    "df_ratings = pd.read_csv(top_gross_ratings_path)\n",
    "df_source = pd.read_csv(top_gross_source_path)\n",
    "df_production = pd.read_csv(top_production_path)\n",
    "df_sub_count = pd.read_csv(subscriber_count_path)\n",
    "df_ticket_sold = pd.read_csv(ticket_sold_path)\n",
    "df_sub_price = pd.read_csv(subscription_price_path)\n",
    "df_user_share = pd.read_csv(user_share_path)\n",
    "df_hulu = pd.read_csv(hulu_subscribers)\n",
    "df_disney = pd.read_csv(disney_subscribers)\n",
    "df_home_vs_theater = pd.read_csv(home_vs_theater_path)\n",
    "df_netflix = pd.read_csv(netflix_subscribers)\n",
    "df_anetflix = pd.read_csv(alberto_netflix)\n",
    "df_ahulus = pd.read_csv(alberto_hulus)\n",
    "df_adisney = pd.read_csv(alberto_disney)\n",
    "df_box_office = pd.read_csv(alberto_box_office)\n",
    "\n",
    "\n"
   ]
  },
  {
   "cell_type": "code",
   "execution_count": null,
   "id": "e38f8487",
   "metadata": {},
   "outputs": [],
   "source": []
  },
  {
   "cell_type": "code",
   "execution_count": null,
   "id": "8e5c9153-507c-4e8a-af93-2fdec0eed5d8",
   "metadata": {},
   "outputs": [],
   "source": [
    "\n"
   ]
  },
  {
   "cell_type": "code",
   "execution_count": 2,
   "id": "594f8899-51c4-4da2-915e-ca9508945b9a",
   "metadata": {},
   "outputs": [],
   "source": [
    "# Merge Hulu, Disney, and Netflix Subs"
   ]
  },
  {
   "cell_type": "code",
   "execution_count": 3,
   "id": "2c997421-249b-4137-ad25-a8d145bdb4ca",
   "metadata": {},
   "outputs": [
    {
     "data": {
      "text/html": [
       "<div>\n",
       "<style scoped>\n",
       "    .dataframe tbody tr th:only-of-type {\n",
       "        vertical-align: middle;\n",
       "    }\n",
       "\n",
       "    .dataframe tbody tr th {\n",
       "        vertical-align: top;\n",
       "    }\n",
       "\n",
       "    .dataframe thead th {\n",
       "        text-align: right;\n",
       "    }\n",
       "</style>\n",
       "<table border=\"1\" class=\"dataframe\">\n",
       "  <thead>\n",
       "    <tr style=\"text-align: right;\">\n",
       "      <th></th>\n",
       "      <th>Quarter</th>\n",
       "      <th>Year</th>\n",
       "      <th>Subs</th>\n",
       "      <th>Company</th>\n",
       "    </tr>\n",
       "  </thead>\n",
       "  <tbody>\n",
       "    <tr>\n",
       "      <th>0</th>\n",
       "      <td>Q4</td>\n",
       "      <td>2010</td>\n",
       "      <td>0.30</td>\n",
       "      <td>Hulu</td>\n",
       "    </tr>\n",
       "    <tr>\n",
       "      <th>1</th>\n",
       "      <td>Q1</td>\n",
       "      <td>2011</td>\n",
       "      <td>0.50</td>\n",
       "      <td>Hulu</td>\n",
       "    </tr>\n",
       "    <tr>\n",
       "      <th>2</th>\n",
       "      <td>Q2</td>\n",
       "      <td>2011</td>\n",
       "      <td>0.90</td>\n",
       "      <td>Hulu</td>\n",
       "    </tr>\n",
       "    <tr>\n",
       "      <th>3</th>\n",
       "      <td>Q3</td>\n",
       "      <td>2011</td>\n",
       "      <td>1.20</td>\n",
       "      <td>Hulu</td>\n",
       "    </tr>\n",
       "    <tr>\n",
       "      <th>4</th>\n",
       "      <td>Q4</td>\n",
       "      <td>2011</td>\n",
       "      <td>1.50</td>\n",
       "      <td>Hulu</td>\n",
       "    </tr>\n",
       "    <tr>\n",
       "      <th>...</th>\n",
       "      <td>...</td>\n",
       "      <td>...</td>\n",
       "      <td>...</td>\n",
       "      <td>...</td>\n",
       "    </tr>\n",
       "    <tr>\n",
       "      <th>88</th>\n",
       "      <td>Q1</td>\n",
       "      <td>2022</td>\n",
       "      <td>74.58</td>\n",
       "      <td>Netflix</td>\n",
       "    </tr>\n",
       "    <tr>\n",
       "      <th>89</th>\n",
       "      <td>Q2</td>\n",
       "      <td>2022</td>\n",
       "      <td>73.28</td>\n",
       "      <td>Netflix</td>\n",
       "    </tr>\n",
       "    <tr>\n",
       "      <th>90</th>\n",
       "      <td>Q3</td>\n",
       "      <td>2022</td>\n",
       "      <td>73.39</td>\n",
       "      <td>Netflix</td>\n",
       "    </tr>\n",
       "    <tr>\n",
       "      <th>91</th>\n",
       "      <td>Q4</td>\n",
       "      <td>2022</td>\n",
       "      <td>74.30</td>\n",
       "      <td>Netflix</td>\n",
       "    </tr>\n",
       "    <tr>\n",
       "      <th>92</th>\n",
       "      <td>Q1</td>\n",
       "      <td>2023</td>\n",
       "      <td>74.40</td>\n",
       "      <td>Netflix</td>\n",
       "    </tr>\n",
       "  </tbody>\n",
       "</table>\n",
       "<p>93 rows × 4 columns</p>\n",
       "</div>"
      ],
      "text/plain": [
       "   Quarter  Year   Subs  Company\n",
       "0       Q4  2010   0.30     Hulu\n",
       "1       Q1  2011   0.50     Hulu\n",
       "2       Q2  2011   0.90     Hulu\n",
       "3       Q3  2011   1.20     Hulu\n",
       "4       Q4  2011   1.50     Hulu\n",
       "..     ...   ...    ...      ...\n",
       "88      Q1  2022  74.58  Netflix\n",
       "89      Q2  2022  73.28  Netflix\n",
       "90      Q3  2022  73.39  Netflix\n",
       "91      Q4  2022  74.30  Netflix\n",
       "92      Q1  2023  74.40  Netflix\n",
       "\n",
       "[93 rows x 4 columns]"
      ]
     },
     "execution_count": 3,
     "metadata": {},
     "output_type": "execute_result"
    }
   ],
   "source": [
    "left = pd.read_csv(hulu_subscribers)\n",
    "right = pd.read_csv(disney_subscribers)\n",
    "right2 = pd.read_csv(netflix_subscribers)\n",
    "\n",
    "\n",
    "result = pd.merge(left, right, on=[\"Quarter\", \"Year\", \"Subs\", \"Company\"], how=\"outer\")\n",
    "\n",
    "final_result = pd.merge(result, right2, on=[\"Quarter\", \"Year\", \"Subs\", \"Company\"], how=\"outer\")\n",
    "\n",
    "final_result"
   ]
  },
  {
   "cell_type": "code",
   "execution_count": 33,
   "id": "2b682188-d2db-4746-a61f-90a2169e95b3",
   "metadata": {},
   "outputs": [
    {
     "name": "stdout",
     "output_type": "stream",
     "text": [
      "Hello world\n"
     ]
    }
   ],
   "source": [
    "print(\"Hello world\")"
   ]
  },
  {
   "cell_type": "code",
   "execution_count": 4,
   "id": "9a682bcb-71a1-4efa-809b-f86cbe17a09e",
   "metadata": {},
   "outputs": [
    {
     "data": {
      "text/html": [
       "<div>\n",
       "<style scoped>\n",
       "    .dataframe tbody tr th:only-of-type {\n",
       "        vertical-align: middle;\n",
       "    }\n",
       "\n",
       "    .dataframe tbody tr th {\n",
       "        vertical-align: top;\n",
       "    }\n",
       "\n",
       "    .dataframe thead th {\n",
       "        text-align: right;\n",
       "    }\n",
       "</style>\n",
       "<table border=\"1\" class=\"dataframe\">\n",
       "  <thead>\n",
       "    <tr style=\"text-align: right;\">\n",
       "      <th></th>\n",
       "      <th>Quarter</th>\n",
       "      <th>Year</th>\n",
       "      <th>Subs</th>\n",
       "      <th>Company</th>\n",
       "    </tr>\n",
       "  </thead>\n",
       "  <tbody>\n",
       "    <tr>\n",
       "      <th>0</th>\n",
       "      <td>Q4</td>\n",
       "      <td>2010</td>\n",
       "      <td>0.30</td>\n",
       "      <td>Hulu</td>\n",
       "    </tr>\n",
       "    <tr>\n",
       "      <th>1</th>\n",
       "      <td>Q1</td>\n",
       "      <td>2011</td>\n",
       "      <td>0.50</td>\n",
       "      <td>Hulu</td>\n",
       "    </tr>\n",
       "    <tr>\n",
       "      <th>2</th>\n",
       "      <td>Q2</td>\n",
       "      <td>2011</td>\n",
       "      <td>0.90</td>\n",
       "      <td>Hulu</td>\n",
       "    </tr>\n",
       "    <tr>\n",
       "      <th>3</th>\n",
       "      <td>Q3</td>\n",
       "      <td>2011</td>\n",
       "      <td>1.20</td>\n",
       "      <td>Hulu</td>\n",
       "    </tr>\n",
       "    <tr>\n",
       "      <th>4</th>\n",
       "      <td>Q4</td>\n",
       "      <td>2011</td>\n",
       "      <td>1.50</td>\n",
       "      <td>Hulu</td>\n",
       "    </tr>\n",
       "    <tr>\n",
       "      <th>5</th>\n",
       "      <td>Q1</td>\n",
       "      <td>2012</td>\n",
       "      <td>2.00</td>\n",
       "      <td>Hulu</td>\n",
       "    </tr>\n",
       "    <tr>\n",
       "      <th>6</th>\n",
       "      <td>Q2</td>\n",
       "      <td>2012</td>\n",
       "      <td>NaN</td>\n",
       "      <td>Hulu</td>\n",
       "    </tr>\n",
       "    <tr>\n",
       "      <th>7</th>\n",
       "      <td>Q3</td>\n",
       "      <td>2012</td>\n",
       "      <td>NaN</td>\n",
       "      <td>Hulu</td>\n",
       "    </tr>\n",
       "    <tr>\n",
       "      <th>8</th>\n",
       "      <td>Q4</td>\n",
       "      <td>2012</td>\n",
       "      <td>3.00</td>\n",
       "      <td>Hulu</td>\n",
       "    </tr>\n",
       "    <tr>\n",
       "      <th>9</th>\n",
       "      <td>Q1</td>\n",
       "      <td>2013</td>\n",
       "      <td>4.00</td>\n",
       "      <td>Hulu</td>\n",
       "    </tr>\n",
       "    <tr>\n",
       "      <th>10</th>\n",
       "      <td>Q2</td>\n",
       "      <td>2013</td>\n",
       "      <td>NaN</td>\n",
       "      <td>Hulu</td>\n",
       "    </tr>\n",
       "    <tr>\n",
       "      <th>11</th>\n",
       "      <td>Q3</td>\n",
       "      <td>2013</td>\n",
       "      <td>NaN</td>\n",
       "      <td>Hulu</td>\n",
       "    </tr>\n",
       "    <tr>\n",
       "      <th>12</th>\n",
       "      <td>Q4</td>\n",
       "      <td>2013</td>\n",
       "      <td>5.00</td>\n",
       "      <td>Hulu</td>\n",
       "    </tr>\n",
       "    <tr>\n",
       "      <th>13</th>\n",
       "      <td>Q1</td>\n",
       "      <td>2014</td>\n",
       "      <td>NaN</td>\n",
       "      <td>Hulu</td>\n",
       "    </tr>\n",
       "    <tr>\n",
       "      <th>14</th>\n",
       "      <td>Q2</td>\n",
       "      <td>2014</td>\n",
       "      <td>6.00</td>\n",
       "      <td>Hulu</td>\n",
       "    </tr>\n",
       "    <tr>\n",
       "      <th>15</th>\n",
       "      <td>Q2</td>\n",
       "      <td>2015</td>\n",
       "      <td>9.00</td>\n",
       "      <td>Hulu</td>\n",
       "    </tr>\n",
       "    <tr>\n",
       "      <th>16</th>\n",
       "      <td>Q2</td>\n",
       "      <td>2016</td>\n",
       "      <td>12.00</td>\n",
       "      <td>Hulu</td>\n",
       "    </tr>\n",
       "    <tr>\n",
       "      <th>17</th>\n",
       "      <td>Q4</td>\n",
       "      <td>2017</td>\n",
       "      <td>17.00</td>\n",
       "      <td>Hulu</td>\n",
       "    </tr>\n",
       "    <tr>\n",
       "      <th>18</th>\n",
       "      <td>Q2</td>\n",
       "      <td>2018</td>\n",
       "      <td>20.00</td>\n",
       "      <td>Hulu</td>\n",
       "    </tr>\n",
       "    <tr>\n",
       "      <th>19</th>\n",
       "      <td>Q3</td>\n",
       "      <td>2018</td>\n",
       "      <td>NaN</td>\n",
       "      <td>Hulu</td>\n",
       "    </tr>\n",
       "    <tr>\n",
       "      <th>20</th>\n",
       "      <td>Q1</td>\n",
       "      <td>2019</td>\n",
       "      <td>22.80</td>\n",
       "      <td>Hulu</td>\n",
       "    </tr>\n",
       "    <tr>\n",
       "      <th>21</th>\n",
       "      <td>Q2</td>\n",
       "      <td>2019</td>\n",
       "      <td>25.20</td>\n",
       "      <td>Hulu</td>\n",
       "    </tr>\n",
       "    <tr>\n",
       "      <th>22</th>\n",
       "      <td>Q3</td>\n",
       "      <td>2019</td>\n",
       "      <td>27.90</td>\n",
       "      <td>Hulu</td>\n",
       "    </tr>\n",
       "    <tr>\n",
       "      <th>23</th>\n",
       "      <td>Q4</td>\n",
       "      <td>2019</td>\n",
       "      <td>28.50</td>\n",
       "      <td>Hulu</td>\n",
       "    </tr>\n",
       "    <tr>\n",
       "      <th>52</th>\n",
       "      <td>Q1</td>\n",
       "      <td>2013</td>\n",
       "      <td>27.91</td>\n",
       "      <td>Netflix</td>\n",
       "    </tr>\n",
       "    <tr>\n",
       "      <th>53</th>\n",
       "      <td>Q2</td>\n",
       "      <td>2013</td>\n",
       "      <td>28.62</td>\n",
       "      <td>Netflix</td>\n",
       "    </tr>\n",
       "    <tr>\n",
       "      <th>54</th>\n",
       "      <td>Q3</td>\n",
       "      <td>2013</td>\n",
       "      <td>29.93</td>\n",
       "      <td>Netflix</td>\n",
       "    </tr>\n",
       "    <tr>\n",
       "      <th>55</th>\n",
       "      <td>Q4</td>\n",
       "      <td>2013</td>\n",
       "      <td>31.71</td>\n",
       "      <td>Netflix</td>\n",
       "    </tr>\n",
       "    <tr>\n",
       "      <th>56</th>\n",
       "      <td>Q1</td>\n",
       "      <td>2014</td>\n",
       "      <td>34.38</td>\n",
       "      <td>Netflix</td>\n",
       "    </tr>\n",
       "    <tr>\n",
       "      <th>57</th>\n",
       "      <td>Q2</td>\n",
       "      <td>2014</td>\n",
       "      <td>35.09</td>\n",
       "      <td>Netflix</td>\n",
       "    </tr>\n",
       "    <tr>\n",
       "      <th>58</th>\n",
       "      <td>Q3</td>\n",
       "      <td>2014</td>\n",
       "      <td>36.27</td>\n",
       "      <td>Netflix</td>\n",
       "    </tr>\n",
       "    <tr>\n",
       "      <th>59</th>\n",
       "      <td>Q4</td>\n",
       "      <td>2014</td>\n",
       "      <td>37.70</td>\n",
       "      <td>Netflix</td>\n",
       "    </tr>\n",
       "    <tr>\n",
       "      <th>60</th>\n",
       "      <td>Q1</td>\n",
       "      <td>2015</td>\n",
       "      <td>40.32</td>\n",
       "      <td>Netflix</td>\n",
       "    </tr>\n",
       "    <tr>\n",
       "      <th>61</th>\n",
       "      <td>Q2</td>\n",
       "      <td>2015</td>\n",
       "      <td>41.06</td>\n",
       "      <td>Netflix</td>\n",
       "    </tr>\n",
       "    <tr>\n",
       "      <th>62</th>\n",
       "      <td>Q3</td>\n",
       "      <td>2015</td>\n",
       "      <td>42.07</td>\n",
       "      <td>Netflix</td>\n",
       "    </tr>\n",
       "    <tr>\n",
       "      <th>63</th>\n",
       "      <td>Q4</td>\n",
       "      <td>2015</td>\n",
       "      <td>43.40</td>\n",
       "      <td>Netflix</td>\n",
       "    </tr>\n",
       "    <tr>\n",
       "      <th>64</th>\n",
       "      <td>Q1</td>\n",
       "      <td>2016</td>\n",
       "      <td>45.71</td>\n",
       "      <td>Netflix</td>\n",
       "    </tr>\n",
       "    <tr>\n",
       "      <th>65</th>\n",
       "      <td>Q2</td>\n",
       "      <td>2016</td>\n",
       "      <td>46.00</td>\n",
       "      <td>Netflix</td>\n",
       "    </tr>\n",
       "    <tr>\n",
       "      <th>66</th>\n",
       "      <td>Q3</td>\n",
       "      <td>2016</td>\n",
       "      <td>46.48</td>\n",
       "      <td>Netflix</td>\n",
       "    </tr>\n",
       "    <tr>\n",
       "      <th>67</th>\n",
       "      <td>Q4</td>\n",
       "      <td>2016</td>\n",
       "      <td>47.91</td>\n",
       "      <td>Netflix</td>\n",
       "    </tr>\n",
       "    <tr>\n",
       "      <th>68</th>\n",
       "      <td>Q1</td>\n",
       "      <td>2017</td>\n",
       "      <td>54.58</td>\n",
       "      <td>Netflix</td>\n",
       "    </tr>\n",
       "    <tr>\n",
       "      <th>69</th>\n",
       "      <td>Q2</td>\n",
       "      <td>2017</td>\n",
       "      <td>55.62</td>\n",
       "      <td>Netflix</td>\n",
       "    </tr>\n",
       "    <tr>\n",
       "      <th>70</th>\n",
       "      <td>Q3</td>\n",
       "      <td>2017</td>\n",
       "      <td>56.78</td>\n",
       "      <td>Netflix</td>\n",
       "    </tr>\n",
       "    <tr>\n",
       "      <th>71</th>\n",
       "      <td>Q4</td>\n",
       "      <td>2017</td>\n",
       "      <td>58.42</td>\n",
       "      <td>Netflix</td>\n",
       "    </tr>\n",
       "    <tr>\n",
       "      <th>72</th>\n",
       "      <td>Q1</td>\n",
       "      <td>2018</td>\n",
       "      <td>60.91</td>\n",
       "      <td>Netflix</td>\n",
       "    </tr>\n",
       "    <tr>\n",
       "      <th>73</th>\n",
       "      <td>Q2</td>\n",
       "      <td>2018</td>\n",
       "      <td>61.87</td>\n",
       "      <td>Netflix</td>\n",
       "    </tr>\n",
       "    <tr>\n",
       "      <th>74</th>\n",
       "      <td>Q3</td>\n",
       "      <td>2018</td>\n",
       "      <td>63.01</td>\n",
       "      <td>Netflix</td>\n",
       "    </tr>\n",
       "    <tr>\n",
       "      <th>75</th>\n",
       "      <td>Q4</td>\n",
       "      <td>2018</td>\n",
       "      <td>64.76</td>\n",
       "      <td>Netflix</td>\n",
       "    </tr>\n",
       "    <tr>\n",
       "      <th>76</th>\n",
       "      <td>Q1</td>\n",
       "      <td>2019</td>\n",
       "      <td>66.63</td>\n",
       "      <td>Netflix</td>\n",
       "    </tr>\n",
       "    <tr>\n",
       "      <th>77</th>\n",
       "      <td>Q2</td>\n",
       "      <td>2019</td>\n",
       "      <td>66.50</td>\n",
       "      <td>Netflix</td>\n",
       "    </tr>\n",
       "    <tr>\n",
       "      <th>78</th>\n",
       "      <td>Q3</td>\n",
       "      <td>2019</td>\n",
       "      <td>67.11</td>\n",
       "      <td>Netflix</td>\n",
       "    </tr>\n",
       "    <tr>\n",
       "      <th>79</th>\n",
       "      <td>Q4</td>\n",
       "      <td>2019</td>\n",
       "      <td>67.66</td>\n",
       "      <td>Netflix</td>\n",
       "    </tr>\n",
       "  </tbody>\n",
       "</table>\n",
       "</div>"
      ],
      "text/plain": [
       "   Quarter  Year   Subs  Company\n",
       "0       Q4  2010   0.30     Hulu\n",
       "1       Q1  2011   0.50     Hulu\n",
       "2       Q2  2011   0.90     Hulu\n",
       "3       Q3  2011   1.20     Hulu\n",
       "4       Q4  2011   1.50     Hulu\n",
       "5       Q1  2012   2.00     Hulu\n",
       "6       Q2  2012    NaN     Hulu\n",
       "7       Q3  2012    NaN     Hulu\n",
       "8       Q4  2012   3.00     Hulu\n",
       "9       Q1  2013   4.00     Hulu\n",
       "10      Q2  2013    NaN     Hulu\n",
       "11      Q3  2013    NaN     Hulu\n",
       "12      Q4  2013   5.00     Hulu\n",
       "13      Q1  2014    NaN     Hulu\n",
       "14      Q2  2014   6.00     Hulu\n",
       "15      Q2  2015   9.00     Hulu\n",
       "16      Q2  2016  12.00     Hulu\n",
       "17      Q4  2017  17.00     Hulu\n",
       "18      Q2  2018  20.00     Hulu\n",
       "19      Q3  2018    NaN     Hulu\n",
       "20      Q1  2019  22.80     Hulu\n",
       "21      Q2  2019  25.20     Hulu\n",
       "22      Q3  2019  27.90     Hulu\n",
       "23      Q4  2019  28.50     Hulu\n",
       "52      Q1  2013  27.91  Netflix\n",
       "53      Q2  2013  28.62  Netflix\n",
       "54      Q3  2013  29.93  Netflix\n",
       "55      Q4  2013  31.71  Netflix\n",
       "56      Q1  2014  34.38  Netflix\n",
       "57      Q2  2014  35.09  Netflix\n",
       "58      Q3  2014  36.27  Netflix\n",
       "59      Q4  2014  37.70  Netflix\n",
       "60      Q1  2015  40.32  Netflix\n",
       "61      Q2  2015  41.06  Netflix\n",
       "62      Q3  2015  42.07  Netflix\n",
       "63      Q4  2015  43.40  Netflix\n",
       "64      Q1  2016  45.71  Netflix\n",
       "65      Q2  2016  46.00  Netflix\n",
       "66      Q3  2016  46.48  Netflix\n",
       "67      Q4  2016  47.91  Netflix\n",
       "68      Q1  2017  54.58  Netflix\n",
       "69      Q2  2017  55.62  Netflix\n",
       "70      Q3  2017  56.78  Netflix\n",
       "71      Q4  2017  58.42  Netflix\n",
       "72      Q1  2018  60.91  Netflix\n",
       "73      Q2  2018  61.87  Netflix\n",
       "74      Q3  2018  63.01  Netflix\n",
       "75      Q4  2018  64.76  Netflix\n",
       "76      Q1  2019  66.63  Netflix\n",
       "77      Q2  2019  66.50  Netflix\n",
       "78      Q3  2019  67.11  Netflix\n",
       "79      Q4  2019  67.66  Netflix"
      ]
     },
     "execution_count": 4,
     "metadata": {},
     "output_type": "execute_result"
    }
   ],
   "source": [
    "#Define data that seperates the covid vs precovid years\n",
    "#Precovid years 2017-2019 covid years 2020-2022\n",
    "PreCovid_Yearly = final_result[~final_result['Year'].isin([2020,2021,2022,2023])]\n",
    "\n",
    "\n",
    "\n",
    "PreCovid_Yearly"
   ]
  },
  {
   "cell_type": "code",
   "execution_count": 5,
   "id": "b2871d0d-4af2-4ef1-93c7-dd437fc0ca75",
   "metadata": {},
   "outputs": [
    {
     "data": {
      "text/html": [
       "<div>\n",
       "<style scoped>\n",
       "    .dataframe tbody tr th:only-of-type {\n",
       "        vertical-align: middle;\n",
       "    }\n",
       "\n",
       "    .dataframe tbody tr th {\n",
       "        vertical-align: top;\n",
       "    }\n",
       "\n",
       "    .dataframe thead th {\n",
       "        text-align: right;\n",
       "    }\n",
       "</style>\n",
       "<table border=\"1\" class=\"dataframe\">\n",
       "  <thead>\n",
       "    <tr style=\"text-align: right;\">\n",
       "      <th></th>\n",
       "      <th>Quarter</th>\n",
       "      <th>Year</th>\n",
       "      <th>Subs</th>\n",
       "      <th>Company</th>\n",
       "    </tr>\n",
       "  </thead>\n",
       "  <tbody>\n",
       "    <tr>\n",
       "      <th>24</th>\n",
       "      <td>Q1</td>\n",
       "      <td>2020</td>\n",
       "      <td>30.40</td>\n",
       "      <td>Hulu</td>\n",
       "    </tr>\n",
       "    <tr>\n",
       "      <th>25</th>\n",
       "      <td>Q2</td>\n",
       "      <td>2020</td>\n",
       "      <td>32.10</td>\n",
       "      <td>Hulu</td>\n",
       "    </tr>\n",
       "    <tr>\n",
       "      <th>26</th>\n",
       "      <td>Q3</td>\n",
       "      <td>2020</td>\n",
       "      <td>35.50</td>\n",
       "      <td>Hulu</td>\n",
       "    </tr>\n",
       "    <tr>\n",
       "      <th>27</th>\n",
       "      <td>Q4</td>\n",
       "      <td>2020</td>\n",
       "      <td>36.60</td>\n",
       "      <td>Hulu</td>\n",
       "    </tr>\n",
       "    <tr>\n",
       "      <th>28</th>\n",
       "      <td>Q1</td>\n",
       "      <td>2021</td>\n",
       "      <td>39.40</td>\n",
       "      <td>Hulu</td>\n",
       "    </tr>\n",
       "    <tr>\n",
       "      <th>29</th>\n",
       "      <td>Q2</td>\n",
       "      <td>2021</td>\n",
       "      <td>41.60</td>\n",
       "      <td>Hulu</td>\n",
       "    </tr>\n",
       "    <tr>\n",
       "      <th>30</th>\n",
       "      <td>Q3</td>\n",
       "      <td>2021</td>\n",
       "      <td>42.80</td>\n",
       "      <td>Hulu</td>\n",
       "    </tr>\n",
       "    <tr>\n",
       "      <th>31</th>\n",
       "      <td>Q4</td>\n",
       "      <td>2021</td>\n",
       "      <td>43.80</td>\n",
       "      <td>Hulu</td>\n",
       "    </tr>\n",
       "    <tr>\n",
       "      <th>32</th>\n",
       "      <td>Q1</td>\n",
       "      <td>2022</td>\n",
       "      <td>45.30</td>\n",
       "      <td>Hulu</td>\n",
       "    </tr>\n",
       "    <tr>\n",
       "      <th>33</th>\n",
       "      <td>Q2</td>\n",
       "      <td>2022</td>\n",
       "      <td>45.60</td>\n",
       "      <td>Hulu</td>\n",
       "    </tr>\n",
       "    <tr>\n",
       "      <th>34</th>\n",
       "      <td>Q3</td>\n",
       "      <td>2022</td>\n",
       "      <td>46.20</td>\n",
       "      <td>Hulu</td>\n",
       "    </tr>\n",
       "    <tr>\n",
       "      <th>35</th>\n",
       "      <td>Q4</td>\n",
       "      <td>2022</td>\n",
       "      <td>47.20</td>\n",
       "      <td>Hulu</td>\n",
       "    </tr>\n",
       "    <tr>\n",
       "      <th>38</th>\n",
       "      <td>Q1</td>\n",
       "      <td>2020</td>\n",
       "      <td>26.50</td>\n",
       "      <td>Disney</td>\n",
       "    </tr>\n",
       "    <tr>\n",
       "      <th>39</th>\n",
       "      <td>Q2</td>\n",
       "      <td>2020</td>\n",
       "      <td>33.50</td>\n",
       "      <td>Disney</td>\n",
       "    </tr>\n",
       "    <tr>\n",
       "      <th>40</th>\n",
       "      <td>Q3</td>\n",
       "      <td>2020</td>\n",
       "      <td>222.50</td>\n",
       "      <td>Disney</td>\n",
       "    </tr>\n",
       "    <tr>\n",
       "      <th>41</th>\n",
       "      <td>Q4</td>\n",
       "      <td>2020</td>\n",
       "      <td>73.70</td>\n",
       "      <td>Disney</td>\n",
       "    </tr>\n",
       "    <tr>\n",
       "      <th>42</th>\n",
       "      <td>Q1</td>\n",
       "      <td>2021</td>\n",
       "      <td>94.90</td>\n",
       "      <td>Disney</td>\n",
       "    </tr>\n",
       "    <tr>\n",
       "      <th>43</th>\n",
       "      <td>Q2</td>\n",
       "      <td>2021</td>\n",
       "      <td>103.60</td>\n",
       "      <td>Disney</td>\n",
       "    </tr>\n",
       "    <tr>\n",
       "      <th>44</th>\n",
       "      <td>Q3</td>\n",
       "      <td>2021</td>\n",
       "      <td>116.00</td>\n",
       "      <td>Disney</td>\n",
       "    </tr>\n",
       "    <tr>\n",
       "      <th>45</th>\n",
       "      <td>Q4</td>\n",
       "      <td>2021</td>\n",
       "      <td>118.10</td>\n",
       "      <td>Disney</td>\n",
       "    </tr>\n",
       "    <tr>\n",
       "      <th>46</th>\n",
       "      <td>Q1</td>\n",
       "      <td>2022</td>\n",
       "      <td>129.80</td>\n",
       "      <td>Disney</td>\n",
       "    </tr>\n",
       "    <tr>\n",
       "      <th>47</th>\n",
       "      <td>Q2</td>\n",
       "      <td>2022</td>\n",
       "      <td>137.70</td>\n",
       "      <td>Disney</td>\n",
       "    </tr>\n",
       "    <tr>\n",
       "      <th>48</th>\n",
       "      <td>Q3</td>\n",
       "      <td>2022</td>\n",
       "      <td>152.10</td>\n",
       "      <td>Disney</td>\n",
       "    </tr>\n",
       "    <tr>\n",
       "      <th>49</th>\n",
       "      <td>Q4</td>\n",
       "      <td>2022</td>\n",
       "      <td>164.20</td>\n",
       "      <td>Disney</td>\n",
       "    </tr>\n",
       "    <tr>\n",
       "      <th>80</th>\n",
       "      <td>Q1</td>\n",
       "      <td>2020</td>\n",
       "      <td>69.97</td>\n",
       "      <td>Netflix</td>\n",
       "    </tr>\n",
       "    <tr>\n",
       "      <th>81</th>\n",
       "      <td>Q2</td>\n",
       "      <td>2020</td>\n",
       "      <td>72.90</td>\n",
       "      <td>Netflix</td>\n",
       "    </tr>\n",
       "    <tr>\n",
       "      <th>82</th>\n",
       "      <td>Q3</td>\n",
       "      <td>2020</td>\n",
       "      <td>73.08</td>\n",
       "      <td>Netflix</td>\n",
       "    </tr>\n",
       "    <tr>\n",
       "      <th>83</th>\n",
       "      <td>Q4</td>\n",
       "      <td>2020</td>\n",
       "      <td>73.94</td>\n",
       "      <td>Netflix</td>\n",
       "    </tr>\n",
       "    <tr>\n",
       "      <th>84</th>\n",
       "      <td>Q1</td>\n",
       "      <td>2021</td>\n",
       "      <td>74.38</td>\n",
       "      <td>Netflix</td>\n",
       "    </tr>\n",
       "    <tr>\n",
       "      <th>85</th>\n",
       "      <td>Q2</td>\n",
       "      <td>2021</td>\n",
       "      <td>73.95</td>\n",
       "      <td>Netflix</td>\n",
       "    </tr>\n",
       "    <tr>\n",
       "      <th>86</th>\n",
       "      <td>Q3</td>\n",
       "      <td>2021</td>\n",
       "      <td>74.02</td>\n",
       "      <td>Netflix</td>\n",
       "    </tr>\n",
       "    <tr>\n",
       "      <th>87</th>\n",
       "      <td>Q4</td>\n",
       "      <td>2021</td>\n",
       "      <td>75.22</td>\n",
       "      <td>Netflix</td>\n",
       "    </tr>\n",
       "    <tr>\n",
       "      <th>88</th>\n",
       "      <td>Q1</td>\n",
       "      <td>2022</td>\n",
       "      <td>74.58</td>\n",
       "      <td>Netflix</td>\n",
       "    </tr>\n",
       "    <tr>\n",
       "      <th>89</th>\n",
       "      <td>Q2</td>\n",
       "      <td>2022</td>\n",
       "      <td>73.28</td>\n",
       "      <td>Netflix</td>\n",
       "    </tr>\n",
       "    <tr>\n",
       "      <th>90</th>\n",
       "      <td>Q3</td>\n",
       "      <td>2022</td>\n",
       "      <td>73.39</td>\n",
       "      <td>Netflix</td>\n",
       "    </tr>\n",
       "    <tr>\n",
       "      <th>91</th>\n",
       "      <td>Q4</td>\n",
       "      <td>2022</td>\n",
       "      <td>74.30</td>\n",
       "      <td>Netflix</td>\n",
       "    </tr>\n",
       "  </tbody>\n",
       "</table>\n",
       "</div>"
      ],
      "text/plain": [
       "   Quarter  Year    Subs  Company\n",
       "24      Q1  2020   30.40     Hulu\n",
       "25      Q2  2020   32.10     Hulu\n",
       "26      Q3  2020   35.50     Hulu\n",
       "27      Q4  2020   36.60     Hulu\n",
       "28      Q1  2021   39.40     Hulu\n",
       "29      Q2  2021   41.60     Hulu\n",
       "30      Q3  2021   42.80     Hulu\n",
       "31      Q4  2021   43.80     Hulu\n",
       "32      Q1  2022   45.30     Hulu\n",
       "33      Q2  2022   45.60     Hulu\n",
       "34      Q3  2022   46.20     Hulu\n",
       "35      Q4  2022   47.20     Hulu\n",
       "38      Q1  2020   26.50   Disney\n",
       "39      Q2  2020   33.50   Disney\n",
       "40      Q3  2020  222.50   Disney\n",
       "41      Q4  2020   73.70   Disney\n",
       "42      Q1  2021   94.90   Disney\n",
       "43      Q2  2021  103.60   Disney\n",
       "44      Q3  2021  116.00   Disney\n",
       "45      Q4  2021  118.10   Disney\n",
       "46      Q1  2022  129.80   Disney\n",
       "47      Q2  2022  137.70   Disney\n",
       "48      Q3  2022  152.10   Disney\n",
       "49      Q4  2022  164.20   Disney\n",
       "80      Q1  2020   69.97  Netflix\n",
       "81      Q2  2020   72.90  Netflix\n",
       "82      Q3  2020   73.08  Netflix\n",
       "83      Q4  2020   73.94  Netflix\n",
       "84      Q1  2021   74.38  Netflix\n",
       "85      Q2  2021   73.95  Netflix\n",
       "86      Q3  2021   74.02  Netflix\n",
       "87      Q4  2021   75.22  Netflix\n",
       "88      Q1  2022   74.58  Netflix\n",
       "89      Q2  2022   73.28  Netflix\n",
       "90      Q3  2022   73.39  Netflix\n",
       "91      Q4  2022   74.30  Netflix"
      ]
     },
     "execution_count": 5,
     "metadata": {},
     "output_type": "execute_result"
    }
   ],
   "source": [
    "Covid_Yearly = final_result[~final_result['Year'].isin([2010,2011,2012,2013,2014,2015,2016,2017,2018,2019,2023])]\n",
    "\n",
    "\n",
    "\n",
    "Covid_Yearly"
   ]
  },
  {
   "cell_type": "code",
   "execution_count": 6,
   "id": "31a61ccc-bb90-4d81-b084-50205ff6e8a3",
   "metadata": {},
   "outputs": [
    {
     "data": {
      "text/html": [
       "<div>\n",
       "<style scoped>\n",
       "    .dataframe tbody tr th:only-of-type {\n",
       "        vertical-align: middle;\n",
       "    }\n",
       "\n",
       "    .dataframe tbody tr th {\n",
       "        vertical-align: top;\n",
       "    }\n",
       "\n",
       "    .dataframe thead th {\n",
       "        text-align: right;\n",
       "    }\n",
       "</style>\n",
       "<table border=\"1\" class=\"dataframe\">\n",
       "  <thead>\n",
       "    <tr style=\"text-align: right;\">\n",
       "      <th></th>\n",
       "      <th>Year</th>\n",
       "      <th>Company</th>\n",
       "      <th>Subs(million)</th>\n",
       "    </tr>\n",
       "  </thead>\n",
       "  <tbody>\n",
       "    <tr>\n",
       "      <th>0</th>\n",
       "      <td>2010</td>\n",
       "      <td>Hulu</td>\n",
       "      <td>0.3000</td>\n",
       "    </tr>\n",
       "    <tr>\n",
       "      <th>1</th>\n",
       "      <td>2011</td>\n",
       "      <td>Hulu</td>\n",
       "      <td>1.0250</td>\n",
       "    </tr>\n",
       "    <tr>\n",
       "      <th>2</th>\n",
       "      <td>2012</td>\n",
       "      <td>Hulu</td>\n",
       "      <td>2.5000</td>\n",
       "    </tr>\n",
       "    <tr>\n",
       "      <th>3</th>\n",
       "      <td>2013</td>\n",
       "      <td>Hulu</td>\n",
       "      <td>4.5000</td>\n",
       "    </tr>\n",
       "    <tr>\n",
       "      <th>4</th>\n",
       "      <td>2013</td>\n",
       "      <td>Netflix</td>\n",
       "      <td>29.5425</td>\n",
       "    </tr>\n",
       "    <tr>\n",
       "      <th>5</th>\n",
       "      <td>2014</td>\n",
       "      <td>Hulu</td>\n",
       "      <td>6.0000</td>\n",
       "    </tr>\n",
       "    <tr>\n",
       "      <th>6</th>\n",
       "      <td>2014</td>\n",
       "      <td>Netflix</td>\n",
       "      <td>35.8600</td>\n",
       "    </tr>\n",
       "    <tr>\n",
       "      <th>7</th>\n",
       "      <td>2015</td>\n",
       "      <td>Hulu</td>\n",
       "      <td>9.0000</td>\n",
       "    </tr>\n",
       "    <tr>\n",
       "      <th>8</th>\n",
       "      <td>2015</td>\n",
       "      <td>Netflix</td>\n",
       "      <td>41.7125</td>\n",
       "    </tr>\n",
       "    <tr>\n",
       "      <th>9</th>\n",
       "      <td>2016</td>\n",
       "      <td>Hulu</td>\n",
       "      <td>12.0000</td>\n",
       "    </tr>\n",
       "    <tr>\n",
       "      <th>10</th>\n",
       "      <td>2016</td>\n",
       "      <td>Netflix</td>\n",
       "      <td>46.5250</td>\n",
       "    </tr>\n",
       "    <tr>\n",
       "      <th>11</th>\n",
       "      <td>2017</td>\n",
       "      <td>Hulu</td>\n",
       "      <td>17.0000</td>\n",
       "    </tr>\n",
       "    <tr>\n",
       "      <th>12</th>\n",
       "      <td>2017</td>\n",
       "      <td>Netflix</td>\n",
       "      <td>56.3500</td>\n",
       "    </tr>\n",
       "    <tr>\n",
       "      <th>13</th>\n",
       "      <td>2018</td>\n",
       "      <td>Hulu</td>\n",
       "      <td>20.0000</td>\n",
       "    </tr>\n",
       "    <tr>\n",
       "      <th>14</th>\n",
       "      <td>2018</td>\n",
       "      <td>Netflix</td>\n",
       "      <td>62.6375</td>\n",
       "    </tr>\n",
       "    <tr>\n",
       "      <th>15</th>\n",
       "      <td>2019</td>\n",
       "      <td>Hulu</td>\n",
       "      <td>26.1000</td>\n",
       "    </tr>\n",
       "    <tr>\n",
       "      <th>16</th>\n",
       "      <td>2019</td>\n",
       "      <td>Netflix</td>\n",
       "      <td>66.9750</td>\n",
       "    </tr>\n",
       "  </tbody>\n",
       "</table>\n",
       "</div>"
      ],
      "text/plain": [
       "    Year  Company  Subs(million)\n",
       "0   2010     Hulu         0.3000\n",
       "1   2011     Hulu         1.0250\n",
       "2   2012     Hulu         2.5000\n",
       "3   2013     Hulu         4.5000\n",
       "4   2013  Netflix        29.5425\n",
       "5   2014     Hulu         6.0000\n",
       "6   2014  Netflix        35.8600\n",
       "7   2015     Hulu         9.0000\n",
       "8   2015  Netflix        41.7125\n",
       "9   2016     Hulu        12.0000\n",
       "10  2016  Netflix        46.5250\n",
       "11  2017     Hulu        17.0000\n",
       "12  2017  Netflix        56.3500\n",
       "13  2018     Hulu        20.0000\n",
       "14  2018  Netflix        62.6375\n",
       "15  2019     Hulu        26.1000\n",
       "16  2019  Netflix        66.9750"
      ]
     },
     "execution_count": 6,
     "metadata": {},
     "output_type": "execute_result"
    }
   ],
   "source": [
    "#Drop the quarter column from our dataframes and clean it up\n",
    "#Notice we had multiple years due to the data was calculated in quarters for the years\n",
    "PreCovid_Subs= PreCovid_Yearly.drop(columns=[\"Quarter\"])\n",
    "#try groupby method\n",
    "final_PreCovid = PreCovid_Subs.groupby(['Year', 'Company']).agg({'Subs': ['mean']})\n",
    "#create a column and reset index\n",
    "final_PreCovid.columns = ['Subs(million)']\n",
    "\n",
    "final_PreCovid = final_PreCovid.reset_index()\n",
    "\n",
    "\n",
    "final_PreCovid"
   ]
  },
  {
   "cell_type": "code",
   "execution_count": 7,
   "id": "d23d57d1-bc01-489c-86e6-306694f6e9b2",
   "metadata": {},
   "outputs": [
    {
     "data": {
      "text/html": [
       "<div>\n",
       "<style scoped>\n",
       "    .dataframe tbody tr th:only-of-type {\n",
       "        vertical-align: middle;\n",
       "    }\n",
       "\n",
       "    .dataframe tbody tr th {\n",
       "        vertical-align: top;\n",
       "    }\n",
       "\n",
       "    .dataframe thead th {\n",
       "        text-align: right;\n",
       "    }\n",
       "</style>\n",
       "<table border=\"1\" class=\"dataframe\">\n",
       "  <thead>\n",
       "    <tr style=\"text-align: right;\">\n",
       "      <th></th>\n",
       "      <th>Year</th>\n",
       "      <th>Company</th>\n",
       "      <th>Subs(million)</th>\n",
       "    </tr>\n",
       "  </thead>\n",
       "  <tbody>\n",
       "    <tr>\n",
       "      <th>0</th>\n",
       "      <td>2020</td>\n",
       "      <td>Disney</td>\n",
       "      <td>89.0500</td>\n",
       "    </tr>\n",
       "    <tr>\n",
       "      <th>1</th>\n",
       "      <td>2020</td>\n",
       "      <td>Hulu</td>\n",
       "      <td>33.6500</td>\n",
       "    </tr>\n",
       "    <tr>\n",
       "      <th>2</th>\n",
       "      <td>2020</td>\n",
       "      <td>Netflix</td>\n",
       "      <td>72.4725</td>\n",
       "    </tr>\n",
       "    <tr>\n",
       "      <th>3</th>\n",
       "      <td>2021</td>\n",
       "      <td>Disney</td>\n",
       "      <td>108.1500</td>\n",
       "    </tr>\n",
       "    <tr>\n",
       "      <th>4</th>\n",
       "      <td>2021</td>\n",
       "      <td>Hulu</td>\n",
       "      <td>41.9000</td>\n",
       "    </tr>\n",
       "    <tr>\n",
       "      <th>5</th>\n",
       "      <td>2021</td>\n",
       "      <td>Netflix</td>\n",
       "      <td>74.3925</td>\n",
       "    </tr>\n",
       "    <tr>\n",
       "      <th>6</th>\n",
       "      <td>2022</td>\n",
       "      <td>Disney</td>\n",
       "      <td>145.9500</td>\n",
       "    </tr>\n",
       "    <tr>\n",
       "      <th>7</th>\n",
       "      <td>2022</td>\n",
       "      <td>Hulu</td>\n",
       "      <td>46.0750</td>\n",
       "    </tr>\n",
       "    <tr>\n",
       "      <th>8</th>\n",
       "      <td>2022</td>\n",
       "      <td>Netflix</td>\n",
       "      <td>73.8875</td>\n",
       "    </tr>\n",
       "  </tbody>\n",
       "</table>\n",
       "</div>"
      ],
      "text/plain": [
       "   Year  Company  Subs(million)\n",
       "0  2020   Disney        89.0500\n",
       "1  2020     Hulu        33.6500\n",
       "2  2020  Netflix        72.4725\n",
       "3  2021   Disney       108.1500\n",
       "4  2021     Hulu        41.9000\n",
       "5  2021  Netflix        74.3925\n",
       "6  2022   Disney       145.9500\n",
       "7  2022     Hulu        46.0750\n",
       "8  2022  Netflix        73.8875"
      ]
     },
     "execution_count": 7,
     "metadata": {},
     "output_type": "execute_result"
    }
   ],
   "source": [
    "#same thing we did but for Covid years\n",
    "Covid_Subs= Covid_Yearly.drop(columns=[\"Quarter\"])\n",
    "#try groupby method\n",
    "final_Covid = Covid_Subs.groupby(['Year', 'Company']).agg({'Subs': ['mean']})\n",
    "#create a column and reset index\n",
    "final_Covid.columns = ['Subs(million)']\n",
    "\n",
    "final_Covid = final_Covid.reset_index()\n",
    "\n",
    "\n",
    "final_Covid"
   ]
  },
  {
   "cell_type": "code",
   "execution_count": 8,
   "id": "6fe9f8e5-a633-4609-b22d-6c76cce6286b",
   "metadata": {},
   "outputs": [
    {
     "data": {
      "text/plain": [
       "Text(0, 0.5, '# of Streaming Subscriptions(Millions)')"
      ]
     },
     "execution_count": 8,
     "metadata": {},
     "output_type": "execute_result"
    },
    {
     "data": {
      "image/png": "[encoded data removed]",
      "text/plain": [
       "<Figure size 640x480 with 1 Axes>"
      ]
     },
     "metadata": {},
     "output_type": "display_data"
    }
   ],
   "source": [
    "#make bar charts showing the Precovid years\n",
    "\n",
    "bar_PreCoviddf = pd.DataFrame({'Year': [2013, 2014, 2015, 2016, 2017, 2018, 2019],\n",
    "                   'Hulu': [4.5000, 6.0000, 9.0000, 12.0000, 17.0000, 20.0000, 26.1000],\n",
    "                   'Netflix': [29.5425, 35.8600, 41.7125, 46.5250, 56.3500, 62.6375, 66.9750]})\n",
    "                   \n",
    "\n",
    "#plot columns on bar chart\n",
    "ax=bar_PreCoviddf[['Year', 'Hulu', 'Netflix']].plot(x='Year', color={\"Hulu\": \"green\", \"Netflix\": \"red\"}, title=\"Streaming Subscriptions in PreCovid Years\", kind='bar')\n",
    "for container in ax.containers:\n",
    "    ax.bar_label(container)\n",
    "plt.xticks(rotation='horizontal')\n",
    "\n",
    "plt.ylabel(\"# of Streaming Subscriptions(Millions)\") "
   ]
  },
  {
   "cell_type": "code",
   "execution_count": 9,
   "id": "26f7b6dc-552f-47df-86ff-c40c358209da",
   "metadata": {},
   "outputs": [
    {
     "data": {
      "text/plain": [
       "Text(0, 0.5, '# of Streaming Subscriptions(Millions)')"
      ]
     },
     "execution_count": 9,
     "metadata": {},
     "output_type": "execute_result"
    },
    {
     "data": {
      "image/png": "[encoded data removed]",
      "text/plain": [
       "<Figure size 640x480 with 1 Axes>"
      ]
     },
     "metadata": {},
     "output_type": "display_data"
    }
   ],
   "source": [
    "\n",
    "bar_Coviddf = pd.DataFrame({'Year': [2020, 2021, 2022],\n",
    "                   'Hulu': [33.6500, 41.9000, 46.0750],\n",
    "                    'Disney': [89.0500, 108.1500, 145.9500],\n",
    "                   'Netflix': [72.4725, 74.3925, 73.8875]})\n",
    "                   \n",
    "\n",
    "#plot columns on bar chart\n",
    "\n",
    "ax=bar_Coviddf[['Year', 'Hulu', 'Disney', 'Netflix']].plot(x='Year', color={\"Hulu\": \"green\", \"Disney\":\"blue\", \"Netflix\": \"red\"},  title=\"Streaming Subscriptions in Covid Years\", kind='bar')\n",
    "for container in ax.containers:\n",
    "    ax.bar_label(container)\n",
    "plt.xticks(rotation='horizontal')\n",
    "\n",
    "plt.ylabel(\"# of Streaming Subscriptions(Millions)\") "
   ]
  },
  {
   "cell_type": "code",
   "execution_count": 10,
   "id": "31fca246-4427-44bb-912c-a619df3f0ddf",
   "metadata": {},
   "outputs": [
    {
     "data": {
      "text/html": [
       "<div>\n",
       "<style scoped>\n",
       "    .dataframe tbody tr th:only-of-type {\n",
       "        vertical-align: middle;\n",
       "    }\n",
       "\n",
       "    .dataframe tbody tr th {\n",
       "        vertical-align: top;\n",
       "    }\n",
       "\n",
       "    .dataframe thead th {\n",
       "        text-align: right;\n",
       "    }\n",
       "</style>\n",
       "<table border=\"1\" class=\"dataframe\">\n",
       "  <thead>\n",
       "    <tr style=\"text-align: right;\">\n",
       "      <th></th>\n",
       "      <th>Quarter</th>\n",
       "      <th>Year</th>\n",
       "      <th>Subs</th>\n",
       "      <th>Company</th>\n",
       "    </tr>\n",
       "  </thead>\n",
       "  <tbody>\n",
       "    <tr>\n",
       "      <th>17</th>\n",
       "      <td>Q4</td>\n",
       "      <td>2017</td>\n",
       "      <td>17.00</td>\n",
       "      <td>Hulu</td>\n",
       "    </tr>\n",
       "    <tr>\n",
       "      <th>18</th>\n",
       "      <td>Q2</td>\n",
       "      <td>2018</td>\n",
       "      <td>20.00</td>\n",
       "      <td>Hulu</td>\n",
       "    </tr>\n",
       "    <tr>\n",
       "      <th>19</th>\n",
       "      <td>Q3</td>\n",
       "      <td>2018</td>\n",
       "      <td>NaN</td>\n",
       "      <td>Hulu</td>\n",
       "    </tr>\n",
       "    <tr>\n",
       "      <th>20</th>\n",
       "      <td>Q1</td>\n",
       "      <td>2019</td>\n",
       "      <td>22.80</td>\n",
       "      <td>Hulu</td>\n",
       "    </tr>\n",
       "    <tr>\n",
       "      <th>21</th>\n",
       "      <td>Q2</td>\n",
       "      <td>2019</td>\n",
       "      <td>25.20</td>\n",
       "      <td>Hulu</td>\n",
       "    </tr>\n",
       "    <tr>\n",
       "      <th>22</th>\n",
       "      <td>Q3</td>\n",
       "      <td>2019</td>\n",
       "      <td>27.90</td>\n",
       "      <td>Hulu</td>\n",
       "    </tr>\n",
       "    <tr>\n",
       "      <th>23</th>\n",
       "      <td>Q4</td>\n",
       "      <td>2019</td>\n",
       "      <td>28.50</td>\n",
       "      <td>Hulu</td>\n",
       "    </tr>\n",
       "    <tr>\n",
       "      <th>68</th>\n",
       "      <td>Q1</td>\n",
       "      <td>2017</td>\n",
       "      <td>54.58</td>\n",
       "      <td>Netflix</td>\n",
       "    </tr>\n",
       "    <tr>\n",
       "      <th>69</th>\n",
       "      <td>Q2</td>\n",
       "      <td>2017</td>\n",
       "      <td>55.62</td>\n",
       "      <td>Netflix</td>\n",
       "    </tr>\n",
       "    <tr>\n",
       "      <th>70</th>\n",
       "      <td>Q3</td>\n",
       "      <td>2017</td>\n",
       "      <td>56.78</td>\n",
       "      <td>Netflix</td>\n",
       "    </tr>\n",
       "    <tr>\n",
       "      <th>71</th>\n",
       "      <td>Q4</td>\n",
       "      <td>2017</td>\n",
       "      <td>58.42</td>\n",
       "      <td>Netflix</td>\n",
       "    </tr>\n",
       "    <tr>\n",
       "      <th>72</th>\n",
       "      <td>Q1</td>\n",
       "      <td>2018</td>\n",
       "      <td>60.91</td>\n",
       "      <td>Netflix</td>\n",
       "    </tr>\n",
       "    <tr>\n",
       "      <th>73</th>\n",
       "      <td>Q2</td>\n",
       "      <td>2018</td>\n",
       "      <td>61.87</td>\n",
       "      <td>Netflix</td>\n",
       "    </tr>\n",
       "    <tr>\n",
       "      <th>74</th>\n",
       "      <td>Q3</td>\n",
       "      <td>2018</td>\n",
       "      <td>63.01</td>\n",
       "      <td>Netflix</td>\n",
       "    </tr>\n",
       "    <tr>\n",
       "      <th>75</th>\n",
       "      <td>Q4</td>\n",
       "      <td>2018</td>\n",
       "      <td>64.76</td>\n",
       "      <td>Netflix</td>\n",
       "    </tr>\n",
       "    <tr>\n",
       "      <th>76</th>\n",
       "      <td>Q1</td>\n",
       "      <td>2019</td>\n",
       "      <td>66.63</td>\n",
       "      <td>Netflix</td>\n",
       "    </tr>\n",
       "    <tr>\n",
       "      <th>77</th>\n",
       "      <td>Q2</td>\n",
       "      <td>2019</td>\n",
       "      <td>66.50</td>\n",
       "      <td>Netflix</td>\n",
       "    </tr>\n",
       "    <tr>\n",
       "      <th>78</th>\n",
       "      <td>Q3</td>\n",
       "      <td>2019</td>\n",
       "      <td>67.11</td>\n",
       "      <td>Netflix</td>\n",
       "    </tr>\n",
       "    <tr>\n",
       "      <th>79</th>\n",
       "      <td>Q4</td>\n",
       "      <td>2019</td>\n",
       "      <td>67.66</td>\n",
       "      <td>Netflix</td>\n",
       "    </tr>\n",
       "  </tbody>\n",
       "</table>\n",
       "</div>"
      ],
      "text/plain": [
       "   Quarter  Year   Subs  Company\n",
       "17      Q4  2017  17.00     Hulu\n",
       "18      Q2  2018  20.00     Hulu\n",
       "19      Q3  2018    NaN     Hulu\n",
       "20      Q1  2019  22.80     Hulu\n",
       "21      Q2  2019  25.20     Hulu\n",
       "22      Q3  2019  27.90     Hulu\n",
       "23      Q4  2019  28.50     Hulu\n",
       "68      Q1  2017  54.58  Netflix\n",
       "69      Q2  2017  55.62  Netflix\n",
       "70      Q3  2017  56.78  Netflix\n",
       "71      Q4  2017  58.42  Netflix\n",
       "72      Q1  2018  60.91  Netflix\n",
       "73      Q2  2018  61.87  Netflix\n",
       "74      Q3  2018  63.01  Netflix\n",
       "75      Q4  2018  64.76  Netflix\n",
       "76      Q1  2019  66.63  Netflix\n",
       "77      Q2  2019  66.50  Netflix\n",
       "78      Q3  2019  67.11  Netflix\n",
       "79      Q4  2019  67.66  Netflix"
      ]
     },
     "execution_count": 10,
     "metadata": {},
     "output_type": "execute_result"
    }
   ],
   "source": [
    "#Define data Precovid years 2017-2019 \n",
    "precovid_yrs = final_result[~final_result['Year'].isin([2010,2011,2012,2013,2014,2015,2016,2020,2021,2022,2023])]\n",
    "\n",
    "precovid_yrs"
   ]
  },
  {
   "cell_type": "code",
   "execution_count": 11,
   "id": "be4d9191",
   "metadata": {},
   "outputs": [
    {
     "data": {
      "text/html": [
       "<div>\n",
       "<style scoped>\n",
       "    .dataframe tbody tr th:only-of-type {\n",
       "        vertical-align: middle;\n",
       "    }\n",
       "\n",
       "    .dataframe tbody tr th {\n",
       "        vertical-align: top;\n",
       "    }\n",
       "\n",
       "    .dataframe thead th {\n",
       "        text-align: right;\n",
       "    }\n",
       "</style>\n",
       "<table border=\"1\" class=\"dataframe\">\n",
       "  <thead>\n",
       "    <tr style=\"text-align: right;\">\n",
       "      <th></th>\n",
       "      <th>Quarter</th>\n",
       "      <th>Year</th>\n",
       "      <th>Subs</th>\n",
       "      <th>Company</th>\n",
       "    </tr>\n",
       "  </thead>\n",
       "  <tbody>\n",
       "    <tr>\n",
       "      <th>24</th>\n",
       "      <td>Q1</td>\n",
       "      <td>2020</td>\n",
       "      <td>30.40</td>\n",
       "      <td>Hulu</td>\n",
       "    </tr>\n",
       "    <tr>\n",
       "      <th>25</th>\n",
       "      <td>Q2</td>\n",
       "      <td>2020</td>\n",
       "      <td>32.10</td>\n",
       "      <td>Hulu</td>\n",
       "    </tr>\n",
       "    <tr>\n",
       "      <th>26</th>\n",
       "      <td>Q3</td>\n",
       "      <td>2020</td>\n",
       "      <td>35.50</td>\n",
       "      <td>Hulu</td>\n",
       "    </tr>\n",
       "    <tr>\n",
       "      <th>27</th>\n",
       "      <td>Q4</td>\n",
       "      <td>2020</td>\n",
       "      <td>36.60</td>\n",
       "      <td>Hulu</td>\n",
       "    </tr>\n",
       "    <tr>\n",
       "      <th>28</th>\n",
       "      <td>Q1</td>\n",
       "      <td>2021</td>\n",
       "      <td>39.40</td>\n",
       "      <td>Hulu</td>\n",
       "    </tr>\n",
       "    <tr>\n",
       "      <th>29</th>\n",
       "      <td>Q2</td>\n",
       "      <td>2021</td>\n",
       "      <td>41.60</td>\n",
       "      <td>Hulu</td>\n",
       "    </tr>\n",
       "    <tr>\n",
       "      <th>30</th>\n",
       "      <td>Q3</td>\n",
       "      <td>2021</td>\n",
       "      <td>42.80</td>\n",
       "      <td>Hulu</td>\n",
       "    </tr>\n",
       "    <tr>\n",
       "      <th>31</th>\n",
       "      <td>Q4</td>\n",
       "      <td>2021</td>\n",
       "      <td>43.80</td>\n",
       "      <td>Hulu</td>\n",
       "    </tr>\n",
       "    <tr>\n",
       "      <th>32</th>\n",
       "      <td>Q1</td>\n",
       "      <td>2022</td>\n",
       "      <td>45.30</td>\n",
       "      <td>Hulu</td>\n",
       "    </tr>\n",
       "    <tr>\n",
       "      <th>33</th>\n",
       "      <td>Q2</td>\n",
       "      <td>2022</td>\n",
       "      <td>45.60</td>\n",
       "      <td>Hulu</td>\n",
       "    </tr>\n",
       "    <tr>\n",
       "      <th>34</th>\n",
       "      <td>Q3</td>\n",
       "      <td>2022</td>\n",
       "      <td>46.20</td>\n",
       "      <td>Hulu</td>\n",
       "    </tr>\n",
       "    <tr>\n",
       "      <th>35</th>\n",
       "      <td>Q4</td>\n",
       "      <td>2022</td>\n",
       "      <td>47.20</td>\n",
       "      <td>Hulu</td>\n",
       "    </tr>\n",
       "    <tr>\n",
       "      <th>38</th>\n",
       "      <td>Q1</td>\n",
       "      <td>2020</td>\n",
       "      <td>26.50</td>\n",
       "      <td>Disney</td>\n",
       "    </tr>\n",
       "    <tr>\n",
       "      <th>39</th>\n",
       "      <td>Q2</td>\n",
       "      <td>2020</td>\n",
       "      <td>33.50</td>\n",
       "      <td>Disney</td>\n",
       "    </tr>\n",
       "    <tr>\n",
       "      <th>40</th>\n",
       "      <td>Q3</td>\n",
       "      <td>2020</td>\n",
       "      <td>222.50</td>\n",
       "      <td>Disney</td>\n",
       "    </tr>\n",
       "    <tr>\n",
       "      <th>41</th>\n",
       "      <td>Q4</td>\n",
       "      <td>2020</td>\n",
       "      <td>73.70</td>\n",
       "      <td>Disney</td>\n",
       "    </tr>\n",
       "    <tr>\n",
       "      <th>42</th>\n",
       "      <td>Q1</td>\n",
       "      <td>2021</td>\n",
       "      <td>94.90</td>\n",
       "      <td>Disney</td>\n",
       "    </tr>\n",
       "    <tr>\n",
       "      <th>43</th>\n",
       "      <td>Q2</td>\n",
       "      <td>2021</td>\n",
       "      <td>103.60</td>\n",
       "      <td>Disney</td>\n",
       "    </tr>\n",
       "    <tr>\n",
       "      <th>44</th>\n",
       "      <td>Q3</td>\n",
       "      <td>2021</td>\n",
       "      <td>116.00</td>\n",
       "      <td>Disney</td>\n",
       "    </tr>\n",
       "    <tr>\n",
       "      <th>45</th>\n",
       "      <td>Q4</td>\n",
       "      <td>2021</td>\n",
       "      <td>118.10</td>\n",
       "      <td>Disney</td>\n",
       "    </tr>\n",
       "    <tr>\n",
       "      <th>46</th>\n",
       "      <td>Q1</td>\n",
       "      <td>2022</td>\n",
       "      <td>129.80</td>\n",
       "      <td>Disney</td>\n",
       "    </tr>\n",
       "    <tr>\n",
       "      <th>47</th>\n",
       "      <td>Q2</td>\n",
       "      <td>2022</td>\n",
       "      <td>137.70</td>\n",
       "      <td>Disney</td>\n",
       "    </tr>\n",
       "    <tr>\n",
       "      <th>48</th>\n",
       "      <td>Q3</td>\n",
       "      <td>2022</td>\n",
       "      <td>152.10</td>\n",
       "      <td>Disney</td>\n",
       "    </tr>\n",
       "    <tr>\n",
       "      <th>49</th>\n",
       "      <td>Q4</td>\n",
       "      <td>2022</td>\n",
       "      <td>164.20</td>\n",
       "      <td>Disney</td>\n",
       "    </tr>\n",
       "    <tr>\n",
       "      <th>80</th>\n",
       "      <td>Q1</td>\n",
       "      <td>2020</td>\n",
       "      <td>69.97</td>\n",
       "      <td>Netflix</td>\n",
       "    </tr>\n",
       "    <tr>\n",
       "      <th>81</th>\n",
       "      <td>Q2</td>\n",
       "      <td>2020</td>\n",
       "      <td>72.90</td>\n",
       "      <td>Netflix</td>\n",
       "    </tr>\n",
       "    <tr>\n",
       "      <th>82</th>\n",
       "      <td>Q3</td>\n",
       "      <td>2020</td>\n",
       "      <td>73.08</td>\n",
       "      <td>Netflix</td>\n",
       "    </tr>\n",
       "    <tr>\n",
       "      <th>83</th>\n",
       "      <td>Q4</td>\n",
       "      <td>2020</td>\n",
       "      <td>73.94</td>\n",
       "      <td>Netflix</td>\n",
       "    </tr>\n",
       "    <tr>\n",
       "      <th>84</th>\n",
       "      <td>Q1</td>\n",
       "      <td>2021</td>\n",
       "      <td>74.38</td>\n",
       "      <td>Netflix</td>\n",
       "    </tr>\n",
       "    <tr>\n",
       "      <th>85</th>\n",
       "      <td>Q2</td>\n",
       "      <td>2021</td>\n",
       "      <td>73.95</td>\n",
       "      <td>Netflix</td>\n",
       "    </tr>\n",
       "    <tr>\n",
       "      <th>86</th>\n",
       "      <td>Q3</td>\n",
       "      <td>2021</td>\n",
       "      <td>74.02</td>\n",
       "      <td>Netflix</td>\n",
       "    </tr>\n",
       "    <tr>\n",
       "      <th>87</th>\n",
       "      <td>Q4</td>\n",
       "      <td>2021</td>\n",
       "      <td>75.22</td>\n",
       "      <td>Netflix</td>\n",
       "    </tr>\n",
       "    <tr>\n",
       "      <th>88</th>\n",
       "      <td>Q1</td>\n",
       "      <td>2022</td>\n",
       "      <td>74.58</td>\n",
       "      <td>Netflix</td>\n",
       "    </tr>\n",
       "    <tr>\n",
       "      <th>89</th>\n",
       "      <td>Q2</td>\n",
       "      <td>2022</td>\n",
       "      <td>73.28</td>\n",
       "      <td>Netflix</td>\n",
       "    </tr>\n",
       "    <tr>\n",
       "      <th>90</th>\n",
       "      <td>Q3</td>\n",
       "      <td>2022</td>\n",
       "      <td>73.39</td>\n",
       "      <td>Netflix</td>\n",
       "    </tr>\n",
       "    <tr>\n",
       "      <th>91</th>\n",
       "      <td>Q4</td>\n",
       "      <td>2022</td>\n",
       "      <td>74.30</td>\n",
       "      <td>Netflix</td>\n",
       "    </tr>\n",
       "  </tbody>\n",
       "</table>\n",
       "</div>"
      ],
      "text/plain": [
       "   Quarter  Year    Subs  Company\n",
       "24      Q1  2020   30.40     Hulu\n",
       "25      Q2  2020   32.10     Hulu\n",
       "26      Q3  2020   35.50     Hulu\n",
       "27      Q4  2020   36.60     Hulu\n",
       "28      Q1  2021   39.40     Hulu\n",
       "29      Q2  2021   41.60     Hulu\n",
       "30      Q3  2021   42.80     Hulu\n",
       "31      Q4  2021   43.80     Hulu\n",
       "32      Q1  2022   45.30     Hulu\n",
       "33      Q2  2022   45.60     Hulu\n",
       "34      Q3  2022   46.20     Hulu\n",
       "35      Q4  2022   47.20     Hulu\n",
       "38      Q1  2020   26.50   Disney\n",
       "39      Q2  2020   33.50   Disney\n",
       "40      Q3  2020  222.50   Disney\n",
       "41      Q4  2020   73.70   Disney\n",
       "42      Q1  2021   94.90   Disney\n",
       "43      Q2  2021  103.60   Disney\n",
       "44      Q3  2021  116.00   Disney\n",
       "45      Q4  2021  118.10   Disney\n",
       "46      Q1  2022  129.80   Disney\n",
       "47      Q2  2022  137.70   Disney\n",
       "48      Q3  2022  152.10   Disney\n",
       "49      Q4  2022  164.20   Disney\n",
       "80      Q1  2020   69.97  Netflix\n",
       "81      Q2  2020   72.90  Netflix\n",
       "82      Q3  2020   73.08  Netflix\n",
       "83      Q4  2020   73.94  Netflix\n",
       "84      Q1  2021   74.38  Netflix\n",
       "85      Q2  2021   73.95  Netflix\n",
       "86      Q3  2021   74.02  Netflix\n",
       "87      Q4  2021   75.22  Netflix\n",
       "88      Q1  2022   74.58  Netflix\n",
       "89      Q2  2022   73.28  Netflix\n",
       "90      Q3  2022   73.39  Netflix\n",
       "91      Q4  2022   74.30  Netflix"
      ]
     },
     "execution_count": 11,
     "metadata": {},
     "output_type": "execute_result"
    }
   ],
   "source": [
    "#Define data Covid years 2020-2022 \n",
    "covid_yrs = final_result[~final_result['Year'].isin([2010,2011,2012,2013,2014,2015,2016,2017,2018,2019,2023])]\n",
    "\n",
    "covid_yrs"
   ]
  },
  {
   "cell_type": "code",
   "execution_count": 12,
   "id": "d167aa12",
   "metadata": {},
   "outputs": [
    {
     "data": {
      "image/png": "[encoded data removed]",
      "text/plain": [
       "<Figure size 500x500 with 1 Axes>"
      ]
     },
     "metadata": {},
     "output_type": "display_data"
    }
   ],
   "source": [
    "#Pie Chart Reflecting Streaming services during precovid years 2017-2019\n",
    "pre_covid_pie = pd.DataFrame({'': [743,141]},index = ['Netflix 743M', 'Hulu 141M'])\n",
    "\n",
    "# The colors of each section of the pie chart\n",
    "colors = [\"red\", \"limegreen\",]\n",
    "\n",
    "plot = pre_covid_pie.plot.pie(y= \"\", title= \"Streaming Services Used Precovid\",colors= colors, autopct=\"%1.f%%\", figsize=(5, 5))\n",
    "plt.show()"
   ]
  },
  {
   "cell_type": "code",
   "execution_count": 13,
   "id": "1c219b2f",
   "metadata": {},
   "outputs": [
    {
     "data": {
      "image/png": "[encoded data removed]",
      "text/plain": [
       "<Figure size 500x500 with 1 Axes>"
      ]
     },
     "metadata": {},
     "output_type": "display_data"
    }
   ],
   "source": [
    "#Pie Chart Reflecting Streaming services during covid years 2020-2022\n",
    "covid_pie = pd.DataFrame({'': [883.01,486.5,1372]},index = ['Netflix 883M', 'Hulu 486M', 'Disney 1,372M'])\n",
    "\n",
    "# The colors of each section of the pie chart\n",
    "colors = [\"red\", \"limegreen\", \"blue\"]\n",
    "\n",
    "plot = covid_pie.plot.pie(y=\"\", title= \"Streaming Services Used During Covid\", startangle =40, autopct=\"%1.f%%\", colors = colors, figsize=(5, 5))\n",
    "plt.show()"
   ]
  },
  {
   "cell_type": "code",
   "execution_count": 14,
   "id": "1d0e1de6",
   "metadata": {},
   "outputs": [],
   "source": [
    "# Merge Hulu, Disney, and Netflix Subs\n",
    "left = pd.read_csv(alberto_hulus)\n",
    "right = pd.read_csv(alberto_disney)\n",
    "right2 = pd.read_csv(alberto_netflix)\n",
    "\n",
    "\n",
    "\n",
    "result = pd.merge(left, right, on=[\"Year\",\"Subs\"], how=\"outer\")\n",
    "\n",
    "final_result = pd.merge(result, right2, on=[\"Year\",\"Subs\"], how=\"outer\")\n",
    "# Print Final Result & Send To CSV"
   ]
  },
  {
   "cell_type": "code",
   "execution_count": 15,
   "id": "a71abba6",
   "metadata": {},
   "outputs": [
    {
     "name": "stdout",
     "output_type": "stream",
     "text": [
      "   Year    Subs\n",
      "0  2018   20.00\n",
      "1  2022  184.30\n",
      "2  2022  583.80\n",
      "3  2018  250.55\n",
      "4  2022  295.55\n"
     ]
    }
   ],
   "source": [
    "# Print Final Result & Send To CSV\n",
    "print(final_result)"
   ]
  },
  {
   "cell_type": "code",
   "execution_count": 16,
   "id": "fb616167",
   "metadata": {},
   "outputs": [],
   "source": [
    "final_result.to_csv('streaming_subs_totals.csv')\n"
   ]
  },
  {
   "cell_type": "code",
   "execution_count": 17,
   "id": "f9636520",
   "metadata": {},
   "outputs": [],
   "source": [
    "streaming_services_totals = \"subscription/streaming_subs_totals.csv\"\n",
    "\n",
    "\n",
    "df_streaming_services_totals = pd.read_csv(streaming_services_totals)"
   ]
  },
  {
   "cell_type": "code",
   "execution_count": 18,
   "id": "f83e3e9f",
   "metadata": {},
   "outputs": [],
   "source": [
    "# Merge DFs & Export to CSV to Edit\n",
    "left1 = pd.read_csv(streaming_services_totals)\n",
    "right1 = pd.read_csv(alberto_box_office)\n",
    "\n",
    "result = pd.merge(left1, right1, on=[\"Year\",\"Sales\"], how=\"outer\")\n",
    "\n",
    "result.to_csv('sales_2018_2022.csv')"
   ]
  },
  {
   "cell_type": "code",
   "execution_count": 19,
   "id": "dece5c1a",
   "metadata": {},
   "outputs": [
    {
     "data": {
      "text/html": [
       "<div>\n",
       "<style scoped>\n",
       "    .dataframe tbody tr th:only-of-type {\n",
       "        vertical-align: middle;\n",
       "    }\n",
       "\n",
       "    .dataframe tbody tr th {\n",
       "        vertical-align: top;\n",
       "    }\n",
       "\n",
       "    .dataframe thead th {\n",
       "        text-align: right;\n",
       "    }\n",
       "</style>\n",
       "<table border=\"1\" class=\"dataframe\">\n",
       "  <thead>\n",
       "    <tr style=\"text-align: right;\">\n",
       "      <th></th>\n",
       "      <th>Unnamed: 0</th>\n",
       "      <th>Year</th>\n",
       "      <th>Sales</th>\n",
       "    </tr>\n",
       "  </thead>\n",
       "  <tbody>\n",
       "    <tr>\n",
       "      <th>0</th>\n",
       "      <td>0</td>\n",
       "      <td>2018</td>\n",
       "      <td>270.55</td>\n",
       "    </tr>\n",
       "    <tr>\n",
       "      <th>1</th>\n",
       "      <td>1</td>\n",
       "      <td>2022</td>\n",
       "      <td>1063.65</td>\n",
       "    </tr>\n",
       "    <tr>\n",
       "      <th>2</th>\n",
       "      <td>5</td>\n",
       "      <td>2018</td>\n",
       "      <td>1311.30</td>\n",
       "    </tr>\n",
       "    <tr>\n",
       "      <th>3</th>\n",
       "      <td>6</td>\n",
       "      <td>2022</td>\n",
       "      <td>812.79</td>\n",
       "    </tr>\n",
       "  </tbody>\n",
       "</table>\n",
       "</div>"
      ],
      "text/plain": [
       "   Unnamed: 0  Year    Sales\n",
       "0           0  2018   270.55\n",
       "1           1  2022  1063.65\n",
       "2           5  2018  1311.30\n",
       "3           6  2022   812.79"
      ]
     },
     "execution_count": 19,
     "metadata": {},
     "output_type": "execute_result"
    }
   ],
   "source": [
    "sales = \"subscription/sales_2018_2022e.csv\"\n",
    "df_sales = pd.read_csv(sales)\n",
    "\n",
    "\n",
    "df_sales"
   ]
  },
  {
   "cell_type": "code",
   "execution_count": 20,
   "id": "ae9c6a6b",
   "metadata": {},
   "outputs": [
    {
     "data": {
      "text/plain": [
       "Text(0, 0.5, 'Sales in Millions')"
      ]
     },
     "execution_count": 20,
     "metadata": {},
     "output_type": "execute_result"
    },
    {
     "data": {
      "image/png": "[encoded data removed]",
      "text/plain": [
       "<Figure size 640x480 with 1 Axes>"
      ]
     },
     "metadata": {},
     "output_type": "display_data"
    }
   ],
   "source": [
    "#Plot DF and Bar Chart\n",
    "df_final = pd.DataFrame({'Year':[2018, 2022],'Streaming': [270.55, 1063.65], 'Movies':[1311.30, 812.79]})\n",
    "#Plot Columns\n",
    "df_final[['Year', 'Streaming', 'Movies']].plot(x='Year', color={\"Streaming\": \"Red\", \"Movies\": \"Green\"}, title=\"Pre & Post Pandemic Years Sales Differences\", kind='bar')\n",
    "\n",
    "plt.xticks(rotation='horizontal')\n",
    "plt.ylabel(\"Sales in Millions\")"
   ]
  },
  {
   "cell_type": "code",
   "execution_count": 21,
   "id": "d8e01766",
   "metadata": {},
   "outputs": [
    {
     "data": {
      "text/html": [
       "<div>\n",
       "<style scoped>\n",
       "    .dataframe tbody tr th:only-of-type {\n",
       "        vertical-align: middle;\n",
       "    }\n",
       "\n",
       "    .dataframe tbody tr th {\n",
       "        vertical-align: top;\n",
       "    }\n",
       "\n",
       "    .dataframe thead th {\n",
       "        text-align: right;\n",
       "    }\n",
       "</style>\n",
       "<table border=\"1\" class=\"dataframe\">\n",
       "  <thead>\n",
       "    <tr style=\"text-align: right;\">\n",
       "      <th></th>\n",
       "      <th>YEAR</th>\n",
       "      <th>TICKETS SOLD</th>\n",
       "      <th>TOTAL BOX OFFICE</th>\n",
       "      <th>TOTAL INFLATION ADJUSTED BOX OFFICE</th>\n",
       "      <th>AVERAGE TICKET PRICE</th>\n",
       "      <th>Unnamed: 5</th>\n",
       "    </tr>\n",
       "  </thead>\n",
       "  <tbody>\n",
       "    <tr>\n",
       "      <th>0</th>\n",
       "      <td>2021</td>\n",
       "      <td>42,37,74,881</td>\n",
       "      <td>$3,881,777,912</td>\n",
       "      <td>$3,881,777,912</td>\n",
       "      <td>$9.16</td>\n",
       "      <td>NaN</td>\n",
       "    </tr>\n",
       "    <tr>\n",
       "      <th>1</th>\n",
       "      <td>2020</td>\n",
       "      <td>22,36,38,958</td>\n",
       "      <td>$2,048,534,616</td>\n",
       "      <td>$2,048,534,616</td>\n",
       "      <td>$9.16</td>\n",
       "      <td>NaN</td>\n",
       "    </tr>\n",
       "    <tr>\n",
       "      <th>2</th>\n",
       "      <td>2019</td>\n",
       "      <td>1,22,85,41,629</td>\n",
       "      <td>$11,253,443,955</td>\n",
       "      <td>$11,253,444,050</td>\n",
       "      <td>$9.16</td>\n",
       "      <td>NaN</td>\n",
       "    </tr>\n",
       "    <tr>\n",
       "      <th>3</th>\n",
       "      <td>2018</td>\n",
       "      <td>1,31,15,36,128</td>\n",
       "      <td>$11,948,096,650</td>\n",
       "      <td>$12,013,670,952</td>\n",
       "      <td>$9.11</td>\n",
       "      <td>NaN</td>\n",
       "    </tr>\n",
       "    <tr>\n",
       "      <th>4</th>\n",
       "      <td>2017</td>\n",
       "      <td>1,22,56,39,761</td>\n",
       "      <td>$10,993,991,460</td>\n",
       "      <td>$11,226,860,216</td>\n",
       "      <td>$8.97</td>\n",
       "      <td>NaN</td>\n",
       "    </tr>\n",
       "  </tbody>\n",
       "</table>\n",
       "</div>"
      ],
      "text/plain": [
       "   YEAR    TICKETS SOLD TOTAL BOX OFFICE TOTAL INFLATION ADJUSTED BOX OFFICE  \\\n",
       "0  2021    42,37,74,881   $3,881,777,912                      $3,881,777,912   \n",
       "1  2020    22,36,38,958   $2,048,534,616                      $2,048,534,616   \n",
       "2  2019  1,22,85,41,629  $11,253,443,955                     $11,253,444,050   \n",
       "3  2018  1,31,15,36,128  $11,948,096,650                     $12,013,670,952   \n",
       "4  2017  1,22,56,39,761  $10,993,991,460                     $11,226,860,216   \n",
       "\n",
       "  AVERAGE TICKET PRICE  Unnamed: 5  \n",
       "0                $9.16         NaN  \n",
       "1                $9.16         NaN  \n",
       "2                $9.16         NaN  \n",
       "3                $9.11         NaN  \n",
       "4                $8.97         NaN  "
      ]
     },
     "execution_count": 21,
     "metadata": {},
     "output_type": "execute_result"
    }
   ],
   "source": [
    "# print the ticket sales head for review\n",
    "df_ticket_sales.head()"
   ]
  },
  {
   "cell_type": "code",
   "execution_count": 22,
   "id": "fc218443",
   "metadata": {},
   "outputs": [
    {
     "data": {
      "text/html": [
       "<div>\n",
       "<style scoped>\n",
       "    .dataframe tbody tr th:only-of-type {\n",
       "        vertical-align: middle;\n",
       "    }\n",
       "\n",
       "    .dataframe tbody tr th {\n",
       "        vertical-align: top;\n",
       "    }\n",
       "\n",
       "    .dataframe thead th {\n",
       "        text-align: right;\n",
       "    }\n",
       "</style>\n",
       "<table border=\"1\" class=\"dataframe\">\n",
       "  <thead>\n",
       "    <tr style=\"text-align: right;\">\n",
       "      <th></th>\n",
       "      <th>YEAR</th>\n",
       "      <th>TICKETS SOLD</th>\n",
       "      <th>TOTAL BOX OFFICE</th>\n",
       "      <th>TOTAL INFLATION ADJUSTED BOX OFFICE</th>\n",
       "      <th>AVERAGE TICKET PRICE</th>\n",
       "    </tr>\n",
       "  </thead>\n",
       "  <tbody>\n",
       "    <tr>\n",
       "      <th>0</th>\n",
       "      <td>2021</td>\n",
       "      <td>42,37,74,881</td>\n",
       "      <td>$3,881,777,912</td>\n",
       "      <td>$3,881,777,912</td>\n",
       "      <td>$9.16</td>\n",
       "    </tr>\n",
       "    <tr>\n",
       "      <th>1</th>\n",
       "      <td>2020</td>\n",
       "      <td>22,36,38,958</td>\n",
       "      <td>$2,048,534,616</td>\n",
       "      <td>$2,048,534,616</td>\n",
       "      <td>$9.16</td>\n",
       "    </tr>\n",
       "    <tr>\n",
       "      <th>2</th>\n",
       "      <td>2019</td>\n",
       "      <td>1,22,85,41,629</td>\n",
       "      <td>$11,253,443,955</td>\n",
       "      <td>$11,253,444,050</td>\n",
       "      <td>$9.16</td>\n",
       "    </tr>\n",
       "    <tr>\n",
       "      <th>3</th>\n",
       "      <td>2018</td>\n",
       "      <td>1,31,15,36,128</td>\n",
       "      <td>$11,948,096,650</td>\n",
       "      <td>$12,013,670,952</td>\n",
       "      <td>$9.11</td>\n",
       "    </tr>\n",
       "    <tr>\n",
       "      <th>4</th>\n",
       "      <td>2017</td>\n",
       "      <td>1,22,56,39,761</td>\n",
       "      <td>$10,993,991,460</td>\n",
       "      <td>$11,226,860,216</td>\n",
       "      <td>$8.97</td>\n",
       "    </tr>\n",
       "    <tr>\n",
       "      <th>5</th>\n",
       "      <td>2016</td>\n",
       "      <td>1,30,25,56,378</td>\n",
       "      <td>$11,267,115,924</td>\n",
       "      <td>$11,931,416,424</td>\n",
       "      <td>$8.65</td>\n",
       "    </tr>\n",
       "    <tr>\n",
       "      <th>6</th>\n",
       "      <td>2015</td>\n",
       "      <td>1,32,33,56,776</td>\n",
       "      <td>$11,155,900,636</td>\n",
       "      <td>$12,121,948,075</td>\n",
       "      <td>$8.43</td>\n",
       "    </tr>\n",
       "  </tbody>\n",
       "</table>\n",
       "</div>"
      ],
      "text/plain": [
       "   YEAR    TICKETS SOLD TOTAL BOX OFFICE TOTAL INFLATION ADJUSTED BOX OFFICE  \\\n",
       "0  2021    42,37,74,881   $3,881,777,912                      $3,881,777,912   \n",
       "1  2020    22,36,38,958   $2,048,534,616                      $2,048,534,616   \n",
       "2  2019  1,22,85,41,629  $11,253,443,955                     $11,253,444,050   \n",
       "3  2018  1,31,15,36,128  $11,948,096,650                     $12,013,670,952   \n",
       "4  2017  1,22,56,39,761  $10,993,991,460                     $11,226,860,216   \n",
       "5  2016  1,30,25,56,378  $11,267,115,924                     $11,931,416,424   \n",
       "6  2015  1,32,33,56,776  $11,155,900,636                     $12,121,948,075   \n",
       "\n",
       "  AVERAGE TICKET PRICE  \n",
       "0                $9.16  \n",
       "1                $9.16  \n",
       "2                $9.16  \n",
       "3                $9.11  \n",
       "4                $8.97  \n",
       "5                $8.65  \n",
       "6                $8.43  "
      ]
     },
     "execution_count": 22,
     "metadata": {},
     "output_type": "execute_result"
    }
   ],
   "source": [
    "# drop the \"unnamed: 5\" column\n",
    "df_ticket_sales = df_ticket_sales.drop('Unnamed: 5', axis=1)\n",
    "df_ticket_sales.head(7)"
   ]
  },
  {
   "cell_type": "code",
   "execution_count": 23,
   "id": "3047753a",
   "metadata": {},
   "outputs": [
    {
     "name": "stdout",
     "output_type": "stream",
     "text": [
      "YEAR                                     int64\n",
      "TICKETS SOLD                             int64\n",
      "TOTAL BOX OFFICE                         int64\n",
      "TOTAL INFLATION ADJUSTED BOX OFFICE      int64\n",
      "AVERAGE TICKET PRICE                   float64\n",
      "dtype: object\n"
     ]
    }
   ],
   "source": [
    "# Remove commas any dollar signs from the data frame\n",
    "cols = ['YEAR', 'TICKETS SOLD', 'TOTAL BOX OFFICE', 'TOTAL INFLATION ADJUSTED BOX OFFICE', 'AVERAGE TICKET PRICE']\n",
    "df_ticket_num = df_ticket_sales[cols].replace({'\\$': '', ',': ''}, regex=True)\n",
    "# Convert columns to numeric values\n",
    "df_ticket_num['TICKETS SOLD'] = pd.to_numeric(df_ticket_num['TICKETS SOLD'])\n",
    "df_ticket_num['TOTAL BOX OFFICE'] = pd.to_numeric(df_ticket_num['TOTAL BOX OFFICE'])\n",
    "df_ticket_num['TOTAL INFLATION ADJUSTED BOX OFFICE'] = pd.to_numeric(df_ticket_num['TOTAL INFLATION ADJUSTED BOX OFFICE'])\n",
    "df_ticket_num['AVERAGE TICKET PRICE'] = pd.to_numeric(df_ticket_num['AVERAGE TICKET PRICE'])\n",
    "# print data types\n",
    "print(df_ticket_num.dtypes)"
   ]
  },
  {
   "cell_type": "code",
   "execution_count": 24,
   "id": "917d7947",
   "metadata": {},
   "outputs": [
    {
     "data": {
      "application/vnd.plotly.v1+json": {
       "config": {
        "plotlyServerURL": "https://plot.ly"
       },
       "data": [
        {
         "name": "Tickets Sold",
         "type": "scatter",
         "x": [
          2021,
          2020,
          2019,
          2018,
          2017,
          2016,
          2015
         ],
         "y": [
          423774881,
          223638958,
          1228541629,
          1311536128,
          1225639761,
          1302556378,
          1323356776
         ]
        },
        {
         "name": "Total Box Office",
         "type": "scatter",
         "x": [
          2021,
          2020,
          2019,
          2018,
          2017,
          2016,
          2015
         ],
         "y": [
          3881777912,
          2048534616,
          11253443955,
          11948096650,
          10993991460,
          11267115924,
          11155900636
         ]
        },
        {
         "name": "Total Inflation Adjusted Box Office",
         "type": "scatter",
         "x": [
          2021,
          2020,
          2019,
          2018,
          2017,
          2016,
          2015
         ],
         "y": [
          3881777912,
          2048534616,
          11253444050,
          12013670952,
          11226860216,
          11931416424,
          12121948075
         ]
        }
       ],
       "layout": {
        "font": {
         "size": 15
        },
        "legend": {
         "title": {
          "text": "Legend Title"
         }
        },
        "template": {
         "data": {
          "bar": [
           {
            "error_x": {
             "color": "#2a3f5f"
            },
            "error_y": {
             "color": "#2a3f5f"
            },
            "marker": {
             "line": {
              "color": "#E5ECF6",
              "width": 0.5
             },
             "pattern": {
              "fillmode": "overlay",
              "size": 10,
              "solidity": 0.2
             }
            },
            "type": "bar"
           }
          ],
          "barpolar": [
           {
            "marker": {
             "line": {
              "color": "#E5ECF6",
              "width": 0.5
             },
             "pattern": {
              "fillmode": "overlay",
              "size": 10,
              "solidity": 0.2
             }
            },
            "type": "barpolar"
           }
          ],
          "carpet": [
           {
            "aaxis": {
             "endlinecolor": "#2a3f5f",
             "gridcolor": "white",
             "linecolor": "white",
             "minorgridcolor": "white",
             "startlinecolor": "#2a3f5f"
            },
            "baxis": {
             "endlinecolor": "#2a3f5f",
             "gridcolor": "white",
             "linecolor": "white",
             "minorgridcolor": "white",
             "startlinecolor": "#2a3f5f"
            },
            "type": "carpet"
           }
          ],
          "choropleth": [
           {
            "colorbar": {
             "outlinewidth": 0,
             "ticks": ""
            },
            "type": "choropleth"
           }
          ],
          "contour": [
           {
            "colorbar": {
             "outlinewidth": 0,
             "ticks": ""
            },
            "colorscale": [
             [
              0,
              "#0d0887"
             ],
             [
              0.1111111111111111,
              "#46039f"
             ],
             [
              0.2222222222222222,
              "#7201a8"
             ],
             [
              0.3333333333333333,
              "#9c179e"
             ],
             [
              0.4444444444444444,
              "#bd3786"
             ],
             [
              0.5555555555555556,
              "#d8576b"
             ],
             [
              0.6666666666666666,
              "#ed7953"
             ],
             [
              0.7777777777777778,
              "#fb9f3a"
             ],
             [
              0.8888888888888888,
              "#fdca26"
             ],
             [
              1,
              "#f0f921"
             ]
            ],
            "type": "contour"
           }
          ],
          "contourcarpet": [
           {
            "colorbar": {
             "outlinewidth": 0,
             "ticks": ""
            },
            "type": "contourcarpet"
           }
          ],
          "heatmap": [
           {
            "colorbar": {
             "outlinewidth": 0,
             "ticks": ""
            },
            "colorscale": [
             [
              0,
              "#0d0887"
             ],
             [
              0.1111111111111111,
              "#46039f"
             ],
             [
              0.2222222222222222,
              "#7201a8"
             ],
             [
              0.3333333333333333,
              "#9c179e"
             ],
             [
              0.4444444444444444,
              "#bd3786"
             ],
             [
              0.5555555555555556,
              "#d8576b"
             ],
             [
              0.6666666666666666,
              "#ed7953"
             ],
             [
              0.7777777777777778,
              "#fb9f3a"
             ],
             [
              0.8888888888888888,
              "#fdca26"
             ],
             [
              1,
              "#f0f921"
             ]
            ],
            "type": "heatmap"
           }
          ],
          "heatmapgl": [
           {
            "colorbar": {
             "outlinewidth": 0,
             "ticks": ""
            },
            "colorscale": [
             [
              0,
              "#0d0887"
             ],
             [
              0.1111111111111111,
              "#46039f"
             ],
             [
              0.2222222222222222,
              "#7201a8"
             ],
             [
              0.3333333333333333,
              "#9c179e"
             ],
             [
              0.4444444444444444,
              "#bd3786"
             ],
             [
              0.5555555555555556,
              "#d8576b"
             ],
             [
              0.6666666666666666,
              "#ed7953"
             ],
             [
              0.7777777777777778,
              "#fb9f3a"
             ],
             [
              0.8888888888888888,
              "#fdca26"
             ],
             [
              1,
              "#f0f921"
             ]
            ],
            "type": "heatmapgl"
           }
          ],
          "histogram": [
           {
            "marker": {
             "pattern": {
              "fillmode": "overlay",
              "size": 10,
              "solidity": 0.2
             }
            },
            "type": "histogram"
           }
          ],
          "histogram2d": [
           {
            "colorbar": {
             "outlinewidth": 0,
             "ticks": ""
            },
            "colorscale": [
             [
              0,
              "#0d0887"
             ],
             [
              0.1111111111111111,
              "#46039f"
             ],
             [
              0.2222222222222222,
              "#7201a8"
             ],
             [
              0.3333333333333333,
              "#9c179e"
             ],
             [
              0.4444444444444444,
              "#bd3786"
             ],
             [
              0.5555555555555556,
              "#d8576b"
             ],
             [
              0.6666666666666666,
              "#ed7953"
             ],
             [
              0.7777777777777778,
              "#fb9f3a"
             ],
             [
              0.8888888888888888,
              "#fdca26"
             ],
             [
              1,
              "#f0f921"
             ]
            ],
            "type": "histogram2d"
           }
          ],
          "histogram2dcontour": [
           {
            "colorbar": {
             "outlinewidth": 0,
             "ticks": ""
            },
            "colorscale": [
             [
              0,
              "#0d0887"
             ],
             [
              0.1111111111111111,
              "#46039f"
             ],
             [
              0.2222222222222222,
              "#7201a8"
             ],
             [
              0.3333333333333333,
              "#9c179e"
             ],
             [
              0.4444444444444444,
              "#bd3786"
             ],
             [
              0.5555555555555556,
              "#d8576b"
             ],
             [
              0.6666666666666666,
              "#ed7953"
             ],
             [
              0.7777777777777778,
              "#fb9f3a"
             ],
             [
              0.8888888888888888,
              "#fdca26"
             ],
             [
              1,
              "#f0f921"
             ]
            ],
            "type": "histogram2dcontour"
           }
          ],
          "mesh3d": [
           {
            "colorbar": {
             "outlinewidth": 0,
             "ticks": ""
            },
            "type": "mesh3d"
           }
          ],
          "parcoords": [
           {
            "line": {
             "colorbar": {
              "outlinewidth": 0,
              "ticks": ""
             }
            },
            "type": "parcoords"
           }
          ],
          "pie": [
           {
            "automargin": true,
            "type": "pie"
           }
          ],
          "scatter": [
           {
            "fillpattern": {
             "fillmode": "overlay",
             "size": 10,
             "solidity": 0.2
            },
            "type": "scatter"
           }
          ],
          "scatter3d": [
           {
            "line": {
             "colorbar": {
              "outlinewidth": 0,
              "ticks": ""
             }
            },
            "marker": {
             "colorbar": {
              "outlinewidth": 0,
              "ticks": ""
             }
            },
            "type": "scatter3d"
           }
          ],
          "scattercarpet": [
           {
            "marker": {
             "colorbar": {
              "outlinewidth": 0,
              "ticks": ""
             }
            },
            "type": "scattercarpet"
           }
          ],
          "scattergeo": [
           {
            "marker": {
             "colorbar": {
              "outlinewidth": 0,
              "ticks": ""
             }
            },
            "type": "scattergeo"
           }
          ],
          "scattergl": [
           {
            "marker": {
             "colorbar": {
              "outlinewidth": 0,
              "ticks": ""
             }
            },
            "type": "scattergl"
           }
          ],
          "scattermapbox": [
           {
            "marker": {
             "colorbar": {
              "outlinewidth": 0,
              "ticks": ""
             }
            },
            "type": "scattermapbox"
           }
          ],
          "scatterpolar": [
           {
            "marker": {
             "colorbar": {
              "outlinewidth": 0,
              "ticks": ""
             }
            },
            "type": "scatterpolar"
           }
          ],
          "scatterpolargl": [
           {
            "marker": {
             "colorbar": {
              "outlinewidth": 0,
              "ticks": ""
             }
            },
            "type": "scatterpolargl"
           }
          ],
          "scatterternary": [
           {
            "marker": {
             "colorbar": {
              "outlinewidth": 0,
              "ticks": ""
             }
            },
            "type": "scatterternary"
           }
          ],
          "surface": [
           {
            "colorbar": {
             "outlinewidth": 0,
             "ticks": ""
            },
            "colorscale": [
             [
              0,
              "#0d0887"
             ],
             [
              0.1111111111111111,
              "#46039f"
             ],
             [
              0.2222222222222222,
              "#7201a8"
             ],
             [
              0.3333333333333333,
              "#9c179e"
             ],
             [
              0.4444444444444444,
              "#bd3786"
             ],
             [
              0.5555555555555556,
              "#d8576b"
             ],
             [
              0.6666666666666666,
              "#ed7953"
             ],
             [
              0.7777777777777778,
              "#fb9f3a"
             ],
             [
              0.8888888888888888,
              "#fdca26"
             ],
             [
              1,
              "#f0f921"
             ]
            ],
            "type": "surface"
           }
          ],
          "table": [
           {
            "cells": {
             "fill": {
              "color": "#EBF0F8"
             },
             "line": {
              "color": "white"
             }
            },
            "header": {
             "fill": {
              "color": "#C8D4E3"
             },
             "line": {
              "color": "white"
             }
            },
            "type": "table"
           }
          ]
         },
         "layout": {
          "annotationdefaults": {
           "arrowcolor": "#2a3f5f",
           "arrowhead": 0,
           "arrowwidth": 1
          },
          "autotypenumbers": "strict",
          "coloraxis": {
           "colorbar": {
            "outlinewidth": 0,
            "ticks": ""
           }
          },
          "colorscale": {
           "diverging": [
            [
             0,
             "#8e0152"
            ],
            [
             0.1,
             "#c51b7d"
            ],
            [
             0.2,
             "#de77ae"
            ],
            [
             0.3,
             "#f1b6da"
            ],
            [
             0.4,
             "#fde0ef"
            ],
            [
             0.5,
             "#f7f7f7"
            ],
            [
             0.6,
             "#e6f5d0"
            ],
            [
             0.7,
             "#b8e186"
            ],
            [
             0.8,
             "#7fbc41"
            ],
            [
             0.9,
             "#4d9221"
            ],
            [
             1,
             "#276419"
            ]
           ],
           "sequential": [
            [
             0,
             "#0d0887"
            ],
            [
             0.1111111111111111,
             "#46039f"
            ],
            [
             0.2222222222222222,
             "#7201a8"
            ],
            [
             0.3333333333333333,
             "#9c179e"
            ],
            [
             0.4444444444444444,
             "#bd3786"
            ],
            [
             0.5555555555555556,
             "#d8576b"
            ],
            [
             0.6666666666666666,
             "#ed7953"
            ],
            [
             0.7777777777777778,
             "#fb9f3a"
            ],
            [
             0.8888888888888888,
             "#fdca26"
            ],
            [
             1,
             "#f0f921"
            ]
           ],
           "sequentialminus": [
            [
             0,
             "#0d0887"
            ],
            [
             0.1111111111111111,
             "#46039f"
            ],
            [
             0.2222222222222222,
             "#7201a8"
            ],
            [
             0.3333333333333333,
             "#9c179e"
            ],
            [
             0.4444444444444444,
             "#bd3786"
            ],
            [
             0.5555555555555556,
             "#d8576b"
            ],
            [
             0.6666666666666666,
             "#ed7953"
            ],
            [
             0.7777777777777778,
             "#fb9f3a"
            ],
            [
             0.8888888888888888,
             "#fdca26"
            ],
            [
             1,
             "#f0f921"
            ]
           ]
          },
          "colorway": [
           "#636efa",
           "#EF553B",
           "#00cc96",
           "#ab63fa",
           "#FFA15A",
           "#19d3f3",
           "#FF6692",
           "#B6E880",
           "#FF97FF",
           "#FECB52"
          ],
          "font": {
           "color": "#2a3f5f"
          },
          "geo": {
           "bgcolor": "white",
           "lakecolor": "white",
           "landcolor": "#E5ECF6",
           "showlakes": true,
           "showland": true,
           "subunitcolor": "white"
          },
          "hoverlabel": {
           "align": "left"
          },
          "hovermode": "closest",
          "mapbox": {
           "style": "light"
          },
          "paper_bgcolor": "white",
          "plot_bgcolor": "#E5ECF6",
          "polar": {
           "angularaxis": {
            "gridcolor": "white",
            "linecolor": "white",
            "ticks": ""
           },
           "bgcolor": "#E5ECF6",
           "radialaxis": {
            "gridcolor": "white",
            "linecolor": "white",
            "ticks": ""
           }
          },
          "scene": {
           "xaxis": {
            "backgroundcolor": "#E5ECF6",
            "gridcolor": "white",
            "gridwidth": 2,
            "linecolor": "white",
            "showbackground": true,
            "ticks": "",
            "zerolinecolor": "white"
           },
           "yaxis": {
            "backgroundcolor": "#E5ECF6",
            "gridcolor": "white",
            "gridwidth": 2,
            "linecolor": "white",
            "showbackground": true,
            "ticks": "",
            "zerolinecolor": "white"
           },
           "zaxis": {
            "backgroundcolor": "#E5ECF6",
            "gridcolor": "white",
            "gridwidth": 2,
            "linecolor": "white",
            "showbackground": true,
            "ticks": "",
            "zerolinecolor": "white"
           }
          },
          "shapedefaults": {
           "line": {
            "color": "#2a3f5f"
           }
          },
          "ternary": {
           "aaxis": {
            "gridcolor": "white",
            "linecolor": "white",
            "ticks": ""
           },
           "baxis": {
            "gridcolor": "white",
            "linecolor": "white",
            "ticks": ""
           },
           "bgcolor": "#E5ECF6",
           "caxis": {
            "gridcolor": "white",
            "linecolor": "white",
            "ticks": ""
           }
          },
          "title": {
           "x": 0.05
          },
          "xaxis": {
           "automargin": true,
           "gridcolor": "white",
           "linecolor": "white",
           "ticks": "",
           "title": {
            "standoff": 15
           },
           "zerolinecolor": "white",
           "zerolinewidth": 2
          },
          "yaxis": {
           "automargin": true,
           "gridcolor": "white",
           "linecolor": "white",
           "ticks": "",
           "title": {
            "standoff": 15
           },
           "zerolinecolor": "white",
           "zerolinewidth": 2
          }
         }
        },
        "title": {
         "text": "Tickets sold, Total box office, and Total inflation from 2015 to 2021"
        },
        "xaxis": {
         "title": {
          "text": "Years"
         }
        },
        "yaxis": {
         "title": {
          "text": "Billions"
         }
        }
       }
      }
     },
     "metadata": {},
     "output_type": "display_data"
    },
    {
     "name": "stdout",
     "output_type": "stream",
     "text": [
      "Percentage of Total Box Office Revenue decreased between COVID 2019 to 2020 by 82%.\n",
      "Percentage of Total Tickets dcreased between COVID 2019 to 2020 by 82%.\n",
      "Percentage of Total Box Office Revenue increased between 2020 to 2021 by 15% of original 2019 revenue.\n",
      "Percentage of Total Tickets increased between 2020 to 2021 by 15% of original 2019 revenue.\n"
     ]
    }
   ],
   "source": [
    "# Reset year range from 2015 to 2021\n",
    "df_ticket_year = df_ticket_num[df_ticket_num['YEAR'].isin([x for x in range(2015,2022)])]\n",
    "# Plot points into a Scatter line graph for Tickets sold, Total Box Office, and Total Inflation\n",
    "fig_box_office = go.Figure(data=[\n",
    "    go.Scatter(name='Tickets Sold', x=df_ticket_year['YEAR'], y=df_ticket_year['TICKETS SOLD']),\n",
    "    go.Scatter(name='Total Box Office', x=df_ticket_year['YEAR'], y=df_ticket_year['TOTAL BOX OFFICE']),\n",
    "    go.Scatter(name='Total Inflation Adjusted Box Office', x=df_ticket_year['YEAR'], y=df_ticket_year['TOTAL INFLATION ADJUSTED BOX OFFICE'])])\n",
    "# Update Graph Titles\n",
    "fig_box_office.update_layout(title_text=\"Tickets sold, Total box office, and Total inflation from 2015 to 2021\",\n",
    "    font=dict(size=15),\n",
    "    xaxis_title=\"Years\",\n",
    "    yaxis_title=\"Billions\",\n",
    "    legend_title=\"Legend Title\"\n",
    ")\n",
    "# Print Line Graph\n",
    "fig_box_office.show()\n",
    "# Calculate analysis\n",
    "revenue_lost = round(100-(df_ticket_year[\"TOTAL BOX OFFICE\"].values[1]/df_ticket_year[\"TOTAL BOX OFFICE\"].values[2])*100)\n",
    "tickets_lost = round(100-(df_ticket_year[\"TICKETS SOLD\"].values[1]/df_ticket_year[\"TICKETS SOLD\"].values[2])*100)\n",
    "tickets_lost1 = round((df_ticket_year[\"TICKETS SOLD\"].values[0]-df_ticket_year[\"TICKETS SOLD\"].values[1])/df_ticket_year[\"TICKETS SOLD\"].values[3]*100)\n",
    "revenue_lost1 = round((df_ticket_year[\"TOTAL BOX OFFICE\"].values[0]-df_ticket_year[\"TOTAL BOX OFFICE\"].values[1])/df_ticket_year[\"TOTAL BOX OFFICE\"].values[3]*100)\n",
    "# Print an analysis\n",
    "print(\"Percentage of Total Box Office Revenue decreased between COVID 2019 to 2020 by \" + str(revenue_lost) + \"%.\")\n",
    "print(\"Percentage of Total Tickets dcreased between COVID 2019 to 2020 by \" + str(tickets_lost) + \"%.\")\n",
    "print(\"Percentage of Total Box Office Revenue increased between 2020 to 2021 by \" + str(revenue_lost1) + \"% of original 2019 revenue.\")\n",
    "print(\"Percentage of Total Tickets increased between 2020 to 2021 by \" + str(tickets_lost1) + \"% of original 2019 revenue.\")\n"
   ]
  },
  {
   "cell_type": "code",
   "execution_count": 25,
   "id": "fcb82af5",
   "metadata": {},
   "outputs": [
    {
     "data": {
      "application/vnd.plotly.v1+json": {
       "config": {
        "plotlyServerURL": "https://plot.ly"
       },
       "data": [
        {
         "name": "Average Ticket Price",
         "type": "scatter",
         "x": [
          2021,
          2020,
          2019,
          2018,
          2017,
          2016,
          2015
         ],
         "y": [
          9.16,
          9.16,
          9.16,
          9.11,
          8.97,
          8.65,
          8.43
         ]
        }
       ],
       "layout": {
        "font": {
         "size": 15
        },
        "template": {
         "data": {
          "bar": [
           {
            "error_x": {
             "color": "#2a3f5f"
            },
            "error_y": {
             "color": "#2a3f5f"
            },
            "marker": {
             "line": {
              "color": "#E5ECF6",
              "width": 0.5
             },
             "pattern": {
              "fillmode": "overlay",
              "size": 10,
              "solidity": 0.2
             }
            },
            "type": "bar"
           }
          ],
          "barpolar": [
           {
            "marker": {
             "line": {
              "color": "#E5ECF6",
              "width": 0.5
             },
             "pattern": {
              "fillmode": "overlay",
              "size": 10,
              "solidity": 0.2
             }
            },
            "type": "barpolar"
           }
          ],
          "carpet": [
           {
            "aaxis": {
             "endlinecolor": "#2a3f5f",
             "gridcolor": "white",
             "linecolor": "white",
             "minorgridcolor": "white",
             "startlinecolor": "#2a3f5f"
            },
            "baxis": {
             "endlinecolor": "#2a3f5f",
             "gridcolor": "white",
             "linecolor": "white",
             "minorgridcolor": "white",
             "startlinecolor": "#2a3f5f"
            },
            "type": "carpet"
           }
          ],
          "choropleth": [
           {
            "colorbar": {
             "outlinewidth": 0,
             "ticks": ""
            },
            "type": "choropleth"
           }
          ],
          "contour": [
           {
            "colorbar": {
             "outlinewidth": 0,
             "ticks": ""
            },
            "colorscale": [
             [
              0,
              "#0d0887"
             ],
             [
              0.1111111111111111,
              "#46039f"
             ],
             [
              0.2222222222222222,
              "#7201a8"
             ],
             [
              0.3333333333333333,
              "#9c179e"
             ],
             [
              0.4444444444444444,
              "#bd3786"
             ],
             [
              0.5555555555555556,
              "#d8576b"
             ],
             [
              0.6666666666666666,
              "#ed7953"
             ],
             [
              0.7777777777777778,
              "#fb9f3a"
             ],
             [
              0.8888888888888888,
              "#fdca26"
             ],
             [
              1,
              "#f0f921"
             ]
            ],
            "type": "contour"
           }
          ],
          "contourcarpet": [
           {
            "colorbar": {
             "outlinewidth": 0,
             "ticks": ""
            },
            "type": "contourcarpet"
           }
          ],
          "heatmap": [
           {
            "colorbar": {
             "outlinewidth": 0,
             "ticks": ""
            },
            "colorscale": [
             [
              0,
              "#0d0887"
             ],
             [
              0.1111111111111111,
              "#46039f"
             ],
             [
              0.2222222222222222,
              "#7201a8"
             ],
             [
              0.3333333333333333,
              "#9c179e"
             ],
             [
              0.4444444444444444,
              "#bd3786"
             ],
             [
              0.5555555555555556,
              "#d8576b"
             ],
             [
              0.6666666666666666,
              "#ed7953"
             ],
             [
              0.7777777777777778,
              "#fb9f3a"
             ],
             [
              0.8888888888888888,
              "#fdca26"
             ],
             [
              1,
              "#f0f921"
             ]
            ],
            "type": "heatmap"
           }
          ],
          "heatmapgl": [
           {
            "colorbar": {
             "outlinewidth": 0,
             "ticks": ""
            },
            "colorscale": [
             [
              0,
              "#0d0887"
             ],
             [
              0.1111111111111111,
              "#46039f"
             ],
             [
              0.2222222222222222,
              "#7201a8"
             ],
             [
              0.3333333333333333,
              "#9c179e"
             ],
             [
              0.4444444444444444,
              "#bd3786"
             ],
             [
              0.5555555555555556,
              "#d8576b"
             ],
             [
              0.6666666666666666,
              "#ed7953"
             ],
             [
              0.7777777777777778,
              "#fb9f3a"
             ],
             [
              0.8888888888888888,
              "#fdca26"
             ],
             [
              1,
              "#f0f921"
             ]
            ],
            "type": "heatmapgl"
           }
          ],
          "histogram": [
           {
            "marker": {
             "pattern": {
              "fillmode": "overlay",
              "size": 10,
              "solidity": 0.2
             }
            },
            "type": "histogram"
           }
          ],
          "histogram2d": [
           {
            "colorbar": {
             "outlinewidth": 0,
             "ticks": ""
            },
            "colorscale": [
             [
              0,
              "#0d0887"
             ],
             [
              0.1111111111111111,
              "#46039f"
             ],
             [
              0.2222222222222222,
              "#7201a8"
             ],
             [
              0.3333333333333333,
              "#9c179e"
             ],
             [
              0.4444444444444444,
              "#bd3786"
             ],
             [
              0.5555555555555556,
              "#d8576b"
             ],
             [
              0.6666666666666666,
              "#ed7953"
             ],
             [
              0.7777777777777778,
              "#fb9f3a"
             ],
             [
              0.8888888888888888,
              "#fdca26"
             ],
             [
              1,
              "#f0f921"
             ]
            ],
            "type": "histogram2d"
           }
          ],
          "histogram2dcontour": [
           {
            "colorbar": {
             "outlinewidth": 0,
             "ticks": ""
            },
            "colorscale": [
             [
              0,
              "#0d0887"
             ],
             [
              0.1111111111111111,
              "#46039f"
             ],
             [
              0.2222222222222222,
              "#7201a8"
             ],
             [
              0.3333333333333333,
              "#9c179e"
             ],
             [
              0.4444444444444444,
              "#bd3786"
             ],
             [
              0.5555555555555556,
              "#d8576b"
             ],
             [
              0.6666666666666666,
              "#ed7953"
             ],
             [
              0.7777777777777778,
              "#fb9f3a"
             ],
             [
              0.8888888888888888,
              "#fdca26"
             ],
             [
              1,
              "#f0f921"
             ]
            ],
            "type": "histogram2dcontour"
           }
          ],
          "mesh3d": [
           {
            "colorbar": {
             "outlinewidth": 0,
             "ticks": ""
            },
            "type": "mesh3d"
           }
          ],
          "parcoords": [
           {
            "line": {
             "colorbar": {
              "outlinewidth": 0,
              "ticks": ""
             }
            },
            "type": "parcoords"
           }
          ],
          "pie": [
           {
            "automargin": true,
            "type": "pie"
           }
          ],
          "scatter": [
           {
            "fillpattern": {
             "fillmode": "overlay",
             "size": 10,
             "solidity": 0.2
            },
            "type": "scatter"
           }
          ],
          "scatter3d": [
           {
            "line": {
             "colorbar": {
              "outlinewidth": 0,
              "ticks": ""
             }
            },
            "marker": {
             "colorbar": {
              "outlinewidth": 0,
              "ticks": ""
             }
            },
            "type": "scatter3d"
           }
          ],
          "scattercarpet": [
           {
            "marker": {
             "colorbar": {
              "outlinewidth": 0,
              "ticks": ""
             }
            },
            "type": "scattercarpet"
           }
          ],
          "scattergeo": [
           {
            "marker": {
             "colorbar": {
              "outlinewidth": 0,
              "ticks": ""
             }
            },
            "type": "scattergeo"
           }
          ],
          "scattergl": [
           {
            "marker": {
             "colorbar": {
              "outlinewidth": 0,
              "ticks": ""
             }
            },
            "type": "scattergl"
           }
          ],
          "scattermapbox": [
           {
            "marker": {
             "colorbar": {
              "outlinewidth": 0,
              "ticks": ""
             }
            },
            "type": "scattermapbox"
           }
          ],
          "scatterpolar": [
           {
            "marker": {
             "colorbar": {
              "outlinewidth": 0,
              "ticks": ""
             }
            },
            "type": "scatterpolar"
           }
          ],
          "scatterpolargl": [
           {
            "marker": {
             "colorbar": {
              "outlinewidth": 0,
              "ticks": ""
             }
            },
            "type": "scatterpolargl"
           }
          ],
          "scatterternary": [
           {
            "marker": {
             "colorbar": {
              "outlinewidth": 0,
              "ticks": ""
             }
            },
            "type": "scatterternary"
           }
          ],
          "surface": [
           {
            "colorbar": {
             "outlinewidth": 0,
             "ticks": ""
            },
            "colorscale": [
             [
              0,
              "#0d0887"
             ],
             [
              0.1111111111111111,
              "#46039f"
             ],
             [
              0.2222222222222222,
              "#7201a8"
             ],
             [
              0.3333333333333333,
              "#9c179e"
             ],
             [
              0.4444444444444444,
              "#bd3786"
             ],
             [
              0.5555555555555556,
              "#d8576b"
             ],
             [
              0.6666666666666666,
              "#ed7953"
             ],
             [
              0.7777777777777778,
              "#fb9f3a"
             ],
             [
              0.8888888888888888,
              "#fdca26"
             ],
             [
              1,
              "#f0f921"
             ]
            ],
            "type": "surface"
           }
          ],
          "table": [
           {
            "cells": {
             "fill": {
              "color": "#EBF0F8"
             },
             "line": {
              "color": "white"
             }
            },
            "header": {
             "fill": {
              "color": "#C8D4E3"
             },
             "line": {
              "color": "white"
             }
            },
            "type": "table"
           }
          ]
         },
         "layout": {
          "annotationdefaults": {
           "arrowcolor": "#2a3f5f",
           "arrowhead": 0,
           "arrowwidth": 1
          },
          "autotypenumbers": "strict",
          "coloraxis": {
           "colorbar": {
            "outlinewidth": 0,
            "ticks": ""
           }
          },
          "colorscale": {
           "diverging": [
            [
             0,
             "#8e0152"
            ],
            [
             0.1,
             "#c51b7d"
            ],
            [
             0.2,
             "#de77ae"
            ],
            [
             0.3,
             "#f1b6da"
            ],
            [
             0.4,
             "#fde0ef"
            ],
            [
             0.5,
             "#f7f7f7"
            ],
            [
             0.6,
             "#e6f5d0"
            ],
            [
             0.7,
             "#b8e186"
            ],
            [
             0.8,
             "#7fbc41"
            ],
            [
             0.9,
             "#4d9221"
            ],
            [
             1,
             "#276419"
            ]
           ],
           "sequential": [
            [
             0,
             "#0d0887"
            ],
            [
             0.1111111111111111,
             "#46039f"
            ],
            [
             0.2222222222222222,
             "#7201a8"
            ],
            [
             0.3333333333333333,
             "#9c179e"
            ],
            [
             0.4444444444444444,
             "#bd3786"
            ],
            [
             0.5555555555555556,
             "#d8576b"
            ],
            [
             0.6666666666666666,
             "#ed7953"
            ],
            [
             0.7777777777777778,
             "#fb9f3a"
            ],
            [
             0.8888888888888888,
             "#fdca26"
            ],
            [
             1,
             "#f0f921"
            ]
           ],
           "sequentialminus": [
            [
             0,
             "#0d0887"
            ],
            [
             0.1111111111111111,
             "#46039f"
            ],
            [
             0.2222222222222222,
             "#7201a8"
            ],
            [
             0.3333333333333333,
             "#9c179e"
            ],
            [
             0.4444444444444444,
             "#bd3786"
            ],
            [
             0.5555555555555556,
             "#d8576b"
            ],
            [
             0.6666666666666666,
             "#ed7953"
            ],
            [
             0.7777777777777778,
             "#fb9f3a"
            ],
            [
             0.8888888888888888,
             "#fdca26"
            ],
            [
             1,
             "#f0f921"
            ]
           ]
          },
          "colorway": [
           "#636efa",
           "#EF553B",
           "#00cc96",
           "#ab63fa",
           "#FFA15A",
           "#19d3f3",
           "#FF6692",
           "#B6E880",
           "#FF97FF",
           "#FECB52"
          ],
          "font": {
           "color": "#2a3f5f"
          },
          "geo": {
           "bgcolor": "white",
           "lakecolor": "white",
           "landcolor": "#E5ECF6",
           "showlakes": true,
           "showland": true,
           "subunitcolor": "white"
          },
          "hoverlabel": {
           "align": "left"
          },
          "hovermode": "closest",
          "mapbox": {
           "style": "light"
          },
          "paper_bgcolor": "white",
          "plot_bgcolor": "#E5ECF6",
          "polar": {
           "angularaxis": {
            "gridcolor": "white",
            "linecolor": "white",
            "ticks": ""
           },
           "bgcolor": "#E5ECF6",
           "radialaxis": {
            "gridcolor": "white",
            "linecolor": "white",
            "ticks": ""
           }
          },
          "scene": {
           "xaxis": {
            "backgroundcolor": "#E5ECF6",
            "gridcolor": "white",
            "gridwidth": 2,
            "linecolor": "white",
            "showbackground": true,
            "ticks": "",
            "zerolinecolor": "white"
           },
           "yaxis": {
            "backgroundcolor": "#E5ECF6",
            "gridcolor": "white",
            "gridwidth": 2,
            "linecolor": "white",
            "showbackground": true,
            "ticks": "",
            "zerolinecolor": "white"
           },
           "zaxis": {
            "backgroundcolor": "#E5ECF6",
            "gridcolor": "white",
            "gridwidth": 2,
            "linecolor": "white",
            "showbackground": true,
            "ticks": "",
            "zerolinecolor": "white"
           }
          },
          "shapedefaults": {
           "line": {
            "color": "#2a3f5f"
           }
          },
          "ternary": {
           "aaxis": {
            "gridcolor": "white",
            "linecolor": "white",
            "ticks": ""
           },
           "baxis": {
            "gridcolor": "white",
            "linecolor": "white",
            "ticks": ""
           },
           "bgcolor": "#E5ECF6",
           "caxis": {
            "gridcolor": "white",
            "linecolor": "white",
            "ticks": ""
           }
          },
          "title": {
           "x": 0.05
          },
          "xaxis": {
           "automargin": true,
           "gridcolor": "white",
           "linecolor": "white",
           "ticks": "",
           "title": {
            "standoff": 15
           },
           "zerolinecolor": "white",
           "zerolinewidth": 2
          },
          "yaxis": {
           "automargin": true,
           "gridcolor": "white",
           "linecolor": "white",
           "ticks": "",
           "title": {
            "standoff": 15
           },
           "zerolinecolor": "white",
           "zerolinewidth": 2
          }
         }
        },
        "title": {
         "text": "Average Ticket Price from 2015 to 2021"
        },
        "xaxis": {
         "title": {
          "text": "Years"
         }
        },
        "yaxis": {
         "title": {
          "text": "Ticket Price $"
         }
        }
       }
      }
     },
     "metadata": {},
     "output_type": "display_data"
    },
    {
     "name": "stdout",
     "output_type": "stream",
     "text": [
      "Percentage of increase in price of tickets between 2015 to COVID 2019: 8%.\n",
      "Percentage of increase in price of tickets between COVID 2019 to 2022: 0%.\n"
     ]
    }
   ],
   "source": [
    "# Plot points into a Scatter line graph for Average Ticket Prices\n",
    "fig_ticket_price = go.Figure(data=[\n",
    "    go.Scatter(name='Average Ticket Price', x=df_ticket_year['YEAR'], y=df_ticket_year['AVERAGE TICKET PRICE'])])\n",
    "# Update Graph Title\n",
    "fig_ticket_price.update_layout(title_text = \"Average Ticket Price from 2015 to 2021\",\n",
    "    font=dict(size=15),\n",
    "    xaxis_title=\"Years\",\n",
    "    yaxis_title=\"Ticket Price $\")\n",
    "# Print Line Graph\n",
    "fig_ticket_price.show()\n",
    "# Calculate analysis\n",
    "ticket_price_gain = round(100-(df_ticket_year[\"AVERAGE TICKET PRICE\"].values[6]/df_ticket_year[\"AVERAGE TICKET PRICE\"].values[2])*100)\n",
    "ticket_price_lost = round(100-(df_ticket_year[\"AVERAGE TICKET PRICE\"].values[1]/df_ticket_year[\"AVERAGE TICKET PRICE\"].values[2])*100)\n",
    "# Print an analysis\n",
    "print(\"Percentage of increase in price of tickets between 2015 to COVID 2019: \" + str(ticket_price_gain) + \"%.\")\n",
    "print(\"Percentage of increase in price of tickets between COVID 2019 to 2022: \" + str(ticket_price_lost) + \"%.\")\n"
   ]
  },
  {
   "cell_type": "code",
   "execution_count": 26,
   "id": "0c0106c4",
   "metadata": {},
   "outputs": [
    {
     "data": {
      "text/html": [
       "<div>\n",
       "<style scoped>\n",
       "    .dataframe tbody tr th:only-of-type {\n",
       "        vertical-align: middle;\n",
       "    }\n",
       "\n",
       "    .dataframe tbody tr th {\n",
       "        vertical-align: top;\n",
       "    }\n",
       "\n",
       "    .dataframe thead th {\n",
       "        text-align: right;\n",
       "    }\n",
       "</style>\n",
       "<table border=\"1\" class=\"dataframe\">\n",
       "  <thead>\n",
       "    <tr style=\"text-align: right;\">\n",
       "      <th></th>\n",
       "      <th>Quarter</th>\n",
       "      <th>Year</th>\n",
       "      <th>Subs</th>\n",
       "      <th>Company</th>\n",
       "    </tr>\n",
       "  </thead>\n",
       "  <tbody>\n",
       "    <tr>\n",
       "      <th>0</th>\n",
       "      <td>Q4</td>\n",
       "      <td>2010</td>\n",
       "      <td>0.30</td>\n",
       "      <td>Hulu</td>\n",
       "    </tr>\n",
       "    <tr>\n",
       "      <th>1</th>\n",
       "      <td>Q1</td>\n",
       "      <td>2011</td>\n",
       "      <td>0.50</td>\n",
       "      <td>Hulu</td>\n",
       "    </tr>\n",
       "    <tr>\n",
       "      <th>2</th>\n",
       "      <td>Q2</td>\n",
       "      <td>2011</td>\n",
       "      <td>0.90</td>\n",
       "      <td>Hulu</td>\n",
       "    </tr>\n",
       "    <tr>\n",
       "      <th>3</th>\n",
       "      <td>Q3</td>\n",
       "      <td>2011</td>\n",
       "      <td>1.20</td>\n",
       "      <td>Hulu</td>\n",
       "    </tr>\n",
       "    <tr>\n",
       "      <th>4</th>\n",
       "      <td>Q4</td>\n",
       "      <td>2011</td>\n",
       "      <td>1.50</td>\n",
       "      <td>Hulu</td>\n",
       "    </tr>\n",
       "    <tr>\n",
       "      <th>...</th>\n",
       "      <td>...</td>\n",
       "      <td>...</td>\n",
       "      <td>...</td>\n",
       "      <td>...</td>\n",
       "    </tr>\n",
       "    <tr>\n",
       "      <th>88</th>\n",
       "      <td>Q1</td>\n",
       "      <td>2022</td>\n",
       "      <td>74.58</td>\n",
       "      <td>Netflix</td>\n",
       "    </tr>\n",
       "    <tr>\n",
       "      <th>89</th>\n",
       "      <td>Q2</td>\n",
       "      <td>2022</td>\n",
       "      <td>73.28</td>\n",
       "      <td>Netflix</td>\n",
       "    </tr>\n",
       "    <tr>\n",
       "      <th>90</th>\n",
       "      <td>Q3</td>\n",
       "      <td>2022</td>\n",
       "      <td>73.39</td>\n",
       "      <td>Netflix</td>\n",
       "    </tr>\n",
       "    <tr>\n",
       "      <th>91</th>\n",
       "      <td>Q4</td>\n",
       "      <td>2022</td>\n",
       "      <td>74.30</td>\n",
       "      <td>Netflix</td>\n",
       "    </tr>\n",
       "    <tr>\n",
       "      <th>92</th>\n",
       "      <td>Q1</td>\n",
       "      <td>2023</td>\n",
       "      <td>74.40</td>\n",
       "      <td>Netflix</td>\n",
       "    </tr>\n",
       "  </tbody>\n",
       "</table>\n",
       "<p>93 rows × 4 columns</p>\n",
       "</div>"
      ],
      "text/plain": [
       "   Quarter  Year   Subs  Company\n",
       "0       Q4  2010   0.30     Hulu\n",
       "1       Q1  2011   0.50     Hulu\n",
       "2       Q2  2011   0.90     Hulu\n",
       "3       Q3  2011   1.20     Hulu\n",
       "4       Q4  2011   1.50     Hulu\n",
       "..     ...   ...    ...      ...\n",
       "88      Q1  2022  74.58  Netflix\n",
       "89      Q2  2022  73.28  Netflix\n",
       "90      Q3  2022  73.39  Netflix\n",
       "91      Q4  2022  74.30  Netflix\n",
       "92      Q1  2023  74.40  Netflix\n",
       "\n",
       "[93 rows x 4 columns]"
      ]
     },
     "execution_count": 26,
     "metadata": {},
     "output_type": "execute_result"
    }
   ],
   "source": [
    "# Merge disney, hulu, and netflix subscriptions\n",
    "result_sub = pd.merge(df_hulu, df_disney, on=[\"Quarter\", \"Year\", \"Subs\", \"Company\"], how=\"outer\")\n",
    "final_result_sub = pd.merge(result_sub, df_netflix, on=[\"Quarter\", \"Year\", \"Subs\", \"Company\"], how=\"outer\")\n",
    "# Print data frame\n",
    "final_result_sub"
   ]
  },
  {
   "cell_type": "code",
   "execution_count": 27,
   "id": "733ecd7e",
   "metadata": {},
   "outputs": [
    {
     "data": {
      "text/html": [
       "<div>\n",
       "<style scoped>\n",
       "    .dataframe tbody tr th:only-of-type {\n",
       "        vertical-align: middle;\n",
       "    }\n",
       "\n",
       "    .dataframe tbody tr th {\n",
       "        vertical-align: top;\n",
       "    }\n",
       "\n",
       "    .dataframe thead th {\n",
       "        text-align: right;\n",
       "    }\n",
       "</style>\n",
       "<table border=\"1\" class=\"dataframe\">\n",
       "  <thead>\n",
       "    <tr style=\"text-align: right;\">\n",
       "      <th></th>\n",
       "      <th>Year</th>\n",
       "      <th>Company</th>\n",
       "      <th>Subs(mil)</th>\n",
       "    </tr>\n",
       "  </thead>\n",
       "  <tbody>\n",
       "    <tr>\n",
       "      <th>0</th>\n",
       "      <td>2010</td>\n",
       "      <td>Hulu</td>\n",
       "      <td>0.3000</td>\n",
       "    </tr>\n",
       "    <tr>\n",
       "      <th>1</th>\n",
       "      <td>2011</td>\n",
       "      <td>Hulu</td>\n",
       "      <td>1.0250</td>\n",
       "    </tr>\n",
       "    <tr>\n",
       "      <th>2</th>\n",
       "      <td>2012</td>\n",
       "      <td>Hulu</td>\n",
       "      <td>2.5000</td>\n",
       "    </tr>\n",
       "    <tr>\n",
       "      <th>3</th>\n",
       "      <td>2013</td>\n",
       "      <td>Hulu</td>\n",
       "      <td>4.5000</td>\n",
       "    </tr>\n",
       "    <tr>\n",
       "      <th>4</th>\n",
       "      <td>2013</td>\n",
       "      <td>Netflix</td>\n",
       "      <td>29.5425</td>\n",
       "    </tr>\n",
       "    <tr>\n",
       "      <th>5</th>\n",
       "      <td>2014</td>\n",
       "      <td>Hulu</td>\n",
       "      <td>6.0000</td>\n",
       "    </tr>\n",
       "    <tr>\n",
       "      <th>6</th>\n",
       "      <td>2014</td>\n",
       "      <td>Netflix</td>\n",
       "      <td>35.8600</td>\n",
       "    </tr>\n",
       "    <tr>\n",
       "      <th>7</th>\n",
       "      <td>2015</td>\n",
       "      <td>Hulu</td>\n",
       "      <td>9.0000</td>\n",
       "    </tr>\n",
       "    <tr>\n",
       "      <th>8</th>\n",
       "      <td>2015</td>\n",
       "      <td>Netflix</td>\n",
       "      <td>41.7125</td>\n",
       "    </tr>\n",
       "    <tr>\n",
       "      <th>9</th>\n",
       "      <td>2016</td>\n",
       "      <td>Hulu</td>\n",
       "      <td>12.0000</td>\n",
       "    </tr>\n",
       "  </tbody>\n",
       "</table>\n",
       "</div>"
      ],
      "text/plain": [
       "   Year  Company  Subs(mil)\n",
       "0  2010     Hulu     0.3000\n",
       "1  2011     Hulu     1.0250\n",
       "2  2012     Hulu     2.5000\n",
       "3  2013     Hulu     4.5000\n",
       "4  2013  Netflix    29.5425\n",
       "5  2014     Hulu     6.0000\n",
       "6  2014  Netflix    35.8600\n",
       "7  2015     Hulu     9.0000\n",
       "8  2015  Netflix    41.7125\n",
       "9  2016     Hulu    12.0000"
      ]
     },
     "execution_count": 27,
     "metadata": {},
     "output_type": "execute_result"
    }
   ],
   "source": [
    "# Group Data with the same year and company\n",
    "final_sub_year = final_result_sub.groupby(['Year', 'Company']).agg({'Subs': ['mean']})\n",
    "# Create a new coloumn\n",
    "final_sub_year.columns = ['Subs(mil)']\n",
    "# reset index\n",
    "final_sub_year = final_sub_year.reset_index()\n",
    "# print data frame\n",
    "final_sub_year.head(10)"
   ]
  },
  {
   "cell_type": "code",
   "execution_count": 28,
   "id": "e81763c0",
   "metadata": {},
   "outputs": [
    {
     "data": {
      "text/html": [
       "<div>\n",
       "<style scoped>\n",
       "    .dataframe tbody tr th:only-of-type {\n",
       "        vertical-align: middle;\n",
       "    }\n",
       "\n",
       "    .dataframe tbody tr th {\n",
       "        vertical-align: top;\n",
       "    }\n",
       "\n",
       "    .dataframe thead th {\n",
       "        text-align: right;\n",
       "    }\n",
       "</style>\n",
       "<table border=\"1\" class=\"dataframe\">\n",
       "  <thead>\n",
       "    <tr style=\"text-align: right;\">\n",
       "      <th></th>\n",
       "      <th>index</th>\n",
       "      <th>Year</th>\n",
       "      <th>Company</th>\n",
       "      <th>Subs(mil)</th>\n",
       "    </tr>\n",
       "  </thead>\n",
       "  <tbody>\n",
       "    <tr>\n",
       "      <th>0</th>\n",
       "      <td>11</td>\n",
       "      <td>2017</td>\n",
       "      <td>Hulu</td>\n",
       "      <td>17.000</td>\n",
       "    </tr>\n",
       "    <tr>\n",
       "      <th>1</th>\n",
       "      <td>13</td>\n",
       "      <td>2018</td>\n",
       "      <td>Hulu</td>\n",
       "      <td>20.000</td>\n",
       "    </tr>\n",
       "    <tr>\n",
       "      <th>2</th>\n",
       "      <td>15</td>\n",
       "      <td>2019</td>\n",
       "      <td>Hulu</td>\n",
       "      <td>26.100</td>\n",
       "    </tr>\n",
       "    <tr>\n",
       "      <th>3</th>\n",
       "      <td>18</td>\n",
       "      <td>2020</td>\n",
       "      <td>Hulu</td>\n",
       "      <td>33.650</td>\n",
       "    </tr>\n",
       "    <tr>\n",
       "      <th>4</th>\n",
       "      <td>21</td>\n",
       "      <td>2021</td>\n",
       "      <td>Hulu</td>\n",
       "      <td>41.900</td>\n",
       "    </tr>\n",
       "    <tr>\n",
       "      <th>5</th>\n",
       "      <td>24</td>\n",
       "      <td>2022</td>\n",
       "      <td>Hulu</td>\n",
       "      <td>46.075</td>\n",
       "    </tr>\n",
       "    <tr>\n",
       "      <th>6</th>\n",
       "      <td>27</td>\n",
       "      <td>2023</td>\n",
       "      <td>Hulu</td>\n",
       "      <td>48.100</td>\n",
       "    </tr>\n",
       "  </tbody>\n",
       "</table>\n",
       "</div>"
      ],
      "text/plain": [
       "   index  Year Company  Subs(mil)\n",
       "0     11  2017    Hulu     17.000\n",
       "1     13  2018    Hulu     20.000\n",
       "2     15  2019    Hulu     26.100\n",
       "3     18  2020    Hulu     33.650\n",
       "4     21  2021    Hulu     41.900\n",
       "5     24  2022    Hulu     46.075\n",
       "6     27  2023    Hulu     48.100"
      ]
     },
     "execution_count": 28,
     "metadata": {},
     "output_type": "execute_result"
    }
   ],
   "source": [
    "# Make a dataframe of only Hulu\n",
    "sub_hulu = final_sub_year[final_sub_year.Company == 'Hulu']\n",
    "# Reduce the years from 2015 to 2023\n",
    "sub_hulu_year = sub_hulu[sub_hulu['Year'].isin([x for x in range(2017,2024)])]\n",
    "sub_hulu_year = sub_hulu_year.reset_index()\n",
    "# Print the dataframe\n",
    "sub_hulu_year"
   ]
  },
  {
   "cell_type": "code",
   "execution_count": 29,
   "id": "99b2585d",
   "metadata": {},
   "outputs": [
    {
     "data": {
      "text/html": [
       "<div>\n",
       "<style scoped>\n",
       "    .dataframe tbody tr th:only-of-type {\n",
       "        vertical-align: middle;\n",
       "    }\n",
       "\n",
       "    .dataframe tbody tr th {\n",
       "        vertical-align: top;\n",
       "    }\n",
       "\n",
       "    .dataframe thead th {\n",
       "        text-align: right;\n",
       "    }\n",
       "</style>\n",
       "<table border=\"1\" class=\"dataframe\">\n",
       "  <thead>\n",
       "    <tr style=\"text-align: right;\">\n",
       "      <th></th>\n",
       "      <th>index</th>\n",
       "      <th>Year</th>\n",
       "      <th>Company</th>\n",
       "      <th>Subs(mil)</th>\n",
       "    </tr>\n",
       "  </thead>\n",
       "  <tbody>\n",
       "    <tr>\n",
       "      <th>0</th>\n",
       "      <td>17</td>\n",
       "      <td>2020</td>\n",
       "      <td>Disney</td>\n",
       "      <td>89.05</td>\n",
       "    </tr>\n",
       "    <tr>\n",
       "      <th>1</th>\n",
       "      <td>20</td>\n",
       "      <td>2021</td>\n",
       "      <td>Disney</td>\n",
       "      <td>108.15</td>\n",
       "    </tr>\n",
       "    <tr>\n",
       "      <th>2</th>\n",
       "      <td>23</td>\n",
       "      <td>2022</td>\n",
       "      <td>Disney</td>\n",
       "      <td>145.95</td>\n",
       "    </tr>\n",
       "    <tr>\n",
       "      <th>3</th>\n",
       "      <td>26</td>\n",
       "      <td>2023</td>\n",
       "      <td>Disney</td>\n",
       "      <td>159.80</td>\n",
       "    </tr>\n",
       "  </tbody>\n",
       "</table>\n",
       "</div>"
      ],
      "text/plain": [
       "   index  Year Company  Subs(mil)\n",
       "0     17  2020  Disney      89.05\n",
       "1     20  2021  Disney     108.15\n",
       "2     23  2022  Disney     145.95\n",
       "3     26  2023  Disney     159.80"
      ]
     },
     "execution_count": 29,
     "metadata": {},
     "output_type": "execute_result"
    }
   ],
   "source": [
    "# Make a dataframe of only Disney\n",
    "sub_disney = final_sub_year[final_sub_year.Company == 'Disney']\n",
    "sub_disney = sub_disney.reset_index()\n",
    "# Print the dataframe\n",
    "sub_disney"
   ]
  },
  {
   "cell_type": "code",
   "execution_count": 30,
   "id": "9b413099",
   "metadata": {},
   "outputs": [
    {
     "data": {
      "text/html": [
       "<div>\n",
       "<style scoped>\n",
       "    .dataframe tbody tr th:only-of-type {\n",
       "        vertical-align: middle;\n",
       "    }\n",
       "\n",
       "    .dataframe tbody tr th {\n",
       "        vertical-align: top;\n",
       "    }\n",
       "\n",
       "    .dataframe thead th {\n",
       "        text-align: right;\n",
       "    }\n",
       "</style>\n",
       "<table border=\"1\" class=\"dataframe\">\n",
       "  <thead>\n",
       "    <tr style=\"text-align: right;\">\n",
       "      <th></th>\n",
       "      <th>index</th>\n",
       "      <th>Year</th>\n",
       "      <th>Company</th>\n",
       "      <th>Subs(mil)</th>\n",
       "    </tr>\n",
       "  </thead>\n",
       "  <tbody>\n",
       "    <tr>\n",
       "      <th>0</th>\n",
       "      <td>12</td>\n",
       "      <td>2017</td>\n",
       "      <td>Netflix</td>\n",
       "      <td>56.3500</td>\n",
       "    </tr>\n",
       "    <tr>\n",
       "      <th>1</th>\n",
       "      <td>14</td>\n",
       "      <td>2018</td>\n",
       "      <td>Netflix</td>\n",
       "      <td>62.6375</td>\n",
       "    </tr>\n",
       "    <tr>\n",
       "      <th>2</th>\n",
       "      <td>16</td>\n",
       "      <td>2019</td>\n",
       "      <td>Netflix</td>\n",
       "      <td>66.9750</td>\n",
       "    </tr>\n",
       "    <tr>\n",
       "      <th>3</th>\n",
       "      <td>19</td>\n",
       "      <td>2020</td>\n",
       "      <td>Netflix</td>\n",
       "      <td>72.4725</td>\n",
       "    </tr>\n",
       "    <tr>\n",
       "      <th>4</th>\n",
       "      <td>22</td>\n",
       "      <td>2021</td>\n",
       "      <td>Netflix</td>\n",
       "      <td>74.3925</td>\n",
       "    </tr>\n",
       "    <tr>\n",
       "      <th>5</th>\n",
       "      <td>25</td>\n",
       "      <td>2022</td>\n",
       "      <td>Netflix</td>\n",
       "      <td>73.8875</td>\n",
       "    </tr>\n",
       "    <tr>\n",
       "      <th>6</th>\n",
       "      <td>28</td>\n",
       "      <td>2023</td>\n",
       "      <td>Netflix</td>\n",
       "      <td>74.4000</td>\n",
       "    </tr>\n",
       "  </tbody>\n",
       "</table>\n",
       "</div>"
      ],
      "text/plain": [
       "   index  Year  Company  Subs(mil)\n",
       "0     12  2017  Netflix    56.3500\n",
       "1     14  2018  Netflix    62.6375\n",
       "2     16  2019  Netflix    66.9750\n",
       "3     19  2020  Netflix    72.4725\n",
       "4     22  2021  Netflix    74.3925\n",
       "5     25  2022  Netflix    73.8875\n",
       "6     28  2023  Netflix    74.4000"
      ]
     },
     "execution_count": 30,
     "metadata": {},
     "output_type": "execute_result"
    }
   ],
   "source": [
    "# Make a dataframe of only Netflix\n",
    "sub_netflix = final_sub_year[final_sub_year.Company == 'Netflix']\n",
    "# Reduce the years from 2015 to 2023\n",
    "sub_netflix_year = sub_netflix[sub_netflix['Year'].isin([x for x in range(2017,2024)])]\n",
    "sub_netflix_year = sub_netflix_year.reset_index()\n",
    "# Print the dataframe\n",
    "sub_netflix_year"
   ]
  },
  {
   "cell_type": "code",
   "execution_count": 31,
   "id": "4777d40a",
   "metadata": {},
   "outputs": [
    {
     "data": {
      "application/vnd.plotly.v1+json": {
       "config": {
        "plotlyServerURL": "https://plot.ly"
       },
       "data": [
        {
         "name": "Hulu",
         "type": "scatter",
         "x": [
          2017,
          2018,
          2019,
          2020,
          2021,
          2022,
          2023
         ],
         "y": [
          17,
          20,
          26.1,
          33.65,
          41.9,
          46.075,
          48.1
         ]
        },
        {
         "name": "Disney",
         "type": "scatter",
         "x": [
          2020,
          2021,
          2022,
          2023
         ],
         "y": [
          89.05,
          108.15,
          145.95,
          159.8
         ]
        },
        {
         "name": "Netflix",
         "type": "scatter",
         "x": [
          2017,
          2018,
          2019,
          2020,
          2021,
          2022,
          2023
         ],
         "y": [
          56.35,
          62.6375,
          66.975,
          72.4725,
          74.3925,
          73.8875,
          74.4
         ]
        }
       ],
       "layout": {
        "font": {
         "size": 15
        },
        "legend": {
         "title": {
          "text": "Legend Title"
         }
        },
        "template": {
         "data": {
          "bar": [
           {
            "error_x": {
             "color": "#2a3f5f"
            },
            "error_y": {
             "color": "#2a3f5f"
            },
            "marker": {
             "line": {
              "color": "#E5ECF6",
              "width": 0.5
             },
             "pattern": {
              "fillmode": "overlay",
              "size": 10,
              "solidity": 0.2
             }
            },
            "type": "bar"
           }
          ],
          "barpolar": [
           {
            "marker": {
             "line": {
              "color": "#E5ECF6",
              "width": 0.5
             },
             "pattern": {
              "fillmode": "overlay",
              "size": 10,
              "solidity": 0.2
             }
            },
            "type": "barpolar"
           }
          ],
          "carpet": [
           {
            "aaxis": {
             "endlinecolor": "#2a3f5f",
             "gridcolor": "white",
             "linecolor": "white",
             "minorgridcolor": "white",
             "startlinecolor": "#2a3f5f"
            },
            "baxis": {
             "endlinecolor": "#2a3f5f",
             "gridcolor": "white",
             "linecolor": "white",
             "minorgridcolor": "white",
             "startlinecolor": "#2a3f5f"
            },
            "type": "carpet"
           }
          ],
          "choropleth": [
           {
            "colorbar": {
             "outlinewidth": 0,
             "ticks": ""
            },
            "type": "choropleth"
           }
          ],
          "contour": [
           {
            "colorbar": {
             "outlinewidth": 0,
             "ticks": ""
            },
            "colorscale": [
             [
              0,
              "#0d0887"
             ],
             [
              0.1111111111111111,
              "#46039f"
             ],
             [
              0.2222222222222222,
              "#7201a8"
             ],
             [
              0.3333333333333333,
              "#9c179e"
             ],
             [
              0.4444444444444444,
              "#bd3786"
             ],
             [
              0.5555555555555556,
              "#d8576b"
             ],
             [
              0.6666666666666666,
              "#ed7953"
             ],
             [
              0.7777777777777778,
              "#fb9f3a"
             ],
             [
              0.8888888888888888,
              "#fdca26"
             ],
             [
              1,
              "#f0f921"
             ]
            ],
            "type": "contour"
           }
          ],
          "contourcarpet": [
           {
            "colorbar": {
             "outlinewidth": 0,
             "ticks": ""
            },
            "type": "contourcarpet"
           }
          ],
          "heatmap": [
           {
            "colorbar": {
             "outlinewidth": 0,
             "ticks": ""
            },
            "colorscale": [
             [
              0,
              "#0d0887"
             ],
             [
              0.1111111111111111,
              "#46039f"
             ],
             [
              0.2222222222222222,
              "#7201a8"
             ],
             [
              0.3333333333333333,
              "#9c179e"
             ],
             [
              0.4444444444444444,
              "#bd3786"
             ],
             [
              0.5555555555555556,
              "#d8576b"
             ],
             [
              0.6666666666666666,
              "#ed7953"
             ],
             [
              0.7777777777777778,
              "#fb9f3a"
             ],
             [
              0.8888888888888888,
              "#fdca26"
             ],
             [
              1,
              "#f0f921"
             ]
            ],
            "type": "heatmap"
           }
          ],
          "heatmapgl": [
           {
            "colorbar": {
             "outlinewidth": 0,
             "ticks": ""
            },
            "colorscale": [
             [
              0,
              "#0d0887"
             ],
             [
              0.1111111111111111,
              "#46039f"
             ],
             [
              0.2222222222222222,
              "#7201a8"
             ],
             [
              0.3333333333333333,
              "#9c179e"
             ],
             [
              0.4444444444444444,
              "#bd3786"
             ],
             [
              0.5555555555555556,
              "#d8576b"
             ],
             [
              0.6666666666666666,
              "#ed7953"
             ],
             [
              0.7777777777777778,
              "#fb9f3a"
             ],
             [
              0.8888888888888888,
              "#fdca26"
             ],
             [
              1,
              "#f0f921"
             ]
            ],
            "type": "heatmapgl"
           }
          ],
          "histogram": [
           {
            "marker": {
             "pattern": {
              "fillmode": "overlay",
              "size": 10,
              "solidity": 0.2
             }
            },
            "type": "histogram"
           }
          ],
          "histogram2d": [
           {
            "colorbar": {
             "outlinewidth": 0,
             "ticks": ""
            },
            "colorscale": [
             [
              0,
              "#0d0887"
             ],
             [
              0.1111111111111111,
              "#46039f"
             ],
             [
              0.2222222222222222,
              "#7201a8"
             ],
             [
              0.3333333333333333,
              "#9c179e"
             ],
             [
              0.4444444444444444,
              "#bd3786"
             ],
             [
              0.5555555555555556,
              "#d8576b"
             ],
             [
              0.6666666666666666,
              "#ed7953"
             ],
             [
              0.7777777777777778,
              "#fb9f3a"
             ],
             [
              0.8888888888888888,
              "#fdca26"
             ],
             [
              1,
              "#f0f921"
             ]
            ],
            "type": "histogram2d"
           }
          ],
          "histogram2dcontour": [
           {
            "colorbar": {
             "outlinewidth": 0,
             "ticks": ""
            },
            "colorscale": [
             [
              0,
              "#0d0887"
             ],
             [
              0.1111111111111111,
              "#46039f"
             ],
             [
              0.2222222222222222,
              "#7201a8"
             ],
             [
              0.3333333333333333,
              "#9c179e"
             ],
             [
              0.4444444444444444,
              "#bd3786"
             ],
             [
              0.5555555555555556,
              "#d8576b"
             ],
             [
              0.6666666666666666,
              "#ed7953"
             ],
             [
              0.7777777777777778,
              "#fb9f3a"
             ],
             [
              0.8888888888888888,
              "#fdca26"
             ],
             [
              1,
              "#f0f921"
             ]
            ],
            "type": "histogram2dcontour"
           }
          ],
          "mesh3d": [
           {
            "colorbar": {
             "outlinewidth": 0,
             "ticks": ""
            },
            "type": "mesh3d"
           }
          ],
          "parcoords": [
           {
            "line": {
             "colorbar": {
              "outlinewidth": 0,
              "ticks": ""
             }
            },
            "type": "parcoords"
           }
          ],
          "pie": [
           {
            "automargin": true,
            "type": "pie"
           }
          ],
          "scatter": [
           {
            "fillpattern": {
             "fillmode": "overlay",
             "size": 10,
             "solidity": 0.2
            },
            "type": "scatter"
           }
          ],
          "scatter3d": [
           {
            "line": {
             "colorbar": {
              "outlinewidth": 0,
              "ticks": ""
             }
            },
            "marker": {
             "colorbar": {
              "outlinewidth": 0,
              "ticks": ""
             }
            },
            "type": "scatter3d"
           }
          ],
          "scattercarpet": [
           {
            "marker": {
             "colorbar": {
              "outlinewidth": 0,
              "ticks": ""
             }
            },
            "type": "scattercarpet"
           }
          ],
          "scattergeo": [
           {
            "marker": {
             "colorbar": {
              "outlinewidth": 0,
              "ticks": ""
             }
            },
            "type": "scattergeo"
           }
          ],
          "scattergl": [
           {
            "marker": {
             "colorbar": {
              "outlinewidth": 0,
              "ticks": ""
             }
            },
            "type": "scattergl"
           }
          ],
          "scattermapbox": [
           {
            "marker": {
             "colorbar": {
              "outlinewidth": 0,
              "ticks": ""
             }
            },
            "type": "scattermapbox"
           }
          ],
          "scatterpolar": [
           {
            "marker": {
             "colorbar": {
              "outlinewidth": 0,
              "ticks": ""
             }
            },
            "type": "scatterpolar"
           }
          ],
          "scatterpolargl": [
           {
            "marker": {
             "colorbar": {
              "outlinewidth": 0,
              "ticks": ""
             }
            },
            "type": "scatterpolargl"
           }
          ],
          "scatterternary": [
           {
            "marker": {
             "colorbar": {
              "outlinewidth": 0,
              "ticks": ""
             }
            },
            "type": "scatterternary"
           }
          ],
          "surface": [
           {
            "colorbar": {
             "outlinewidth": 0,
             "ticks": ""
            },
            "colorscale": [
             [
              0,
              "#0d0887"
             ],
             [
              0.1111111111111111,
              "#46039f"
             ],
             [
              0.2222222222222222,
              "#7201a8"
             ],
             [
              0.3333333333333333,
              "#9c179e"
             ],
             [
              0.4444444444444444,
              "#bd3786"
             ],
             [
              0.5555555555555556,
              "#d8576b"
             ],
             [
              0.6666666666666666,
              "#ed7953"
             ],
             [
              0.7777777777777778,
              "#fb9f3a"
             ],
             [
              0.8888888888888888,
              "#fdca26"
             ],
             [
              1,
              "#f0f921"
             ]
            ],
            "type": "surface"
           }
          ],
          "table": [
           {
            "cells": {
             "fill": {
              "color": "#EBF0F8"
             },
             "line": {
              "color": "white"
             }
            },
            "header": {
             "fill": {
              "color": "#C8D4E3"
             },
             "line": {
              "color": "white"
             }
            },
            "type": "table"
           }
          ]
         },
         "layout": {
          "annotationdefaults": {
           "arrowcolor": "#2a3f5f",
           "arrowhead": 0,
           "arrowwidth": 1
          },
          "autotypenumbers": "strict",
          "coloraxis": {
           "colorbar": {
            "outlinewidth": 0,
            "ticks": ""
           }
          },
          "colorscale": {
           "diverging": [
            [
             0,
             "#8e0152"
            ],
            [
             0.1,
             "#c51b7d"
            ],
            [
             0.2,
             "#de77ae"
            ],
            [
             0.3,
             "#f1b6da"
            ],
            [
             0.4,
             "#fde0ef"
            ],
            [
             0.5,
             "#f7f7f7"
            ],
            [
             0.6,
             "#e6f5d0"
            ],
            [
             0.7,
             "#b8e186"
            ],
            [
             0.8,
             "#7fbc41"
            ],
            [
             0.9,
             "#4d9221"
            ],
            [
             1,
             "#276419"
            ]
           ],
           "sequential": [
            [
             0,
             "#0d0887"
            ],
            [
             0.1111111111111111,
             "#46039f"
            ],
            [
             0.2222222222222222,
             "#7201a8"
            ],
            [
             0.3333333333333333,
             "#9c179e"
            ],
            [
             0.4444444444444444,
             "#bd3786"
            ],
            [
             0.5555555555555556,
             "#d8576b"
            ],
            [
             0.6666666666666666,
             "#ed7953"
            ],
            [
             0.7777777777777778,
             "#fb9f3a"
            ],
            [
             0.8888888888888888,
             "#fdca26"
            ],
            [
             1,
             "#f0f921"
            ]
           ],
           "sequentialminus": [
            [
             0,
             "#0d0887"
            ],
            [
             0.1111111111111111,
             "#46039f"
            ],
            [
             0.2222222222222222,
             "#7201a8"
            ],
            [
             0.3333333333333333,
             "#9c179e"
            ],
            [
             0.4444444444444444,
             "#bd3786"
            ],
            [
             0.5555555555555556,
             "#d8576b"
            ],
            [
             0.6666666666666666,
             "#ed7953"
            ],
            [
             0.7777777777777778,
             "#fb9f3a"
            ],
            [
             0.8888888888888888,
             "#fdca26"
            ],
            [
             1,
             "#f0f921"
            ]
           ]
          },
          "colorway": [
           "#636efa",
           "#EF553B",
           "#00cc96",
           "#ab63fa",
           "#FFA15A",
           "#19d3f3",
           "#FF6692",
           "#B6E880",
           "#FF97FF",
           "#FECB52"
          ],
          "font": {
           "color": "#2a3f5f"
          },
          "geo": {
           "bgcolor": "white",
           "lakecolor": "white",
           "landcolor": "#E5ECF6",
           "showlakes": true,
           "showland": true,
           "subunitcolor": "white"
          },
          "hoverlabel": {
           "align": "left"
          },
          "hovermode": "closest",
          "mapbox": {
           "style": "light"
          },
          "paper_bgcolor": "white",
          "plot_bgcolor": "#E5ECF6",
          "polar": {
           "angularaxis": {
            "gridcolor": "white",
            "linecolor": "white",
            "ticks": ""
           },
           "bgcolor": "#E5ECF6",
           "radialaxis": {
            "gridcolor": "white",
            "linecolor": "white",
            "ticks": ""
           }
          },
          "scene": {
           "xaxis": {
            "backgroundcolor": "#E5ECF6",
            "gridcolor": "white",
            "gridwidth": 2,
            "linecolor": "white",
            "showbackground": true,
            "ticks": "",
            "zerolinecolor": "white"
           },
           "yaxis": {
            "backgroundcolor": "#E5ECF6",
            "gridcolor": "white",
            "gridwidth": 2,
            "linecolor": "white",
            "showbackground": true,
            "ticks": "",
            "zerolinecolor": "white"
           },
           "zaxis": {
            "backgroundcolor": "#E5ECF6",
            "gridcolor": "white",
            "gridwidth": 2,
            "linecolor": "white",
            "showbackground": true,
            "ticks": "",
            "zerolinecolor": "white"
           }
          },
          "shapedefaults": {
           "line": {
            "color": "#2a3f5f"
           }
          },
          "ternary": {
           "aaxis": {
            "gridcolor": "white",
            "linecolor": "white",
            "ticks": ""
           },
           "baxis": {
            "gridcolor": "white",
            "linecolor": "white",
            "ticks": ""
           },
           "bgcolor": "#E5ECF6",
           "caxis": {
            "gridcolor": "white",
            "linecolor": "white",
            "ticks": ""
           }
          },
          "title": {
           "x": 0.05
          },
          "xaxis": {
           "automargin": true,
           "gridcolor": "white",
           "linecolor": "white",
           "ticks": "",
           "title": {
            "standoff": 15
           },
           "zerolinecolor": "white",
           "zerolinewidth": 2
          },
          "yaxis": {
           "automargin": true,
           "gridcolor": "white",
           "linecolor": "white",
           "ticks": "",
           "title": {
            "standoff": 15
           },
           "zerolinecolor": "white",
           "zerolinewidth": 2
          }
         }
        },
        "title": {
         "text": "Online Video Subsciption Subsribers from 2017 to 2023"
        },
        "xaxis": {
         "title": {
          "text": "Years"
         }
        },
        "yaxis": {
         "title": {
          "text": "Millions of Subscribers"
         }
        }
       }
      }
     },
     "metadata": {},
     "output_type": "display_data"
    },
    {
     "name": "stdout",
     "output_type": "stream",
     "text": [
      "The three top main online streaming providers had an increase of 79 million subscribers from 2020 to 2023.\n",
      "Which is a 39% increase in streaming subscribers.\n"
     ]
    }
   ],
   "source": [
    "# Plot Disney, Hulu, and Neflix subscribers\n",
    "fig_sub = go.Figure(data=[\n",
    "    go.Scatter(name='Hulu', x=sub_hulu_year['Year'], y=sub_hulu_year['Subs(mil)']),\n",
    "    go.Scatter(name='Disney', x=sub_disney['Year'], y=sub_disney['Subs(mil)']),\n",
    "    go.Scatter(name='Netflix', x=sub_netflix_year['Year'], y=sub_netflix_year['Subs(mil)'])])\n",
    "# Update Graph Titles\n",
    "fig_sub.update_layout(title_text=\"Online Video Subsciption Subsribers from 2017 to 2023\",\n",
    "    font=dict(size=15),\n",
    "    xaxis_title=\"Years\",\n",
    "    yaxis_title=\"Millions of Subscribers\",\n",
    "    legend_title=\"Legend Title\")\n",
    "# Print Line Graph\n",
    "fig_sub.show()\n",
    "# Calculate analysis\n",
    "sub_gain_2020 = sub_hulu_year['Subs(mil)'].values[4]+sub_disney['Subs(mil)'].values[0]+sub_netflix_year['Subs(mil)'].values[3]\n",
    "sub_gain_2023 = sub_hulu_year['Subs(mil)'].values[6]+sub_disney['Subs(mil)'].values[3]+sub_netflix_year['Subs(mil)'][6]\n",
    "sub_gain = sub_gain_2023-sub_gain_2020\n",
    "sub_gain_pct = round(sub_gain/sub_gain_2020*100)\n",
    "# Print Analysis\n",
    "print(\"The three top main online streaming providers had an increase of \" +str(round(sub_gain))+\" million subscribers from 2020 to 2023.\")\n",
    "print(\"Which is a \"+str(sub_gain_pct)+\"% increase in streaming subscribers.\")\n"
   ]
  },
  {
   "cell_type": "code",
   "execution_count": 32,
   "id": "b60889a8",
   "metadata": {},
   "outputs": [
    {
     "data": {
      "application/vnd.plotly.v1+json": {
       "config": {
        "plotlyServerURL": "https://plot.ly"
       },
       "data": [
        {
         "name": "Hulu (in Millions)",
         "type": "scatter",
         "x": [
          2017,
          2018,
          2019,
          2020,
          2021,
          2022,
          2023
         ],
         "y": [
          17,
          20,
          26.1,
          33.65,
          41.9,
          46.075,
          48.1
         ]
        },
        {
         "name": "Disney (in Millions)",
         "type": "scatter",
         "x": [
          2020,
          2021,
          2022,
          2023
         ],
         "y": [
          89.05,
          108.15,
          145.95,
          159.8
         ]
        },
        {
         "name": "Netflix (in Millions)",
         "type": "scatter",
         "x": [
          2017,
          2018,
          2019,
          2020,
          2021,
          2022,
          2023
         ],
         "y": [
          56.35,
          62.6375,
          66.975,
          72.4725,
          74.3925,
          73.8875,
          74.4
         ]
        },
        {
         "name": "Tickets Sold (in 10 millions)",
         "type": "scatter",
         "x": [
          2021,
          2020,
          2019,
          2018,
          2017,
          2016,
          2015
         ],
         "y": [
          42.3774881,
          22.3638958,
          122.8541629,
          131.1536128,
          122.5639761,
          130.2556378,
          132.3356776
         ]
        },
        {
         "name": "Total Box Office (in 100 Millions)",
         "type": "scatter",
         "x": [
          2021,
          2020,
          2019,
          2018,
          2017,
          2016,
          2015
         ],
         "y": [
          38.81777912,
          20.48534616,
          112.53443955,
          119.4809665,
          109.9399146,
          112.67115924,
          111.55900636
         ]
        }
       ],
       "layout": {
        "font": {
         "size": 15
        },
        "legend": {
         "title": {
          "text": "Legend Title"
         }
        },
        "template": {
         "data": {
          "bar": [
           {
            "error_x": {
             "color": "#2a3f5f"
            },
            "error_y": {
             "color": "#2a3f5f"
            },
            "marker": {
             "line": {
              "color": "#E5ECF6",
              "width": 0.5
             },
             "pattern": {
              "fillmode": "overlay",
              "size": 10,
              "solidity": 0.2
             }
            },
            "type": "bar"
           }
          ],
          "barpolar": [
           {
            "marker": {
             "line": {
              "color": "#E5ECF6",
              "width": 0.5
             },
             "pattern": {
              "fillmode": "overlay",
              "size": 10,
              "solidity": 0.2
             }
            },
            "type": "barpolar"
           }
          ],
          "carpet": [
           {
            "aaxis": {
             "endlinecolor": "#2a3f5f",
             "gridcolor": "white",
             "linecolor": "white",
             "minorgridcolor": "white",
             "startlinecolor": "#2a3f5f"
            },
            "baxis": {
             "endlinecolor": "#2a3f5f",
             "gridcolor": "white",
             "linecolor": "white",
             "minorgridcolor": "white",
             "startlinecolor": "#2a3f5f"
            },
            "type": "carpet"
           }
          ],
          "choropleth": [
           {
            "colorbar": {
             "outlinewidth": 0,
             "ticks": ""
            },
            "type": "choropleth"
           }
          ],
          "contour": [
           {
            "colorbar": {
             "outlinewidth": 0,
             "ticks": ""
            },
            "colorscale": [
             [
              0,
              "#0d0887"
             ],
             [
              0.1111111111111111,
              "#46039f"
             ],
             [
              0.2222222222222222,
              "#7201a8"
             ],
             [
              0.3333333333333333,
              "#9c179e"
             ],
             [
              0.4444444444444444,
              "#bd3786"
             ],
             [
              0.5555555555555556,
              "#d8576b"
             ],
             [
              0.6666666666666666,
              "#ed7953"
             ],
             [
              0.7777777777777778,
              "#fb9f3a"
             ],
             [
              0.8888888888888888,
              "#fdca26"
             ],
             [
              1,
              "#f0f921"
             ]
            ],
            "type": "contour"
           }
          ],
          "contourcarpet": [
           {
            "colorbar": {
             "outlinewidth": 0,
             "ticks": ""
            },
            "type": "contourcarpet"
           }
          ],
          "heatmap": [
           {
            "colorbar": {
             "outlinewidth": 0,
             "ticks": ""
            },
            "colorscale": [
             [
              0,
              "#0d0887"
             ],
             [
              0.1111111111111111,
              "#46039f"
             ],
             [
              0.2222222222222222,
              "#7201a8"
             ],
             [
              0.3333333333333333,
              "#9c179e"
             ],
             [
              0.4444444444444444,
              "#bd3786"
             ],
             [
              0.5555555555555556,
              "#d8576b"
             ],
             [
              0.6666666666666666,
              "#ed7953"
             ],
             [
              0.7777777777777778,
              "#fb9f3a"
             ],
             [
              0.8888888888888888,
              "#fdca26"
             ],
             [
              1,
              "#f0f921"
             ]
            ],
            "type": "heatmap"
           }
          ],
          "heatmapgl": [
           {
            "colorbar": {
             "outlinewidth": 0,
             "ticks": ""
            },
            "colorscale": [
             [
              0,
              "#0d0887"
             ],
             [
              0.1111111111111111,
              "#46039f"
             ],
             [
              0.2222222222222222,
              "#7201a8"
             ],
             [
              0.3333333333333333,
              "#9c179e"
             ],
             [
              0.4444444444444444,
              "#bd3786"
             ],
             [
              0.5555555555555556,
              "#d8576b"
             ],
             [
              0.6666666666666666,
              "#ed7953"
             ],
             [
              0.7777777777777778,
              "#fb9f3a"
             ],
             [
              0.8888888888888888,
              "#fdca26"
             ],
             [
              1,
              "#f0f921"
             ]
            ],
            "type": "heatmapgl"
           }
          ],
          "histogram": [
           {
            "marker": {
             "pattern": {
              "fillmode": "overlay",
              "size": 10,
              "solidity": 0.2
             }
            },
            "type": "histogram"
           }
          ],
          "histogram2d": [
           {
            "colorbar": {
             "outlinewidth": 0,
             "ticks": ""
            },
            "colorscale": [
             [
              0,
              "#0d0887"
             ],
             [
              0.1111111111111111,
              "#46039f"
             ],
             [
              0.2222222222222222,
              "#7201a8"
             ],
             [
              0.3333333333333333,
              "#9c179e"
             ],
             [
              0.4444444444444444,
              "#bd3786"
             ],
             [
              0.5555555555555556,
              "#d8576b"
             ],
             [
              0.6666666666666666,
              "#ed7953"
             ],
             [
              0.7777777777777778,
              "#fb9f3a"
             ],
             [
              0.8888888888888888,
              "#fdca26"
             ],
             [
              1,
              "#f0f921"
             ]
            ],
            "type": "histogram2d"
           }
          ],
          "histogram2dcontour": [
           {
            "colorbar": {
             "outlinewidth": 0,
             "ticks": ""
            },
            "colorscale": [
             [
              0,
              "#0d0887"
             ],
             [
              0.1111111111111111,
              "#46039f"
             ],
             [
              0.2222222222222222,
              "#7201a8"
             ],
             [
              0.3333333333333333,
              "#9c179e"
             ],
             [
              0.4444444444444444,
              "#bd3786"
             ],
             [
              0.5555555555555556,
              "#d8576b"
             ],
             [
              0.6666666666666666,
              "#ed7953"
             ],
             [
              0.7777777777777778,
              "#fb9f3a"
             ],
             [
              0.8888888888888888,
              "#fdca26"
             ],
             [
              1,
              "#f0f921"
             ]
            ],
            "type": "histogram2dcontour"
           }
          ],
          "mesh3d": [
           {
            "colorbar": {
             "outlinewidth": 0,
             "ticks": ""
            },
            "type": "mesh3d"
           }
          ],
          "parcoords": [
           {
            "line": {
             "colorbar": {
              "outlinewidth": 0,
              "ticks": ""
             }
            },
            "type": "parcoords"
           }
          ],
          "pie": [
           {
            "automargin": true,
            "type": "pie"
           }
          ],
          "scatter": [
           {
            "fillpattern": {
             "fillmode": "overlay",
             "size": 10,
             "solidity": 0.2
            },
            "type": "scatter"
           }
          ],
          "scatter3d": [
           {
            "line": {
             "colorbar": {
              "outlinewidth": 0,
              "ticks": ""
             }
            },
            "marker": {
             "colorbar": {
              "outlinewidth": 0,
              "ticks": ""
             }
            },
            "type": "scatter3d"
           }
          ],
          "scattercarpet": [
           {
            "marker": {
             "colorbar": {
              "outlinewidth": 0,
              "ticks": ""
             }
            },
            "type": "scattercarpet"
           }
          ],
          "scattergeo": [
           {
            "marker": {
             "colorbar": {
              "outlinewidth": 0,
              "ticks": ""
             }
            },
            "type": "scattergeo"
           }
          ],
          "scattergl": [
           {
            "marker": {
             "colorbar": {
              "outlinewidth": 0,
              "ticks": ""
             }
            },
            "type": "scattergl"
           }
          ],
          "scattermapbox": [
           {
            "marker": {
             "colorbar": {
              "outlinewidth": 0,
              "ticks": ""
             }
            },
            "type": "scattermapbox"
           }
          ],
          "scatterpolar": [
           {
            "marker": {
             "colorbar": {
              "outlinewidth": 0,
              "ticks": ""
             }
            },
            "type": "scatterpolar"
           }
          ],
          "scatterpolargl": [
           {
            "marker": {
             "colorbar": {
              "outlinewidth": 0,
              "ticks": ""
             }
            },
            "type": "scatterpolargl"
           }
          ],
          "scatterternary": [
           {
            "marker": {
             "colorbar": {
              "outlinewidth": 0,
              "ticks": ""
             }
            },
            "type": "scatterternary"
           }
          ],
          "surface": [
           {
            "colorbar": {
             "outlinewidth": 0,
             "ticks": ""
            },
            "colorscale": [
             [
              0,
              "#0d0887"
             ],
             [
              0.1111111111111111,
              "#46039f"
             ],
             [
              0.2222222222222222,
              "#7201a8"
             ],
             [
              0.3333333333333333,
              "#9c179e"
             ],
             [
              0.4444444444444444,
              "#bd3786"
             ],
             [
              0.5555555555555556,
              "#d8576b"
             ],
             [
              0.6666666666666666,
              "#ed7953"
             ],
             [
              0.7777777777777778,
              "#fb9f3a"
             ],
             [
              0.8888888888888888,
              "#fdca26"
             ],
             [
              1,
              "#f0f921"
             ]
            ],
            "type": "surface"
           }
          ],
          "table": [
           {
            "cells": {
             "fill": {
              "color": "#EBF0F8"
             },
             "line": {
              "color": "white"
             }
            },
            "header": {
             "fill": {
              "color": "#C8D4E3"
             },
             "line": {
              "color": "white"
             }
            },
            "type": "table"
           }
          ]
         },
         "layout": {
          "annotationdefaults": {
           "arrowcolor": "#2a3f5f",
           "arrowhead": 0,
           "arrowwidth": 1
          },
          "autotypenumbers": "strict",
          "coloraxis": {
           "colorbar": {
            "outlinewidth": 0,
            "ticks": ""
           }
          },
          "colorscale": {
           "diverging": [
            [
             0,
             "#8e0152"
            ],
            [
             0.1,
             "#c51b7d"
            ],
            [
             0.2,
             "#de77ae"
            ],
            [
             0.3,
             "#f1b6da"
            ],
            [
             0.4,
             "#fde0ef"
            ],
            [
             0.5,
             "#f7f7f7"
            ],
            [
             0.6,
             "#e6f5d0"
            ],
            [
             0.7,
             "#b8e186"
            ],
            [
             0.8,
             "#7fbc41"
            ],
            [
             0.9,
             "#4d9221"
            ],
            [
             1,
             "#276419"
            ]
           ],
           "sequential": [
            [
             0,
             "#0d0887"
            ],
            [
             0.1111111111111111,
             "#46039f"
            ],
            [
             0.2222222222222222,
             "#7201a8"
            ],
            [
             0.3333333333333333,
             "#9c179e"
            ],
            [
             0.4444444444444444,
             "#bd3786"
            ],
            [
             0.5555555555555556,
             "#d8576b"
            ],
            [
             0.6666666666666666,
             "#ed7953"
            ],
            [
             0.7777777777777778,
             "#fb9f3a"
            ],
            [
             0.8888888888888888,
             "#fdca26"
            ],
            [
             1,
             "#f0f921"
            ]
           ],
           "sequentialminus": [
            [
             0,
             "#0d0887"
            ],
            [
             0.1111111111111111,
             "#46039f"
            ],
            [
             0.2222222222222222,
             "#7201a8"
            ],
            [
             0.3333333333333333,
             "#9c179e"
            ],
            [
             0.4444444444444444,
             "#bd3786"
            ],
            [
             0.5555555555555556,
             "#d8576b"
            ],
            [
             0.6666666666666666,
             "#ed7953"
            ],
            [
             0.7777777777777778,
             "#fb9f3a"
            ],
            [
             0.8888888888888888,
             "#fdca26"
            ],
            [
             1,
             "#f0f921"
            ]
           ]
          },
          "colorway": [
           "#636efa",
           "#EF553B",
           "#00cc96",
           "#ab63fa",
           "#FFA15A",
           "#19d3f3",
           "#FF6692",
           "#B6E880",
           "#FF97FF",
           "#FECB52"
          ],
          "font": {
           "color": "#2a3f5f"
          },
          "geo": {
           "bgcolor": "white",
           "lakecolor": "white",
           "landcolor": "#E5ECF6",
           "showlakes": true,
           "showland": true,
           "subunitcolor": "white"
          },
          "hoverlabel": {
           "align": "left"
          },
          "hovermode": "closest",
          "mapbox": {
           "style": "light"
          },
          "paper_bgcolor": "white",
          "plot_bgcolor": "#E5ECF6",
          "polar": {
           "angularaxis": {
            "gridcolor": "white",
            "linecolor": "white",
            "ticks": ""
           },
           "bgcolor": "#E5ECF6",
           "radialaxis": {
            "gridcolor": "white",
            "linecolor": "white",
            "ticks": ""
           }
          },
          "scene": {
           "xaxis": {
            "backgroundcolor": "#E5ECF6",
            "gridcolor": "white",
            "gridwidth": 2,
            "linecolor": "white",
            "showbackground": true,
            "ticks": "",
            "zerolinecolor": "white"
           },
           "yaxis": {
            "backgroundcolor": "#E5ECF6",
            "gridcolor": "white",
            "gridwidth": 2,
            "linecolor": "white",
            "showbackground": true,
            "ticks": "",
            "zerolinecolor": "white"
           },
           "zaxis": {
            "backgroundcolor": "#E5ECF6",
            "gridcolor": "white",
            "gridwidth": 2,
            "linecolor": "white",
            "showbackground": true,
            "ticks": "",
            "zerolinecolor": "white"
           }
          },
          "shapedefaults": {
           "line": {
            "color": "#2a3f5f"
           }
          },
          "ternary": {
           "aaxis": {
            "gridcolor": "white",
            "linecolor": "white",
            "ticks": ""
           },
           "baxis": {
            "gridcolor": "white",
            "linecolor": "white",
            "ticks": ""
           },
           "bgcolor": "#E5ECF6",
           "caxis": {
            "gridcolor": "white",
            "linecolor": "white",
            "ticks": ""
           }
          },
          "title": {
           "x": 0.05
          },
          "xaxis": {
           "automargin": true,
           "gridcolor": "white",
           "linecolor": "white",
           "ticks": "",
           "title": {
            "standoff": 15
           },
           "zerolinecolor": "white",
           "zerolinewidth": 2
          },
          "yaxis": {
           "automargin": true,
           "gridcolor": "white",
           "linecolor": "white",
           "ticks": "",
           "title": {
            "standoff": 15
           },
           "zerolinecolor": "white",
           "zerolinewidth": 2
          }
         }
        },
        "title": {
         "text": "Online Video Subsciptions vs Box Office Revenue"
        },
        "xaxis": {
         "title": {
          "text": "Years"
         }
        },
        "yaxis": {
         "title": {
          "text": "Revenue, Tickets, and Subscribers"
         }
        }
       }
      }
     },
     "metadata": {},
     "output_type": "display_data"
    },
    {
     "name": "stdout",
     "output_type": "stream",
     "text": [
      "As you can see from the line charts provided. Total Box Office revenue saw an over 80% decrease in revenue in a single year from 2019 to 2020.\n",
      "The average price of tickets had no increase of price once COVID-19 hit and had no increases since due to the decline of people going to the movies and tighter budgets.\n",
      "While the three main streaming providers had a huge increase of 40% in subscribers from 2020 to 2023 which is an extra 80 million new subscribers!\n",
      "Subscribers are still increasing in streaming services as they add new content and platforms.\n",
      "Box Office revenue and ticket have gone up between 2020 and 2021 but only at a whopping 15% of the original 2019 sales.\n",
      "Without a new change coming. Movie theaters might not recover with such a slow increase in revenue and a high demand of new streaming subscribers.\n"
     ]
    }
   ],
   "source": [
    "df_ticket_plot = df_ticket_year.copy()\n",
    "df_ticket_plot['TOTAL BOX OFFICE'] = (df_ticket_plot['TOTAL BOX OFFICE']/100000000)\n",
    "df_ticket_plot['TOTAL INFLATION ADJUSTED BOX OFFICE'] = (df_ticket_plot['TOTAL INFLATION ADJUSTED BOX OFFICE']/100000000)\n",
    "df_ticket_plot['TICKETS SOLD'] = (df_ticket_plot['TICKETS SOLD']/10000000)\n",
    "\n",
    "# Plot Subscribers and Box Office Revenue\n",
    "fig_sub = go.Figure(data=[\n",
    "    go.Scatter(name='Hulu (in Millions)', x=sub_hulu_year['Year'], y=sub_hulu_year['Subs(mil)']),\n",
    "    go.Scatter(name='Disney (in Millions)', x=sub_disney['Year'], y=sub_disney['Subs(mil)']),\n",
    "    go.Scatter(name='Netflix (in Millions)', x=sub_netflix_year['Year'], y=sub_netflix_year['Subs(mil)']),\n",
    "    go.Scatter(name='Tickets Sold (in 10 millions)', x=df_ticket_plot['YEAR'], y=df_ticket_plot['TICKETS SOLD']),\n",
    "    go.Scatter(name='Total Box Office (in 100 Millions)', x=df_ticket_plot['YEAR'], y=df_ticket_plot['TOTAL BOX OFFICE'])])\n",
    "# Update Graph Titles\n",
    "fig_sub.update_layout(title_text=\"Online Video Subsciptions vs Box Office Revenue\",\n",
    "    font=dict(size=15),\n",
    "    xaxis_title=\"Years\",\n",
    "    yaxis_title=\"Revenue, Tickets, and Subscribers\",\n",
    "    legend_title=\"Legend Title\")\n",
    "# Print Line Graph\n",
    "fig_sub.show()\n",
    "# Print Overall Analysis\n",
    "print(\"As you can see from the line charts provided. Total Box Office revenue saw an over 80% decrease in revenue in a single year from 2019 to 2020.\")\n",
    "print(\"The average price of tickets had no increase of price once COVID-19 hit and had no increases since due to the decline of people going to the movies and tighter budgets.\")\n",
    "print(\"While the three main streaming providers had a huge increase of 40% in subscribers from 2020 to 2023 which is an extra 80 million new subscribers!\")\n",
    "print(\"Subscribers are still increasing in streaming services as they add new content and platforms.\")\n",
    "print(\"Box Office revenue and ticket have gone up between 2020 and 2021 but only at a whopping 15% of the original 2019 sales.\")\n",
    "print(\"Without a new change coming. Movie theaters might not recover with such a slow increase in revenue and a high demand of new streaming subscribers.\")\n"
   ]
  }
 ],
 "metadata": {
  "kernelspec": {
   "display_name": "Python 3 (ipykernel)",
   "language": "python",
   "name": "python3"
  },
  "language_info": {
   "codemirror_mode": {
    "name": "ipython",
    "version": 3
   },
   "file_extension": ".py",
   "mimetype": "text/x-python",
   "name": "python",
   "nbconvert_exporter": "python",
   "pygments_lexer": "ipython3",
   "version": "3.10.9"
  }
 },
 "nbformat": 4,
 "nbformat_minor": 5
}
