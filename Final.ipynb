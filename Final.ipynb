{
 "cells": [
  {
   "cell_type": "code",
   "execution_count": 8,
   "id": "ef3250cf-14fc-4d3f-b56b-486ce36c72cd",
   "metadata": {},
   "outputs": [],
   "source": [
    "# Project 1 Team 3\n",
    "\n",
    "import matplotlib.pyplot as plt\n",
    "import pandas as pd\n",
    "import os\n",
    "\n",
    "archive_path = \"archive/MoviesOnStreamingPlatforms.csv\"\n",
    "ticket_sales_path = \"TicketSales/AnnualTicketSales.csv\"\n",
    "gross_path = \"TicketSales/HighestGrossers.csv\"\n",
    "creative_types_path = \"TicketSales/PopularCreativeTypes.csv\"\n",
    "top_distributors_path = \"TicketSales/TopDistributors.csv\"\n",
    "top_genres_path = \"TicketSales/TopGenres.csv\"\n",
    "top_gross_ratings_path = \"TicketSales/TopGrossingRatings.csv\"\n",
    "top_gross_source_path = \"TicketSales/TopGrossingSources.csv\"\n",
    "top_production_path = \"TicketSales/TopProductionMethods.csv\"\n",
    "subscriber_count_path = \"subscription/svod-subscriber-count.csv\"\n",
    "ticket_sold_path = \"subscription/tickets-sold-at-box-offices.csv\"\n",
    "subscription_price_path = \"subscription/svod-services-monthly-subscription-price.csv\"\n",
    "user_share_path = \"subscription/svod-service-user-shares.csv\"\n",
    "hulu_subscribers = \"subscription/hulus-paying-subscribers.csv\"\n",
    "disney_subscribers = \"subscription/disney-subscribers-count.csv\"\n",
    "home_vs_theater_path = \"subscription/adults-who-preferred-to-watch-films-in-a-theater-or-at-home.csv\"\n",
    "\n",
    "\n",
    "df_archive = pd.read_csv(archive_path)\n",
    "df_ticket_sales = pd.read_csv(ticket_sales_path)\n",
    "df_gross = pd.read_csv(gross_path)\n",
    "df_creative_types = pd.read_csv(creative_types_path)\n",
    "df_top_distributors = pd.read_csv(top_distributors_path)\n",
    "df_genres = pd.read_csv(top_genres_path)\n",
    "df_ratings = pd.read_csv(top_gross_ratings_path)\n",
    "df_source = pd.read_csv(top_gross_source_path)\n",
    "df_production = pd.read_csv(top_production_path)\n",
    "df_sub_count = pd.read_csv(subscriber_count_path)\n",
    "df_ticket_sold = pd.read_csv(ticket_sold_path)\n",
    "df_sub_price = pd.read_csv(subscription_price_path)\n",
    "df_user_share = pd.read_csv(user_share_path)\n",
    "df_hulu = pd.read_csv(hulu_subscribers)\n",
    "df_disney = pd.read_csv(disney_subscribers)\n",
    "df_home_vs_theater = pd.read_csv(home_vs_theater_path)\n"
   ]
  },
  {
   "cell_type": "code",
   "execution_count": null,
   "id": "8e5c9153-507c-4e8a-af93-2fdec0eed5d8",
   "metadata": {},
   "outputs": [],
   "source": [
    "\n"
   ]
  },
  {
   "cell_type": "code",
   "execution_count": null,
   "id": "d2d065b4-0864-4a9a-a606-f210d103735a",
   "metadata": {},
   "outputs": [],
   "source": []
  }
 ],
 "metadata": {
  "kernelspec": {
   "display_name": "Python 3 (ipykernel)",
   "language": "python",
   "name": "python3"
  },
  "language_info": {
   "codemirror_mode": {
    "name": "ipython",
    "version": 3
   },
   "file_extension": ".py",
   "mimetype": "text/x-python",
   "name": "python",
   "nbconvert_exporter": "python",
   "pygments_lexer": "ipython3",
   "version": "3.10.9"
  }
 },
 "nbformat": 4,
 "nbformat_minor": 5
}
