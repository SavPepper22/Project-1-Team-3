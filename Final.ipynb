{
 "cells": [
  {
   "cell_type": "code",
   "execution_count": 1,
   "id": "ef3250cf-14fc-4d3f-b56b-486ce36c72cd",
   "metadata": {},
   "outputs": [],
   "source": [
    "# Project 1 Team 3\n",
    "\n",
    "import matplotlib.pyplot as plt\n",
    "import pandas as pd\n",
    "import os\n",
    "\n",
    "archive_path = \"archive/MoviesOnStreamingPlatforms.csv\"\n",
    "ticket_sales_path = \"TicketSales/AnnualTicketSales.csv\"\n",
    "gross_path = \"TicketSales/HighestGrossers.csv\"\n",
    "creative_types_path = \"TicketSales/PopularCreativeTypes.csv\"\n",
    "top_distributors_path = \"TicketSales/TopDistributors.csv\"\n",
    "top_genres_path = \"TicketSales/TopGenres.csv\"\n",
    "top_gross_ratings_path = \"TicketSales/TopGrossingRatings.csv\"\n",
    "top_gross_source_path = \"TicketSales/TopGrossingSources.csv\"\n",
    "top_production_path = \"TicketSales/TopProductionMethods.csv\"\n",
    "subscriber_count_path = \"subscription/svod-subscriber-count.csv\"\n",
    "ticket_sold_path = \"subscription/tickets-sold-at-box-offices.csv\"\n",
    "subscription_price_path = \"subscription/svod-services-monthly-subscription-price.csv\"\n",
    "user_share_path = \"subscription/svod-service-user-shares.csv\"\n",
    "hulu_subscribers = \"subscription/hulus-paying-subscribers.csv\"\n",
    "disney_subscribers = \"subscription/disney-subscribers-count.csv\"\n",
    "home_vs_theater_path = \"subscription/adults-who-preferred-to-watch-films-in-a-theater-or-at-home.csv\"\n",
    "netflix_subscribers = \"subscription/statistic_id250937_quarterly-netflix-paid-streaming-subscribers-in-the-us-and-canada-2013-2023.csv\"\n",
    "\n",
    "\n",
    "df_archive = pd.read_csv(archive_path)\n",
    "df_ticket_sales = pd.read_csv(ticket_sales_path)\n",
    "df_gross = pd.read_csv(gross_path)\n",
    "df_creative_types = pd.read_csv(creative_types_path)\n",
    "df_top_distributors = pd.read_csv(top_distributors_path)\n",
    "df_genres = pd.read_csv(top_genres_path)\n",
    "df_ratings = pd.read_csv(top_gross_ratings_path)\n",
    "df_source = pd.read_csv(top_gross_source_path)\n",
    "df_production = pd.read_csv(top_production_path)\n",
    "df_sub_count = pd.read_csv(subscriber_count_path)\n",
    "df_ticket_sold = pd.read_csv(ticket_sold_path)\n",
    "df_sub_price = pd.read_csv(subscription_price_path)\n",
    "df_user_share = pd.read_csv(user_share_path)\n",
    "df_hulu = pd.read_csv(hulu_subscribers)\n",
    "df_disney = pd.read_csv(disney_subscribers)\n",
    "df_home_vs_theater = pd.read_csv(home_vs_theater_path)\n",
    "df_netflix = pd.read_csv(netflix_subscribers)\n",
    "\n",
    "\n",
    "\n"
   ]
  },
  {
   "cell_type": "code",
   "execution_count": 2,
   "id": "8e5c9153-507c-4e8a-af93-2fdec0eed5d8",
   "metadata": {},
   "outputs": [],
   "source": [
    "\n"
   ]
  },
  {
   "cell_type": "code",
   "execution_count": null,
   "id": "594f8899-51c4-4da2-915e-ca9508945b9a",
   "metadata": {},
   "outputs": [],
   "source": [
    "# Merge Hulu, Disney, and Netflix Subs"
   ]
  },
  {
   "cell_type": "code",
   "execution_count": 32,
   "id": "2c997421-249b-4137-ad25-a8d145bdb4ca",
   "metadata": {},
   "outputs": [],
   "source": [
    "left = pd.read_csv(hulu_subscribers)\n",
    "right = pd.read_csv(disney_subscribers)\n",
    "right2 = pd.read_csv(netflix_subscribers)\n",
    "\n",
    "\n",
    "result = pd.merge(left, right, on=[\"Quarter\", \"Year\", \"Subs\"], how=\"outer\")\n",
    "\n",
    "final_result = pd.merge(result, right2, on=[\"Quarter\", \"Year\", \"Subs\"], how=\"outer\")"
   ]
  },
  {
   "cell_type": "code",
   "execution_count": 34,
   "id": "2b682188-d2db-4746-a61f-90a2169e95b3",
   "metadata": {},
   "outputs": [
    {
     "name": "stdout",
     "output_type": "stream",
     "text": [
      "   Quarter  Year   Subs\n",
      "0       Q4  2010   0.30\n",
      "1       Q1  2011   0.50\n",
      "2       Q2  2011   0.90\n",
      "3       Q3  2011   1.20\n",
      "4       Q4  2011   1.50\n",
      "..     ...   ...    ...\n",
      "88      Q1  2022  74.58\n",
      "89      Q2  2022  73.28\n",
      "90      Q3  2022  73.39\n",
      "91      Q4  2022  74.30\n",
      "92      Q1  2023  74.40\n",
      "\n",
      "[93 rows x 3 columns]\n"
     ]
    }
   ],
   "source": [
    "print(final_result)"
   ]
  },
  {
   "cell_type": "code",
   "execution_count": null,
   "id": "9a682bcb-71a1-4efa-809b-f86cbe17a09e",
   "metadata": {},
   "outputs": [],
   "source": []
  }
 ],
 "metadata": {
  "kernelspec": {
   "display_name": "Python 3 (ipykernel)",
   "language": "python",
   "name": "python3"
  },
  "language_info": {
   "codemirror_mode": {
    "name": "ipython",
    "version": 3
   },
   "file_extension": ".py",
   "mimetype": "text/x-python",
   "name": "python",
   "nbconvert_exporter": "python",
   "pygments_lexer": "ipython3",
   "version": "3.10.9"
  }
 },
 "nbformat": 4,
 "nbformat_minor": 5
}
