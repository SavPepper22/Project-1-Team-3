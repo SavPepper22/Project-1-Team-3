{
 "cells": [
  {
   "cell_type": "code",
   "execution_count": 1,
   "id": "ef3250cf-14fc-4d3f-b56b-486ce36c72cd",
   "metadata": {},
   "outputs": [],
   "source": [
    "# Project 1 Team 3\n",
    "# Set Dependencies \n",
    "import matplotlib.pyplot as plt\n",
    "import pandas as pd\n",
    "import os\n",
    "import numpy as np\n",
    "\n",
    "archive_path = \"archive/MoviesOnStreamingPlatforms.csv\"\n",
    "ticket_sales_path = \"TicketSales/AnnualTicketSales.csv\"\n",
    "gross_path = \"TicketSales/HighestGrossers.csv\"\n",
    "creative_types_path = \"TicketSales/PopularCreativeTypes.csv\"\n",
    "top_distributors_path = \"TicketSales/TopDistributors.csv\"\n",
    "top_genres_path = \"TicketSales/TopGenres.csv\"\n",
    "top_gross_ratings_path = \"TicketSales/TopGrossingRatings.csv\"\n",
    "top_gross_source_path = \"TicketSales/TopGrossingSources.csv\"\n",
    "top_production_path = \"TicketSales/TopProductionMethods.csv\"\n",
    "subscriber_count_path = \"subscription/svod-subscriber-count.csv\"\n",
    "ticket_sold_path = \"subscription/tickets-sold-at-box-offices.csv\"\n",
    "subscription_price_path = \"subscription/svod-services-monthly-subscription-price.csv\"\n",
    "user_share_path = \"subscription/svod-service-user-shares.csv\"\n",
    "hulu_subscribers = \"subscription/hulus-paying-subscribers-copy.csv\"\n",
    "disney_subscribers = \"subscription/disney-subscribers-count-copy.csv\"\n",
    "home_vs_theater_path = \"subscription/adults-who-preferred-to-watch-films-in-a-theater-or-at-home.csv\"\n",
    "netflix_subscribers = \"subscription/statistic_id250937_quarterly-netflix-paid-streaming-subscribers-in-the-us-and-canada-2013-2023-copy.csv\"\n",
    "alberto_hulus = \"subscription/alberto-hulus.csv\"\n",
    "alberto_disney = \"subscription/alberto-disney.csv\"\n",
    "alberto_netflix = \"subscription/alberto-netflix.csv\"\n",
    "alberto_box_office = \"subscription/alberto-box-office.csv\"\n",
    "\n",
    "df_archive = pd.read_csv(archive_path)\n",
    "df_ticket_sales = pd.read_csv(ticket_sales_path)\n",
    "df_gross = pd.read_csv(gross_path)\n",
    "df_creative_types = pd.read_csv(creative_types_path)\n",
    "df_top_distributors = pd.read_csv(top_distributors_path)\n",
    "df_genres = pd.read_csv(top_genres_path)\n",
    "df_ratings = pd.read_csv(top_gross_ratings_path)\n",
    "df_source = pd.read_csv(top_gross_source_path)\n",
    "df_production = pd.read_csv(top_production_path)\n",
    "df_sub_count = pd.read_csv(subscriber_count_path)\n",
    "df_ticket_sold = pd.read_csv(ticket_sold_path)\n",
    "df_sub_price = pd.read_csv(subscription_price_path)\n",
    "df_user_share = pd.read_csv(user_share_path)\n",
    "df_hulu = pd.read_csv(hulu_subscribers)\n",
    "df_disney = pd.read_csv(disney_subscribers)\n",
    "df_home_vs_theater = pd.read_csv(home_vs_theater_path)\n",
    "df_netflix = pd.read_csv(netflix_subscribers)\n",
    "df_anetflix = pd.read_csv(alberto_netflix)\n",
    "df_ahulus = pd.read_csv(alberto_hulus)\n",
    "df_adisney = pd.read_csv(alberto_disney)\n",
    "df_box_office = pd.read_csv(alberto_box_office)\n",
    "\n",
    "\n"
   ]
  },
  {
   "cell_type": "code",
   "execution_count": 2,
   "id": "594f8899-51c4-4da2-915e-ca9508945b9a",
   "metadata": {},
   "outputs": [],
   "source": [
    "# Merge Hulu, Disney, and Netflix Subs"
   ]
  },
  {
   "cell_type": "code",
   "execution_count": 3,
   "id": "2c997421-249b-4137-ad25-a8d145bdb4ca",
   "metadata": {},
   "outputs": [],
   "source": [
    "left = pd.read_csv(alberto_hulus)\n",
    "right = pd.read_csv(alberto_disney)\n",
    "right2 = pd.read_csv(alberto_netflix)\n",
    "\n",
    "\n",
    "\n",
    "result = pd.merge(left, right, on=[\"Year\",\"Subs\"], how=\"outer\")\n",
    "\n",
    "final_result = pd.merge(result, right2, on=[\"Year\",\"Subs\"], how=\"outer\")"
   ]
  },
  {
   "cell_type": "code",
   "execution_count": 4,
   "id": "e791ed19-fe86-4405-9a87-b42d6e125473",
   "metadata": {},
   "outputs": [],
   "source": [
    "# Print Final Result & Send To CSV"
   ]
  },
  {
   "cell_type": "code",
   "execution_count": 5,
   "id": "2b682188-d2db-4746-a61f-90a2169e95b3",
   "metadata": {},
   "outputs": [
    {
     "name": "stdout",
     "output_type": "stream",
     "text": [
      "   Year    Subs\n",
      "0  2018   20.00\n",
      "1  2022  184.30\n",
      "2  2022  583.80\n",
      "3  2018  250.55\n",
      "4  2022  295.55\n"
     ]
    }
   ],
   "source": [
    "print(final_result)"
   ]
  },
  {
   "cell_type": "code",
   "execution_count": 6,
   "id": "9a682bcb-71a1-4efa-809b-f86cbe17a09e",
   "metadata": {},
   "outputs": [],
   "source": [
    "final_result.to_csv('streaming_subs_totals.csv')"
   ]
  },
  {
   "cell_type": "code",
   "execution_count": 7,
   "id": "c8e118a0-432a-4c71-a9f2-b27f01c42130",
   "metadata": {},
   "outputs": [],
   "source": [
    "streaming_services_totals = \"subscription/streaming_subs_totals.csv\"\n",
    "\n",
    "\n",
    "df_streaming_services_totals = pd.read_csv(streaming_services_totals)"
   ]
  },
  {
   "cell_type": "code",
   "execution_count": 8,
   "id": "65b271f4-e45c-4c76-a1b5-acfe1aa59770",
   "metadata": {},
   "outputs": [],
   "source": [
    "# Merge DFs & Export to CSV to Edit"
   ]
  },
  {
   "cell_type": "code",
   "execution_count": 9,
   "id": "86d95ecd-3c55-4e0e-a883-5f14943b080f",
   "metadata": {},
   "outputs": [],
   "source": [
    "left1 = pd.read_csv(streaming_services_totals)\n",
    "right1 = pd.read_csv(alberto_box_office)\n",
    "\n",
    "result = pd.merge(left1, right1, on=[\"Year\",\"Sales\"], how=\"outer\")\n",
    "\n",
    "result.to_csv('sales_2018_2022.csv')"
   ]
  },
  {
   "cell_type": "code",
   "execution_count": 10,
   "id": "58328afc-7114-4aa8-825f-76fabd5cd07b",
   "metadata": {},
   "outputs": [
    {
     "data": {
      "text/html": [
       "<div>\n",
       "<style scoped>\n",
       "    .dataframe tbody tr th:only-of-type {\n",
       "        vertical-align: middle;\n",
       "    }\n",
       "\n",
       "    .dataframe tbody tr th {\n",
       "        vertical-align: top;\n",
       "    }\n",
       "\n",
       "    .dataframe thead th {\n",
       "        text-align: right;\n",
       "    }\n",
       "</style>\n",
       "<table border=\"1\" class=\"dataframe\">\n",
       "  <thead>\n",
       "    <tr style=\"text-align: right;\">\n",
       "      <th></th>\n",
       "      <th>Unnamed: 0</th>\n",
       "      <th>Year</th>\n",
       "      <th>Sales</th>\n",
       "    </tr>\n",
       "  </thead>\n",
       "  <tbody>\n",
       "    <tr>\n",
       "      <th>0</th>\n",
       "      <td>0</td>\n",
       "      <td>2018</td>\n",
       "      <td>270.55</td>\n",
       "    </tr>\n",
       "    <tr>\n",
       "      <th>1</th>\n",
       "      <td>1</td>\n",
       "      <td>2022</td>\n",
       "      <td>1063.65</td>\n",
       "    </tr>\n",
       "    <tr>\n",
       "      <th>2</th>\n",
       "      <td>5</td>\n",
       "      <td>2018</td>\n",
       "      <td>1311.30</td>\n",
       "    </tr>\n",
       "    <tr>\n",
       "      <th>3</th>\n",
       "      <td>6</td>\n",
       "      <td>2022</td>\n",
       "      <td>812.79</td>\n",
       "    </tr>\n",
       "  </tbody>\n",
       "</table>\n",
       "</div>"
      ],
      "text/plain": [
       "   Unnamed: 0  Year    Sales\n",
       "0           0  2018   270.55\n",
       "1           1  2022  1063.65\n",
       "2           5  2018  1311.30\n",
       "3           6  2022   812.79"
      ]
     },
     "execution_count": 10,
     "metadata": {},
     "output_type": "execute_result"
    }
   ],
   "source": [
    "sales = \"subscription/sales_2018_2022e.csv\"\n",
    "df_sales = pd.read_csv(sales)\n",
    "\n",
    "\n",
    "df_sales"
   ]
  },
  {
   "cell_type": "code",
   "execution_count": 11,
   "id": "28b1c919-272a-4835-b302-3a8442d470cc",
   "metadata": {},
   "outputs": [
    {
     "data": {
      "text/plain": [
       "Text(0, 0.5, 'Sales in Millions')"
      ]
     },
     "execution_count": 11,
     "metadata": {},
     "output_type": "execute_result"
    },
    {
     "data": {
      "image/png": "[encoded data removed]",
      "text/plain": [
       "<Figure size 640x480 with 1 Axes>"
      ]
     },
     "metadata": {},
     "output_type": "display_data"
    }
   ],
   "source": [
    "#Plot DF and Bar Chart\n",
    "df_final = pd.DataFrame({'Year':[2018, 2022],'Streaming': [270.55, 1063.65], 'Movies':[1311.30, 812.79]})\n",
    "#Plot Columns\n",
    "df_final[['Year', 'Streaming', 'Movies']].plot(x='Year', color={\"Streaming\": \"Red\", \"Movies\": \"Green\"}, title=\"Pre & Post Pandemic Years Sales Differences\", kind='bar')\n",
    "\n",
    "plt.xticks(rotation='horizontal')\n",
    "plt.ylabel(\"Sales in Millions\")"
   ]
  },
  {
   "cell_type": "code",
   "execution_count": 12,
   "id": "560480ac-62e8-4312-b63d-714a5daa7571",
   "metadata": {},
   "outputs": [],
   "source": [
    "#Offload to PNG"
   ]
  }
 ],
 "metadata": {
  "kernelspec": {
   "display_name": "Python 3 (ipykernel)",
   "language": "python",
   "name": "python3"
  },
  "language_info": {
   "codemirror_mode": {
    "name": "ipython",
    "version": 3
   },
   "file_extension": ".py",
   "mimetype": "text/x-python",
   "name": "python",
   "nbconvert_exporter": "python",
   "pygments_lexer": "ipython3",
   "version": "3.10.9"
  }
 },
 "nbformat": 4,
 "nbformat_minor": 5
}
